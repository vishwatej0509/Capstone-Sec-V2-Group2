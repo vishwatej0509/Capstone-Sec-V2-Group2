{
 "cells": [
  {
   "cell_type": "code",
   "execution_count": 1,
   "id": "1003bcd0",
   "metadata": {
    "_cell_guid": "b1076dfc-b9ad-4769-8c92-a6c4dae69d19",
    "_uuid": "8f2839f25d086af736a60e9eeb907d3b93b6e0e5",
    "execution": {
     "iopub.execute_input": "2024-11-25T18:09:13.936832Z",
     "iopub.status.busy": "2024-11-25T18:09:13.936467Z",
     "iopub.status.idle": "2024-11-25T18:09:33.262954Z",
     "shell.execute_reply": "2024-11-25T18:09:33.261533Z"
    },
    "papermill": {
     "duration": 19.335165,
     "end_time": "2024-11-25T18:09:33.265243",
     "exception": false,
     "start_time": "2024-11-25T18:09:13.930078",
     "status": "completed"
    },
    "tags": []
   },
   "outputs": [],
   "source": [
    "!pip install torchsummary --quiet\n",
    "!pip install torchmetrics==0.10.0 --quiet"
   ]
  },
  {
   "cell_type": "code",
   "execution_count": 2,
   "id": "738f326d",
   "metadata": {
    "execution": {
     "iopub.execute_input": "2024-11-25T18:09:33.275884Z",
     "iopub.status.busy": "2024-11-25T18:09:33.275514Z",
     "iopub.status.idle": "2024-11-25T18:09:33.279750Z",
     "shell.execute_reply": "2024-11-25T18:09:33.278911Z"
    },
    "papermill": {
     "duration": 0.011336,
     "end_time": "2024-11-25T18:09:33.281330",
     "exception": false,
     "start_time": "2024-11-25T18:09:33.269994",
     "status": "completed"
    },
    "tags": []
   },
   "outputs": [],
   "source": [
    "# !pip3 install torch torchvision torchaudio --force-reinstall"
   ]
  },
  {
   "cell_type": "code",
   "execution_count": 3,
   "id": "8b296cae",
   "metadata": {
    "execution": {
     "iopub.execute_input": "2024-11-25T18:09:33.290915Z",
     "iopub.status.busy": "2024-11-25T18:09:33.290649Z",
     "iopub.status.idle": "2024-11-25T18:09:34.395013Z",
     "shell.execute_reply": "2024-11-25T18:09:34.393983Z"
    },
    "papermill": {
     "duration": 1.111703,
     "end_time": "2024-11-25T18:09:34.397253",
     "exception": false,
     "start_time": "2024-11-25T18:09:33.285550",
     "status": "completed"
    },
    "tags": []
   },
   "outputs": [
    {
     "name": "stdout",
     "output_type": "stream",
     "text": [
      "Mon Nov 25 18:09:34 2024       \r\n",
      "+-----------------------------------------------------------------------------------------+\r\n",
      "| NVIDIA-SMI 560.35.03              Driver Version: 560.35.03      CUDA Version: 12.6     |\r\n",
      "|-----------------------------------------+------------------------+----------------------+\r\n",
      "| GPU  Name                 Persistence-M | Bus-Id          Disp.A | Volatile Uncorr. ECC |\r\n",
      "| Fan  Temp   Perf          Pwr:Usage/Cap |           Memory-Usage | GPU-Util  Compute M. |\r\n",
      "|                                         |                        |               MIG M. |\r\n",
      "|=========================================+========================+======================|\r\n",
      "|   0  Tesla T4                       Off |   00000000:00:04.0 Off |                    0 |\r\n",
      "| N/A   45C    P8              9W /   70W |       1MiB /  15360MiB |      0%      Default |\r\n",
      "|                                         |                        |                  N/A |\r\n",
      "+-----------------------------------------+------------------------+----------------------+\r\n",
      "|   1  Tesla T4                       Off |   00000000:00:05.0 Off |                    0 |\r\n",
      "| N/A   47C    P8             10W /   70W |       1MiB /  15360MiB |      0%      Default |\r\n",
      "|                                         |                        |                  N/A |\r\n",
      "+-----------------------------------------+------------------------+----------------------+\r\n",
      "                                                                                         \r\n",
      "+-----------------------------------------------------------------------------------------+\r\n",
      "| Processes:                                                                              |\r\n",
      "|  GPU   GI   CI        PID   Type   Process name                              GPU Memory |\r\n",
      "|        ID   ID                                                               Usage      |\r\n",
      "|=========================================================================================|\r\n",
      "|  No running processes found                                                             |\r\n",
      "+-----------------------------------------------------------------------------------------+\r\n"
     ]
    }
   ],
   "source": [
    "!nvidia-smi"
   ]
  },
  {
   "cell_type": "code",
   "execution_count": 4,
   "id": "dd114d20",
   "metadata": {
    "execution": {
     "iopub.execute_input": "2024-11-25T18:09:34.408559Z",
     "iopub.status.busy": "2024-11-25T18:09:34.408271Z",
     "iopub.status.idle": "2024-11-25T18:09:42.272940Z",
     "shell.execute_reply": "2024-11-25T18:09:42.271644Z"
    },
    "papermill": {
     "duration": 7.872121,
     "end_time": "2024-11-25T18:09:42.275031",
     "exception": false,
     "start_time": "2024-11-25T18:09:34.402910",
     "status": "completed"
    },
    "tags": []
   },
   "outputs": [
    {
     "name": "stdout",
     "output_type": "stream",
     "text": [
      "Name: accelerate\r\n",
      "Version: 0.34.2\r\n",
      "Summary: Accelerate\r\n",
      "Home-page: https://github.com/huggingface/accelerate\r\n",
      "Author: The HuggingFace team\r\n",
      "Author-email: zach.mueller@huggingface.co\r\n",
      "License: Apache\r\n",
      "Location: /opt/conda/lib/python3.10/site-packages\r\n",
      "Requires: huggingface-hub, numpy, packaging, psutil, pyyaml, safetensors, torch\r\n",
      "Required-by: \r\n"
     ]
    }
   ],
   "source": [
    "!pip show accelerate"
   ]
  },
  {
   "cell_type": "code",
   "execution_count": 5,
   "id": "538d42b7",
   "metadata": {
    "execution": {
     "iopub.execute_input": "2024-11-25T18:09:42.285187Z",
     "iopub.status.busy": "2024-11-25T18:09:42.284888Z",
     "iopub.status.idle": "2024-11-25T18:09:55.545600Z",
     "shell.execute_reply": "2024-11-25T18:09:55.544925Z"
    },
    "papermill": {
     "duration": 13.268059,
     "end_time": "2024-11-25T18:09:55.547555",
     "exception": false,
     "start_time": "2024-11-25T18:09:42.279496",
     "status": "completed"
    },
    "tags": []
   },
   "outputs": [
    {
     "name": "stderr",
     "output_type": "stream",
     "text": [
      "US1_J2KR.dcm:   0%|          | 38.0/154k [00:00<01:12, 2.11kB/s]\n",
      "MR-SIEMENS-DICOM-WithOverlays.dcm:   0%|          | 125/511k [00:00<02:21, 3.61kB/s]\n",
      "OBXXXX1A.dcm:   0%|          | 119/486k [00:00<02:21, 3.43kB/s]\n",
      "US1_UNCR.dcm:   0%|          | 226/923k [00:00<03:18, 4.64kB/s]\n",
      "color3d_jpeg_baseline.dcm:   0%|          | 1.50k/6.14M [00:00<05:31, 18.5kB/s]\n"
     ]
    }
   ],
   "source": [
    "import os\n",
    "import torch\n",
    "import torchvision\n",
    "# import torchfunc\n",
    "import torch.nn as nn\n",
    "import torch.nn.functional as F\n",
    "from torch.optim.lr_scheduler import OneCycleLR\n",
    "\n",
    "from torch.utils.data import DataLoader, Dataset\n",
    "from torchvision import transforms\n",
    "import torchvision.transforms as tt\n",
    "from torch.utils.data import random_split\n",
    "from torchvision.utils import make_grid\n",
    "from torchvision.datasets.utils import download_url\n",
    "from torchvision.datasets import ImageFolder\n",
    "from torchsummary import summary\n",
    "# from torch.cuda import amp\n",
    "\n",
    "import random\n",
    "import nibabel as nib\n",
    "\n",
    "import timm\n",
    "\n",
    "# Import M3d-CAM\n",
    "# from medcam import medcam\n",
    "\n",
    "import copy\n",
    "from sklearn.metrics import classification_report, confusion_matrix\n",
    "\n",
    "import tarfile\n",
    "\n",
    "import numpy as np\n",
    "import pandas as pd\n",
    "import matplotlib\n",
    "import matplotlib.pyplot as plt\n",
    "import random\n",
    "%matplotlib inline\n",
    "\n",
    "from sklearn.metrics import f1_score\n",
    "\n",
    "from tqdm import tqdm\n",
    "import wandb\n",
    "\n",
    "from glob import glob\n",
    "\n",
    "import cv2 \n",
    "import time\n",
    "from datetime import timedelta, datetime\n",
    "# import gdown\n",
    "from PIL import Image\n",
    "import PIL\n",
    "matplotlib.rcParams['figure.facecolor'] = '#ffffff'\n",
    "\n",
    "\n",
    "# Accelerate parts\n",
    "from accelerate import Accelerator, notebook_launcher # main interface, distributed launcher\n",
    "from accelerate.utils import set_seed # reproducability across devices"
   ]
  },
  {
   "cell_type": "code",
   "execution_count": 6,
   "id": "a7676ca4",
   "metadata": {
    "execution": {
     "iopub.execute_input": "2024-11-25T18:09:55.559123Z",
     "iopub.status.busy": "2024-11-25T18:09:55.558686Z",
     "iopub.status.idle": "2024-11-25T18:09:55.602647Z",
     "shell.execute_reply": "2024-11-25T18:09:55.601737Z"
    },
    "papermill": {
     "duration": 0.05138,
     "end_time": "2024-11-25T18:09:55.604177",
     "exception": false,
     "start_time": "2024-11-25T18:09:55.552797",
     "status": "completed"
    },
    "tags": []
   },
   "outputs": [
    {
     "name": "stdout",
     "output_type": "stream",
     "text": [
      "16\n"
     ]
    }
   ],
   "source": [
    "SEED_VAL = 7\n",
    "N_CLASSES_main = 1\n",
    "N_CLASSES_js = 30\n",
    "\n",
    "\n",
    "\n",
    "def seed_everything(seed: int):\n",
    "    \n",
    "    random.seed(seed)\n",
    "    os.environ['PYTHONHASHSEED'] = str(seed)\n",
    "    np.random.seed(seed)\n",
    "    torch.manual_seed(seed)\n",
    "    torch.cuda.manual_seed(seed)\n",
    "    torch.backends.cudnn.deterministic = True\n",
    "#     torch.backends.cudnn.benchmark = True\n",
    "    \n",
    "seed_everything(SEED_VAL)\n",
    "\n",
    "order = torch.randint(low = 1, \n",
    "                      high = 31,\n",
    "                      size = ()) \n",
    "print(order.item())\n"
   ]
  },
  {
   "cell_type": "code",
   "execution_count": 7,
   "id": "3a9d5443",
   "metadata": {
    "execution": {
     "iopub.execute_input": "2024-11-25T18:09:55.615337Z",
     "iopub.status.busy": "2024-11-25T18:09:55.615055Z",
     "iopub.status.idle": "2024-11-25T18:09:59.625980Z",
     "shell.execute_reply": "2024-11-25T18:09:59.625242Z"
    },
    "papermill": {
     "duration": 4.018927,
     "end_time": "2024-11-25T18:09:59.627940",
     "exception": false,
     "start_time": "2024-11-25T18:09:55.609013",
     "status": "completed"
    },
    "tags": []
   },
   "outputs": [
    {
     "name": "stdout",
     "output_type": "stream",
     "text": [
      "\u001b[34m\u001b[1mwandb\u001b[0m: \u001b[33mWARNING\u001b[0m If you're specifying your api key in code, ensure this code is not shared publicly.\r\n",
      "\u001b[34m\u001b[1mwandb\u001b[0m: \u001b[33mWARNING\u001b[0m Consider setting the WANDB_API_KEY environment variable, or running `wandb login` from the command line.\r\n",
      "\u001b[34m\u001b[1mwandb\u001b[0m: Appending key for api.wandb.ai to your netrc file: /root/.netrc\r\n"
     ]
    },
    {
     "name": "stderr",
     "output_type": "stream",
     "text": [
      "\u001b[34m\u001b[1mwandb\u001b[0m: Using wandb-core as the SDK backend. Please refer to https://wandb.me/wandb-core for more information.\n",
      "\u001b[34m\u001b[1mwandb\u001b[0m: Currently logged in as: \u001b[33mvish-tej99\u001b[0m (\u001b[33mvish-tej99-fairleigh-dickinson-university\u001b[0m). Use \u001b[1m`wandb login --relogin`\u001b[0m to force relogin\n",
      "\u001b[34m\u001b[1mwandb\u001b[0m: Tracking run with wandb version 0.18.1\n",
      "\u001b[34m\u001b[1mwandb\u001b[0m: Run data is saved locally in \u001b[35m\u001b[1m/kaggle/working/wandb/run-20241125_180958-lhhi20wf\u001b[0m\n",
      "\u001b[34m\u001b[1mwandb\u001b[0m: Run \u001b[1m`wandb offline`\u001b[0m to turn off syncing.\n",
      "\u001b[34m\u001b[1mwandb\u001b[0m: Syncing run \u001b[33mtrail_2024-11-25 18:09:58.422502\u001b[0m\n",
      "\u001b[34m\u001b[1mwandb\u001b[0m: ⭐️ View project at \u001b[34m\u001b[4mhttps://wandb.ai/vish-tej99-fairleigh-dickinson-university/image_deraining_baseline\u001b[0m\n",
      "\u001b[34m\u001b[1mwandb\u001b[0m: 🚀 View run at \u001b[34m\u001b[4mhttps://wandb.ai/vish-tej99-fairleigh-dickinson-university/image_deraining_baseline/runs/lhhi20wf\u001b[0m\n"
     ]
    }
   ],
   "source": [
    "!wandb login 9bcca10ca9e53a56c143feea922812a4d99a5dd7\n",
    "\n",
    "wandb_run = wandb.init(project = f'image_deraining_baseline',\n",
    "                       name = f'trail_{datetime.now()}')"
   ]
  },
  {
   "cell_type": "code",
   "execution_count": 8,
   "id": "3448b9ce",
   "metadata": {
    "execution": {
     "iopub.execute_input": "2024-11-25T18:09:59.640377Z",
     "iopub.status.busy": "2024-11-25T18:09:59.640091Z",
     "iopub.status.idle": "2024-11-25T18:09:59.644387Z",
     "shell.execute_reply": "2024-11-25T18:09:59.643597Z"
    },
    "papermill": {
     "duration": 0.012201,
     "end_time": "2024-11-25T18:09:59.645911",
     "exception": false,
     "start_time": "2024-11-25T18:09:59.633710",
     "status": "completed"
    },
    "tags": []
   },
   "outputs": [],
   "source": [
    "# def get_default_device():\n",
    "#     \"\"\"Pick GPU if available, else CPU\"\"\"\n",
    "#     if torch.cuda.is_available():\n",
    "#         return torch.device('cuda')\n",
    "#     else:\n",
    "#         return torch.device('cpu')\n",
    "    \n",
    "# def to_device(data, device):\n",
    "#     \"\"\"Move tensor(s) to chosen device\"\"\"\n",
    "#     if isinstance(data, (list,tuple)):\n",
    "#         return [to_device(x, device) for x in data]\n",
    "#     return data.to(device, non_blocking=True)\n",
    "\n",
    "# class DeviceDataLoader():\n",
    "#     \"\"\"Wrap a dataloader to move data to a device\"\"\"\n",
    "#     def __init__(self, dl, device):\n",
    "#         self.dl = dl\n",
    "#         self.device = device\n",
    "        \n",
    "#     def __iter__(self):\n",
    "#         \"\"\"Yield a batch of data after moving it to device\"\"\"\n",
    "#         for b in self.dl: \n",
    "#             yield to_device(b, self.device)\n",
    "\n",
    "#     def __len__(self):\n",
    "#         \"\"\"Number of batches\"\"\"\n",
    "#         return len(self.dl)"
   ]
  },
  {
   "cell_type": "code",
   "execution_count": 9,
   "id": "b9c79f49",
   "metadata": {
    "execution": {
     "iopub.execute_input": "2024-11-25T18:09:59.657184Z",
     "iopub.status.busy": "2024-11-25T18:09:59.656936Z",
     "iopub.status.idle": "2024-11-25T18:09:59.670715Z",
     "shell.execute_reply": "2024-11-25T18:09:59.669907Z"
    },
    "papermill": {
     "duration": 0.021137,
     "end_time": "2024-11-25T18:09:59.672227",
     "exception": false,
     "start_time": "2024-11-25T18:09:59.651090",
     "status": "completed"
    },
    "tags": []
   },
   "outputs": [
    {
     "data": {
      "text/plain": [
       "inf"
      ]
     },
     "execution_count": 9,
     "metadata": {},
     "output_type": "execute_result"
    }
   ],
   "source": [
    "torch.tensor(float('inf')).item()"
   ]
  },
  {
   "cell_type": "code",
   "execution_count": 10,
   "id": "03e62684",
   "metadata": {
    "execution": {
     "iopub.execute_input": "2024-11-25T18:09:59.683649Z",
     "iopub.status.busy": "2024-11-25T18:09:59.683391Z",
     "iopub.status.idle": "2024-11-25T18:09:59.686960Z",
     "shell.execute_reply": "2024-11-25T18:09:59.686142Z"
    },
    "papermill": {
     "duration": 0.011282,
     "end_time": "2024-11-25T18:09:59.688765",
     "exception": false,
     "start_time": "2024-11-25T18:09:59.677483",
     "status": "completed"
    },
    "tags": []
   },
   "outputs": [],
   "source": [
    "# def get_default_device():\n",
    "#     \"\"\"Pick GPU if available, else CPU\"\"\"\n",
    "#     if torch.cuda.is_available():\n",
    "#         return torch.device('cuda')\n",
    "#     else:\n",
    "#         return torch.device('cpu')\n",
    "    \n",
    "# device = get_default_device()\n",
    "# print(device)"
   ]
  },
  {
   "cell_type": "code",
   "execution_count": null,
   "id": "238f1dd4",
   "metadata": {
    "execution": {
     "iopub.execute_input": "2024-11-25T18:09:59.700221Z",
     "iopub.status.busy": "2024-11-25T18:09:59.700000Z",
     "iopub.status.idle": "2024-11-25T18:09:59.708640Z",
     "shell.execute_reply": "2024-11-25T18:09:59.708047Z"
    },
    "papermill": {
     "duration": 0.016284,
     "end_time": "2024-11-25T18:09:59.710256",
     "exception": false,
     "start_time": "2024-11-25T18:09:59.693972",
     "status": "completed"
    },
    "tags": []
   },
   "outputs": [],
   "source": [
    "class Custom_dataset_RainDS(Dataset):\n",
    "    def __init__(self, \n",
    "                 base_folder_path: str,\n",
    "                 transforms = None,\n",
    "                 mode: str = \"train\"):\n",
    "        self.base_folder_path = base_folder_path\n",
    "        self.transforms = transforms\n",
    "        self.mode = mode\n",
    "        \n",
    "        fPath_GT = os.path.join(base_folder_path, \"gt\")\n",
    "        fPath_rdrop = os.path.join(base_folder_path, \"raindrop\")\n",
    "        fPath_rstreak= os.path.join(base_folder_path, \"rainstreak\")\n",
    "        fPath_rdrop_rstreak= os.path.join(base_folder_path, \"rainstreak_raindrop\")\n",
    "        \n",
    "        files_list_GT = glob(os.path.join(fPath_GT, \"*.png\"))\n",
    "        files_list_rdrop = glob(os.path.join(fPath_rdrop, \"*.png\"))\n",
    "        files_list_rstreak = glob(os.path.join(fPath_rstreak, \"*.png\"))\n",
    "        files_list_rdrop_rstreak = glob(os.path.join(fPath_rdrop_rstreak, \"*.png\"))\n",
    "        \n",
    "        files_list_GT.sort()\n",
    "        files_list_rdrop.sort()\n",
    "        files_list_rstreak.sort()\n",
    "        files_list_rdrop_rstreak.sort()\n",
    "        \n",
    "        self.data = []\n",
    "        print(len(files_list_GT), len(files_list_rdrop), len(files_list_rstreak), len(files_list_rdrop_rstreak))\n",
    "        \n",
    "        for fname_GT, fname_rdrop in tqdm(zip(files_list_GT, files_list_rdrop)):\n",
    "            self.data.append([fname_GT, fname_rdrop])\n",
    "        \n",
    "        for fname_GT, fname_rstreak in tqdm(zip(files_list_GT, files_list_rstreak)):\n",
    "            self.data.append([fname_GT, fname_rstreak])\n",
    "        \n",
    "        for fname_GT, fname_rdrop_rstreak in tqdm(zip(files_list_GT, files_list_rdrop_rstreak)):\n",
    "            self.data.append([fname_GT, fname_rdrop_rstreak])\n",
    "        \n",
    "    def __len__(self):\n",
    "        return len(self.data)\n",
    "    \n",
    "    def __getitem__(self, idx):\n",
    "        fname_GT, fname_rain = self.data[idx]\n",
    "        # img_GT = cv2.imread(fname_GT) \n",
    "        # img_GT = cv2.cvtColor(img_GT, cv2.COLOR_BGR2RGB)\n",
    "        # img_rain = cv2.imread(fname_rain) \n",
    "        # img_rain = cv2.cvtColor(img_rain, cv2.COLOR_BGR2RGB)\n",
    "        img_GT = Image.open(fname_GT).convert('RGB')\n",
    "        img_rain = Image.open(fname_rain).convert('RGB')\n",
    "        \n",
    "        if self.transforms:\n",
    "            img_GT = self.transforms(img_GT)\n",
    "            img_rain = self.transforms(img_rain)\n",
    "            \n",
    "        return {\"img_rain\": img_rain,\n",
    "                \"img_GT\": img_GT}\n",
    "    \n",
    "class Custom_dataset_general(Dataset):\n",
    "    def __init__(self, \n",
    "                 files_data,\n",
    "                 transforms = None,\n",
    "                 mode: str = \"train\"):\n",
    "        self.transforms = transforms\n",
    "        self.mode = mode\n",
    "        \n",
    "        self.data = files_data\n",
    "        \n",
    "    def __len__(self):\n",
    "        return len(self.data)\n",
    "    \n",
    "    def __getitem__(self, idx):\n",
    "        fname_GT, fname_rain = self.data[idx]\n",
    "        # img_GT = cv2.imread(fname_GT) \n",
    "        # img_GT = cv2.cvtColor(img_GT, cv2.COLOR_BGR2RGB)\n",
    "        # img_rain = cv2.imread(fname_rain) \n",
    "        # img_rain = cv2.cvtColor(img_rain, cv2.COLOR_BGR2RGB)\n",
    "        img_GT = Image.open(fname_GT).convert('RGB')\n",
    "        img_rain = Image.open(fname_rain).convert('RGB')\n",
    "        \n",
    "        if self.transforms:\n",
    "            img_GT = self.transforms(img_GT)\n",
    "            img_rain = self.transforms(img_rain)\n",
    "            \n",
    "        return {\"img_rain\": img_rain,\n",
    "                \"img_GT\": img_GT}\n",
    "        \n",
    "def get_rainds_filesList(base_folder_path):\n",
    "    \n",
    "    fPath_GT = os.path.join(base_folder_path, \"gt\")\n",
    "    fPath_rdrop = os.path.join(base_folder_path, \"raindrop\")\n",
    "    fPath_rstreak= os.path.join(base_folder_path, \"rainstreak\")\n",
    "    fPath_rdrop_rstreak= os.path.join(base_folder_path, \"rainstreak_raindrop\")\n",
    "    \n",
    "    files_list_GT = glob(os.path.join(fPath_GT, \"*.png\"))\n",
    "    files_list_rdrop = glob(os.path.join(fPath_rdrop, \"*.png\"))\n",
    "    files_list_rstreak = glob(os.path.join(fPath_rstreak, \"*.png\"))\n",
    "    files_list_rdrop_rstreak = glob(os.path.join(fPath_rdrop_rstreak, \"*.png\"))\n",
    "    \n",
    "    files_list_GT.sort()\n",
    "    files_list_rdrop.sort()\n",
    "    files_list_rstreak.sort()\n",
    "    files_list_rdrop_rstreak.sort()\n",
    "\n",
    "    data = []\n",
    "    print(len(files_list_GT), len(files_list_rdrop), len(files_list_rstreak), len(files_list_rdrop_rstreak))\n",
    "    \n",
    "    for fname_GT, fname_rdrop in tqdm(zip(files_list_GT, files_list_rdrop)):\n",
    "        data.append([fname_GT, fname_rdrop])\n",
    "    \n",
    "    for fname_GT, fname_rstreak in tqdm(zip(files_list_GT, files_list_rstreak)):\n",
    "        data.append([fname_GT, fname_rstreak])\n",
    "    \n",
    "    for fname_GT, fname_rdrop_rstreak in tqdm(zip(files_list_GT, files_list_rdrop_rstreak)):\n",
    "        data.append([fname_GT, fname_rdrop_rstreak])\n",
    "\n",
    "    return data\n",
    "\n",
    "def get_gtrain_filesList(mode = \"train\"):\n",
    "    if mode==\"train\":\n",
    "        files_list_GT = glob(\"/kaggle/input/gt-rain/GT-RAIN_train-001/GT-RAIN_train/**/*-C-000.png\")\n",
    "        files_list_rain = glob(\"/kaggle/input/gt-rain/GT-RAIN_train-001/GT-RAIN_train/**/*-R-000.png\")\n",
    "\n",
    "        files_list_GT.sort()\n",
    "        files_list_rain.sort()\n",
    "    else:\n",
    "        files_list_GT = glob(\"/kaggle/input/gt-rain/GT-RAIN_train-001/GT-RAIN_train/**/*-C-000.png\")\n",
    "        files_list_rain = glob(\"/kaggle/input/gt-rain/GT-RAIN_train-001/GT-RAIN_train/**/*-R-000.png\")\n",
    "\n",
    "        files_list_GT.sort()\n",
    "        files_list_rain.sort()\n",
    "\n",
    "    data = []\n",
    "    for fname_GT, fname_rain in tqdm(zip(files_list_GT, files_list_rain)):\n",
    "        data.append([fname_GT, fname_rain])\n",
    "\n",
    "    return data\n",
    "    "
   ]
  },
  {
   "cell_type": "code",
   "execution_count": null,
   "id": "73fe94b4",
   "metadata": {
    "execution": {
     "iopub.execute_input": "2024-11-25T18:09:59.721665Z",
     "iopub.status.busy": "2024-11-25T18:09:59.721395Z",
     "iopub.status.idle": "2024-11-25T18:10:00.061307Z",
     "shell.execute_reply": "2024-11-25T18:10:00.060225Z"
    },
    "papermill": {
     "duration": 0.347652,
     "end_time": "2024-11-25T18:10:00.063145",
     "exception": false,
     "start_time": "2024-11-25T18:09:59.715493",
     "status": "completed"
    },
    "tags": []
   },
   "outputs": [
    {
     "name": "stdout",
     "output_type": "stream",
     "text": [
      "150 150 150 150\n"
     ]
    },
    {
     "name": "stderr",
     "output_type": "stream",
     "text": [
      "150it [00:00, 460575.11it/s]\n",
      "150it [00:00, 252872.03it/s]\n",
      "150it [00:00, 113196.40it/s]\n"
     ]
    },
    {
     "name": "stdout",
     "output_type": "stream",
     "text": [
      "98 98 98 98\n"
     ]
    },
    {
     "name": "stderr",
     "output_type": "stream",
     "text": [
      "98it [00:00, 111333.10it/s]\n",
      "98it [00:00, 244086.57it/s]\n",
      "98it [00:00, 346578.24it/s]"
     ]
    },
    {
     "name": "stdout",
     "output_type": "stream",
     "text": [
      "450\n"
     ]
    },
    {
     "name": "stderr",
     "output_type": "stream",
     "text": [
      "\n"
     ]
    }
   ],
   "source": [
    "stats = ((0.5, 0.5, 0.5), (0.5, 0.5, 0.5))\n",
    "def get_dataloaders(batch_size = 32):\n",
    "    \n",
    "    image_transforms = transforms.Compose([\n",
    "        transforms.ToTensor(),\n",
    "        transforms.Normalize(*stats, inplace=True),\n",
    "        transforms.Resize((224, 224), interpolation=PIL.Image.BILINEAR)\n",
    "    ])\n",
    "\n",
    "    files_list_train_1 = get_rainds_filesList(\"/kaggle/input/rainds/RainDS/RainDS_real/train_set\")\n",
    "    files_list_test_1 = get_rainds_filesList(\"/kaggle/input/rainds/RainDS/RainDS_real/test_set\")\n",
    "\n",
    "    files_list_train_2 = get_gtrain_filesList(\"train\")\n",
    "    files_list_test_2 = get_gtrain_filesList(\"test\")\n",
    "\n",
    "    files_list_train = files_list_train_1+ files_list_train_2\n",
    "    files_list_test = files_list_test_1 + files_list_test_2\n",
    "    \n",
    "    train_ds =  Custom_dataset_general(files_list_train, \n",
    "                                      transforms = image_transforms,\n",
    "                                      mode = \"train\")\n",
    "\n",
    "    test_ds =  Custom_dataset_general(files_list_test, \n",
    "                                      transforms = image_transforms,\n",
    "                                      mode = \"test\")_2\n",
    "    files_list_test = files_list_test_1 + files_list_test_2\n",
    "\n",
    "    train_dl = DataLoader(train_ds, \n",
    "                          batch_size=batch_size,\n",
    "                          shuffle=True, \n",
    "                          num_workers=0)\n",
    "\n",
    "    valid_dl = DataLoader(test_ds, \n",
    "                          batch_size=batch_size,\n",
    "                          shuffle=False, \n",
    "                          num_workers=0)\n",
    "\n",
    "    test_dl = DataLoader(test_ds, \n",
    "                          batch_size=batch_size,\n",
    "                          shuffle=False, \n",
    "                          num_workers=0)\n",
    "\n",
    "    print(train_ds.__len__())\n",
    "    return train_dl, valid_dl, test_dl\n",
    "train_dl, valid_dl, test_dl = get_dataloaders()"
   ]
  },
  {
   "cell_type": "code",
   "execution_count": 13,
   "id": "09db68d7",
   "metadata": {
    "execution": {
     "iopub.execute_input": "2024-11-25T18:10:00.079855Z",
     "iopub.status.busy": "2024-11-25T18:10:00.079075Z",
     "iopub.status.idle": "2024-11-25T18:10:08.783485Z",
     "shell.execute_reply": "2024-11-25T18:10:08.782611Z"
    },
    "papermill": {
     "duration": 8.717347,
     "end_time": "2024-11-25T18:10:08.787993",
     "exception": false,
     "start_time": "2024-11-25T18:10:00.070646",
     "status": "completed"
    },
    "tags": []
   },
   "outputs": [
    {
     "name": "stdout",
     "output_type": "stream",
     "text": [
      "tensor(1.0000) tensor(-0.9894)\n",
      "torch.Size([32, 3, 224, 224]) torch.Size([32, 3, 224, 224])\n"
     ]
    },
    {
     "data": {
      "image/png": "[encoded data removed]",
      "text/plain": [
       "<Figure size 1000x500 with 14 Axes>"
      ]
     },
     "metadata": {},
     "output_type": "display_data"
    }
   ],
   "source": [
    "# files_list = glob(\"//kaggle/input/rainds/RainDS/RainDS_real/train_set/gt/*.png\")\n",
    "# print(len(files_list))\n",
    "def denormalize(images, means, stds):\n",
    "    means = torch.tensor(means).reshape(1, 3, 1, 1)\n",
    "    stds = torch.tensor(stds).reshape(1, 3, 1, 1)\n",
    "    return images * stds + means\n",
    "\n",
    "for batch in train_dl:\n",
    "    batch_GT, batch_rain = batch[\"img_GT\"], batch[\"img_rain\"]\n",
    "    print(batch_GT.max(), batch_GT.min())\n",
    "    print(batch[\"img_GT\"].shape, batch[\"img_rain\"].shape)\n",
    "    batch_GT = denormalize(batch_GT, *stats)\n",
    "    batch_rain = denormalize(batch_rain, *stats)\n",
    "    img_GT, img_rain = batch_GT[0].permute(1,2,0), batch_rain[0].permute(1,2,0)\n",
    "    f, axarr = plt.subplots(2,7, figsize = (10,5))\n",
    "    for i in range(7):\n",
    "        axarr[0,i].imshow(batch_GT[i].permute(1,2,0))\n",
    "        axarr[1,i].imshow(batch_rain[i].permute(1,2,0),)\n",
    "#     f.tickparams(left = False, bottom = False)\n",
    "    break"
   ]
  },
  {
   "cell_type": "code",
   "execution_count": 14,
   "id": "15c164b6",
   "metadata": {
    "execution": {
     "iopub.execute_input": "2024-11-25T18:10:08.817708Z",
     "iopub.status.busy": "2024-11-25T18:10:08.816950Z",
     "iopub.status.idle": "2024-11-25T18:10:08.821367Z",
     "shell.execute_reply": "2024-11-25T18:10:08.820473Z"
    },
    "papermill": {
     "duration": 0.022226,
     "end_time": "2024-11-25T18:10:08.823016",
     "exception": false,
     "start_time": "2024-11-25T18:10:08.800790",
     "status": "completed"
    },
    "tags": []
   },
   "outputs": [],
   "source": [
    "# files_list = glob(\"/kaggle/input/gt-rain/GT-RAIN_train-001/GT-RAIN_train/**/*.png\")\n",
    "# print(len(files_list))"
   ]
  },
  {
   "cell_type": "code",
   "execution_count": 15,
   "id": "8843aa82",
   "metadata": {
    "execution": {
     "iopub.execute_input": "2024-11-25T18:10:08.856332Z",
     "iopub.status.busy": "2024-11-25T18:10:08.856103Z",
     "iopub.status.idle": "2024-11-25T18:10:08.868654Z",
     "shell.execute_reply": "2024-11-25T18:10:08.867883Z"
    },
    "papermill": {
     "duration": 0.027983,
     "end_time": "2024-11-25T18:10:08.870272",
     "exception": false,
     "start_time": "2024-11-25T18:10:08.842289",
     "status": "completed"
    },
    "tags": []
   },
   "outputs": [],
   "source": [
    "class UNet(nn.Module):\n",
    "    \n",
    "    def __init__(self, num_classes):\n",
    "        super(UNet, self).__init__()\n",
    "        self.num_classes = num_classes\n",
    "        self.contracting_11 = self.conv_block(in_channels=3, out_channels=64)\n",
    "        self.contracting_12 = nn.MaxPool2d(kernel_size=2, stride=2)\n",
    "        self.contracting_21 = self.conv_block(in_channels=64, out_channels=128)\n",
    "        self.contracting_22 = nn.MaxPool2d(kernel_size=2, stride=2)\n",
    "        self.contracting_31 = self.conv_block(in_channels=128, out_channels=256)\n",
    "        self.contracting_32 = nn.MaxPool2d(kernel_size=2, stride=2)\n",
    "        self.contracting_41 = self.conv_block(in_channels=256, out_channels=512)\n",
    "        self.contracting_42 = nn.MaxPool2d(kernel_size=2, stride=2)\n",
    "        self.middle = self.conv_block(in_channels=512, out_channels=1024)\n",
    "        self.expansive_11 = nn.ConvTranspose2d(in_channels=1024, out_channels=512, kernel_size=3, stride=2, padding=1, output_padding=1)\n",
    "        self.expansive_12 = self.conv_block(in_channels=1024, out_channels=512)\n",
    "        self.expansive_21 = nn.ConvTranspose2d(in_channels=512, out_channels=256, kernel_size=3, stride=2, padding=1, output_padding=1)\n",
    "        self.expansive_22 = self.conv_block(in_channels=512, out_channels=256)\n",
    "        self.expansive_31 = nn.ConvTranspose2d(in_channels=256, out_channels=128, kernel_size=3, stride=2, padding=1, output_padding=1)\n",
    "        self.expansive_32 = self.conv_block(in_channels=256, out_channels=128)\n",
    "        self.expansive_41 = nn.ConvTranspose2d(in_channels=128, out_channels=64, kernel_size=3, stride=2, padding=1, output_padding=1)\n",
    "        self.expansive_42 = self.conv_block(in_channels=128, out_channels=64)\n",
    "        self.output = nn.Conv2d(in_channels=64, out_channels=num_classes, kernel_size=3, stride=1, padding=1)\n",
    "        \n",
    "    def conv_block(self, in_channels, out_channels):\n",
    "        block = nn.Sequential(nn.Conv2d(in_channels=in_channels, out_channels=out_channels, kernel_size=3, stride=1, padding=1),\n",
    "                                    nn.ReLU(),\n",
    "                                    nn.BatchNorm2d(num_features=out_channels),\n",
    "                                    nn.Conv2d(in_channels=out_channels, out_channels=out_channels, kernel_size=3, stride=1, padding=1),\n",
    "                                    nn.ReLU(),\n",
    "                                    nn.BatchNorm2d(num_features=out_channels))\n",
    "        return block\n",
    "    \n",
    "    def forward(self, X):\n",
    "        contracting_11_out = self.contracting_11(X) # [-1, 64, 256, 256]\n",
    "        contracting_12_out = self.contracting_12(contracting_11_out) # [-1, 64, 128, 128]\n",
    "        contracting_21_out = self.contracting_21(contracting_12_out) # [-1, 128, 128, 128]\n",
    "        contracting_22_out = self.contracting_22(contracting_21_out) # [-1, 128, 64, 64]\n",
    "        contracting_31_out = self.contracting_31(contracting_22_out) # [-1, 256, 64, 64]\n",
    "        contracting_32_out = self.contracting_32(contracting_31_out) # [-1, 256, 32, 32]\n",
    "        contracting_41_out = self.contracting_41(contracting_32_out) # [-1, 512, 32, 32]\n",
    "        contracting_42_out = self.contracting_42(contracting_41_out) # [-1, 512, 16, 16]\n",
    "        middle_out = self.middle(contracting_42_out) # [-1, 1024, 16, 16]\n",
    "        expansive_11_out = self.expansive_11(middle_out) # [-1, 512, 32, 32]\n",
    "        expansive_12_out = self.expansive_12(torch.cat((expansive_11_out, contracting_41_out), dim=1)) # [-1, 1024, 32, 32] -> [-1, 512, 32, 32]\n",
    "        expansive_21_out = self.expansive_21(expansive_12_out) # [-1, 256, 64, 64]\n",
    "        expansive_22_out = self.expansive_22(torch.cat((expansive_21_out, contracting_31_out), dim=1)) # [-1, 512, 64, 64] -> [-1, 256, 64, 64]\n",
    "        expansive_31_out = self.expansive_31(expansive_22_out) # [-1, 128, 128, 128]\n",
    "        expansive_32_out = self.expansive_32(torch.cat((expansive_31_out, contracting_21_out), dim=1)) # [-1, 256, 128, 128] -> [-1, 128, 128, 128]\n",
    "        expansive_41_out = self.expansive_41(expansive_32_out) # [-1, 64, 256, 256]\n",
    "        expansive_42_out = self.expansive_42(torch.cat((expansive_41_out, contracting_11_out), dim=1)) # [-1, 128, 256, 256] -> [-1, 64, 256, 256]\n",
    "        output_out = self.output(expansive_42_out) # [-1, num_classes, 256, 256]\n",
    "        return output_out"
   ]
  },
  {
   "cell_type": "code",
   "execution_count": 16,
   "id": "3b40f1f3",
   "metadata": {
    "execution": {
     "iopub.execute_input": "2024-11-25T18:10:08.896050Z",
     "iopub.status.busy": "2024-11-25T18:10:08.895803Z",
     "iopub.status.idle": "2024-11-25T18:10:08.898997Z",
     "shell.execute_reply": "2024-11-25T18:10:08.898308Z"
    },
    "papermill": {
     "duration": 0.017761,
     "end_time": "2024-11-25T18:10:08.900532",
     "exception": false,
     "start_time": "2024-11-25T18:10:08.882771",
     "status": "completed"
    },
    "tags": []
   },
   "outputs": [],
   "source": [
    "# model = UNet(num_classes = 3)\n",
    "# dummy_input = torch.rand(batch_GT.size())\n",
    "# out = model(dummy_input)\n",
    "# print(dummy_input.size(), out.size())"
   ]
  },
  {
   "cell_type": "code",
   "execution_count": null,
   "id": "92c5df38",
   "metadata": {
    "execution": {
     "iopub.execute_input": "2024-11-25T18:10:08.926359Z",
     "iopub.status.busy": "2024-11-25T18:10:08.926099Z",
     "iopub.status.idle": "2024-11-25T23:38:55.359034Z",
     "shell.execute_reply": "2024-11-25T23:38:55.357850Z"
    },
    "papermill": {
     "duration": 19726.448421,
     "end_time": "2024-11-25T23:38:55.361175",
     "exception": false,
     "start_time": "2024-11-25T18:10:08.912754",
     "status": "completed"
    },
    "tags": []
   },
   "outputs": [
    {
     "name": "stdout",
     "output_type": "stream",
     "text": [
      "Launching training on 2 GPUs.\n"
     ]
    },
    {
     "name": "stderr",
     "output_type": "stream",
     "text": [
      "/opt/conda/lib/python3.10/site-packages/accelerate/accelerator.py:494: FutureWarning: `torch.cuda.amp.GradScaler(args...)` is deprecated. Please use `torch.amp.GradScaler('cuda', args...)` instead.\n",
      "  self.scaler = torch.cuda.amp.GradScaler(**kwargs)\n"
     ]
    },
    {
     "name": "stdout",
     "output_type": "stream",
     "text": [
      "150 150 150 150\n"
     ]
    },
    {
     "name": "stderr",
     "output_type": "stream",
     "text": [
      "150it [00:00, 462947.46it/s]\n",
      "150it [00:00, 648603.71it/s]\n",
      "150it [00:00, 816012.45it/s]\n"
     ]
    },
    {
     "name": "stdout",
     "output_type": "stream",
     "text": [
      "98 98 98 98\n"
     ]
    },
    {
     "name": "stderr",
     "output_type": "stream",
     "text": [
      "98it [00:00, 706257.37it/s]\n",
      "98it [00:00, 641250.85it/s]\n",
      "98it [00:00, 671636.92it/s]\n"
     ]
    },
    {
     "name": "stdout",
     "output_type": "stream",
     "text": [
      "450\n"
     ]
    },
    {
     "name": "stderr",
     "output_type": "stream",
     "text": [
      "/opt/conda/lib/python3.10/site-packages/accelerate/accelerator.py:494: FutureWarning: `torch.cuda.amp.GradScaler(args...)` is deprecated. Please use `torch.amp.GradScaler('cuda', args...)` instead.\n",
      "  self.scaler = torch.cuda.amp.GradScaler(**kwargs)\n"
     ]
    },
    {
     "name": "stdout",
     "output_type": "stream",
     "text": [
      "150 150 150 150\n"
     ]
    },
    {
     "name": "stderr",
     "output_type": "stream",
     "text": [
      "150it [00:00, 656728.18it/s]\n",
      "150it [00:00, 784470.82it/s]\n",
      "150it [00:00, 767250.73it/s]\n"
     ]
    },
    {
     "name": "stdout",
     "output_type": "stream",
     "text": [
      "98 98 98 98\n"
     ]
    },
    {
     "name": "stderr",
     "output_type": "stream",
     "text": [
      "98it [00:00, 467624.34it/s]\n",
      "98it [00:00, 662970.63it/s]\n",
      "98it [00:00, 679407.92it/s]\n"
     ]
    },
    {
     "name": "stdout",
     "output_type": "stream",
     "text": [
      "450\n",
      "####################### Epoch 0000 #######################\n"
     ]
    },
    {
     "name": "stderr",
     "output_type": "stream",
     "text": [
      "100%|██████████| 8/8 [01:11<00:00,  8.99s/it]\n"
     ]
    },
    {
     "name": "stdout",
     "output_type": "stream",
     "text": [
      "train Loss: 0.3604, MSE: 0.3686, PSNR: 10.3269, SSIM: 0.2878\n"
     ]
    },
    {
     "name": "stderr",
     "output_type": "stream",
     "text": [
      "100%|██████████| 5/5 [00:46<00:00,  9.37s/it]\n"
     ]
    },
    {
     "name": "stdout",
     "output_type": "stream",
     "text": [
      "valid Loss: 0.2311, MSE: 0.2280, PSNR: 12.4417, SSIM: 0.0002\n",
      "Epoch completed in 0:02:00.103580\n",
      "###########################################################\n",
      "####################### Epoch 0001 #######################\n"
     ]
    },
    {
     "name": "stderr",
     "output_type": "stream",
     "text": [
      "100%|██████████| 8/8 [01:01<00:00,  7.66s/it]\n"
     ]
    },
    {
     "name": "stdout",
     "output_type": "stream",
     "text": [
      "train Loss: 0.2385, MSE: 0.2448, PSNR: 12.1032, SSIM: 0.4099\n"
     ]
    },
    {
     "name": "stderr",
     "output_type": "stream",
     "text": [
      "100%|██████████| 5/5 [00:35<00:00,  7.16s/it]\n"
     ]
    },
    {
     "name": "stdout",
     "output_type": "stream",
     "text": [
      "valid Loss: 0.2139, MSE: 0.2116, PSNR: 12.7651, SSIM: 0.0245\n",
      "Epoch completed in 0:01:37.826888\n",
      "###########################################################\n",
      "####################### Epoch 0002 #######################\n"
     ]
    },
    {
     "name": "stderr",
     "output_type": "stream",
     "text": [
      "100%|██████████| 8/8 [01:00<00:00,  7.60s/it]\n"
     ]
    },
    {
     "name": "stdout",
     "output_type": "stream",
     "text": [
      "train Loss: 0.1954, MSE: 0.1931, PSNR: 13.1338, SSIM: 0.4269\n"
     ]
    },
    {
     "name": "stderr",
     "output_type": "stream",
     "text": [
      "100%|██████████| 5/5 [00:35<00:00,  7.14s/it]\n"
     ]
    },
    {
     "name": "stdout",
     "output_type": "stream",
     "text": [
      "valid Loss: 0.1800, MSE: 0.1802, PSNR: 13.4626, SSIM: 0.0699\n",
      "Epoch completed in 0:01:37.276129\n",
      "###########################################################\n",
      "####################### Epoch 0003 #######################\n"
     ]
    },
    {
     "name": "stderr",
     "output_type": "stream",
     "text": [
      "100%|██████████| 8/8 [01:01<00:00,  7.63s/it]\n"
     ]
    },
    {
     "name": "stdout",
     "output_type": "stream",
     "text": [
      "train Loss: 0.1531, MSE: 0.1593, PSNR: 13.9701, SSIM: 0.4104\n"
     ]
    },
    {
     "name": "stderr",
     "output_type": "stream",
     "text": [
      "100%|██████████| 5/5 [00:36<00:00,  7.25s/it]\n"
     ]
    },
    {
     "name": "stdout",
     "output_type": "stream",
     "text": [
      "valid Loss: 0.1406, MSE: 0.1456, PSNR: 14.3900, SSIM: 0.1526\n",
      "Epoch completed in 0:01:38.040995\n",
      "###########################################################\n",
      "####################### Epoch 0004 #######################\n"
     ]
    },
    {
     "name": "stderr",
     "output_type": "stream",
     "text": [
      "100%|██████████| 8/8 [00:59<00:00,  7.43s/it]\n"
     ]
    },
    {
     "name": "stdout",
     "output_type": "stream",
     "text": [
      "train Loss: 0.1366, MSE: 0.1377, PSNR: 14.6023, SSIM: 0.4520\n"
     ]
    },
    {
     "name": "stderr",
     "output_type": "stream",
     "text": [
      "100%|██████████| 5/5 [00:34<00:00,  6.92s/it]\n"
     ]
    },
    {
     "name": "stdout",
     "output_type": "stream",
     "text": [
      "valid Loss: 0.1220, MSE: 0.1314, PSNR: 14.8355, SSIM: 0.2316\n",
      "Epoch completed in 0:01:34.790171\n",
      "###########################################################\n",
      "####################### Epoch 0005 #######################\n"
     ]
    },
    {
     "name": "stderr",
     "output_type": "stream",
     "text": [
      "100%|██████████| 8/8 [00:59<00:00,  7.39s/it]\n"
     ]
    },
    {
     "name": "stdout",
     "output_type": "stream",
     "text": [
      "train Loss: 0.1134, MSE: 0.1215, PSNR: 15.1462, SSIM: 0.4389\n"
     ]
    },
    {
     "name": "stderr",
     "output_type": "stream",
     "text": [
      "100%|██████████| 5/5 [00:35<00:00,  7.07s/it]\n"
     ]
    },
    {
     "name": "stdout",
     "output_type": "stream",
     "text": [
      "valid Loss: 0.1157, MSE: 0.1281, PSNR: 14.9459, SSIM: 0.2724\n",
      "Epoch completed in 0:01:35.219771\n",
      "###########################################################\n",
      "####################### Epoch 0006 #######################\n"
     ]
    },
    {
     "name": "stderr",
     "output_type": "stream",
     "text": [
      "100%|██████████| 8/8 [00:59<00:00,  7.45s/it]\n"
     ]
    },
    {
     "name": "stdout",
     "output_type": "stream",
     "text": [
      "train Loss: 0.1059, MSE: 0.1105, PSNR: 15.5590, SSIM: 0.4422\n"
     ]
    },
    {
     "name": "stderr",
     "output_type": "stream",
     "text": [
      "100%|██████████| 5/5 [00:35<00:00,  7.09s/it]\n"
     ]
    },
    {
     "name": "stdout",
     "output_type": "stream",
     "text": [
      "valid Loss: 0.1060, MSE: 0.1206, PSNR: 15.2064, SSIM: 0.3266\n",
      "Epoch completed in 0:01:35.822146\n",
      "###########################################################\n",
      "####################### Epoch 0007 #######################\n"
     ]
    },
    {
     "name": "stderr",
     "output_type": "stream",
     "text": [
      "100%|██████████| 8/8 [00:58<00:00,  7.37s/it]\n"
     ]
    },
    {
     "name": "stdout",
     "output_type": "stream",
     "text": [
      "train Loss: 0.1044, MSE: 0.1038, PSNR: 15.8317, SSIM: 0.4231\n"
     ]
    },
    {
     "name": "stderr",
     "output_type": "stream",
     "text": [
      "100%|██████████| 5/5 [00:35<00:00,  7.18s/it]\n"
     ]
    },
    {
     "name": "stdout",
     "output_type": "stream",
     "text": [
      "valid Loss: 0.1148, MSE: 0.1301, PSNR: 14.8762, SSIM: 0.3058\n",
      "Epoch completed in 0:01:35.373789\n",
      "###########################################################\n",
      "####################### Epoch 0008 #######################\n"
     ]
    },
    {
     "name": "stderr",
     "output_type": "stream",
     "text": [
      "100%|██████████| 8/8 [00:59<00:00,  7.43s/it]\n"
     ]
    },
    {
     "name": "stdout",
     "output_type": "stream",
     "text": [
      "train Loss: 0.0936, MSE: 0.0965, PSNR: 16.1446, SSIM: 0.4184\n"
     ]
    },
    {
     "name": "stderr",
     "output_type": "stream",
     "text": [
      "100%|██████████| 5/5 [00:35<00:00,  7.03s/it]\n"
     ]
    },
    {
     "name": "stdout",
     "output_type": "stream",
     "text": [
      "valid Loss: 0.1072, MSE: 0.1235, PSNR: 15.1026, SSIM: 0.3842\n",
      "Epoch completed in 0:01:35.089508\n",
      "###########################################################\n",
      "####################### Epoch 0009 #######################\n"
     ]
    },
    {
     "name": "stderr",
     "output_type": "stream",
     "text": [
      "100%|██████████| 8/8 [00:59<00:00,  7.39s/it]\n"
     ]
    },
    {
     "name": "stdout",
     "output_type": "stream",
     "text": [
      "train Loss: 0.0984, MSE: 0.0913, PSNR: 16.3878, SSIM: 0.4350\n"
     ]
    },
    {
     "name": "stderr",
     "output_type": "stream",
     "text": [
      "100%|██████████| 5/5 [00:34<00:00,  6.95s/it]\n"
     ]
    },
    {
     "name": "stdout",
     "output_type": "stream",
     "text": [
      "valid Loss: 0.1043, MSE: 0.1206, PSNR: 15.2054, SSIM: 0.3405\n",
      "Epoch completed in 0:01:34.335554\n",
      "###########################################################\n",
      "####################### Epoch 0010 #######################\n"
     ]
    },
    {
     "name": "stderr",
     "output_type": "stream",
     "text": [
      "100%|██████████| 8/8 [00:59<00:00,  7.44s/it]\n"
     ]
    },
    {
     "name": "stdout",
     "output_type": "stream",
     "text": [
      "train Loss: 0.0905, MSE: 0.0873, PSNR: 16.5812, SSIM: 0.4425\n"
     ]
    },
    {
     "name": "stderr",
     "output_type": "stream",
     "text": [
      "100%|██████████| 5/5 [00:35<00:00,  7.17s/it]\n"
     ]
    },
    {
     "name": "stdout",
     "output_type": "stream",
     "text": [
      "valid Loss: 0.1115, MSE: 0.1288, PSNR: 14.9229, SSIM: 0.3483\n",
      "Epoch completed in 0:01:35.835287\n",
      "###########################################################\n",
      "####################### Epoch 0011 #######################\n"
     ]
    },
    {
     "name": "stderr",
     "output_type": "stream",
     "text": [
      "100%|██████████| 8/8 [00:59<00:00,  7.43s/it]\n"
     ]
    },
    {
     "name": "stdout",
     "output_type": "stream",
     "text": [
      "train Loss: 0.0879, MSE: 0.0834, PSNR: 16.7829, SSIM: 0.4437\n"
     ]
    },
    {
     "name": "stderr",
     "output_type": "stream",
     "text": [
      "100%|██████████| 5/5 [00:35<00:00,  7.10s/it]\n"
     ]
    },
    {
     "name": "stdout",
     "output_type": "stream",
     "text": [
      "valid Loss: 0.1057, MSE: 0.1224, PSNR: 15.1410, SSIM: 0.3413\n",
      "Epoch completed in 0:01:35.384736\n",
      "###########################################################\n",
      "####################### Epoch 0012 #######################\n"
     ]
    },
    {
     "name": "stderr",
     "output_type": "stream",
     "text": [
      "100%|██████████| 8/8 [00:59<00:00,  7.50s/it]\n"
     ]
    },
    {
     "name": "stdout",
     "output_type": "stream",
     "text": [
      "train Loss: 0.0808, MSE: 0.0803, PSNR: 16.9461, SSIM: 0.4555\n"
     ]
    },
    {
     "name": "stderr",
     "output_type": "stream",
     "text": [
      "100%|██████████| 5/5 [00:35<00:00,  7.00s/it]\n"
     ]
    },
    {
     "name": "stdout",
     "output_type": "stream",
     "text": [
      "valid Loss: 0.1037, MSE: 0.1199, PSNR: 15.2310, SSIM: 0.3765\n",
      "Epoch completed in 0:01:35.779089\n",
      "###########################################################\n",
      "####################### Epoch 0013 #######################\n"
     ]
    },
    {
     "name": "stderr",
     "output_type": "stream",
     "text": [
      "100%|██████████| 8/8 [00:59<00:00,  7.46s/it]\n"
     ]
    },
    {
     "name": "stdout",
     "output_type": "stream",
     "text": [
      "train Loss: 0.0715, MSE: 0.0774, PSNR: 17.1071, SSIM: 0.4467\n"
     ]
    },
    {
     "name": "stderr",
     "output_type": "stream",
     "text": [
      "100%|██████████| 5/5 [00:35<00:00,  7.10s/it]\n"
     ]
    },
    {
     "name": "stdout",
     "output_type": "stream",
     "text": [
      "valid Loss: 0.0983, MSE: 0.1145, PSNR: 15.4341, SSIM: 0.3752\n",
      "Epoch completed in 0:01:35.952046\n",
      "###########################################################\n",
      "####################### Epoch 0014 #######################\n"
     ]
    },
    {
     "name": "stderr",
     "output_type": "stream",
     "text": [
      "100%|██████████| 8/8 [00:59<00:00,  7.40s/it]\n"
     ]
    },
    {
     "name": "stdout",
     "output_type": "stream",
     "text": [
      "train Loss: 0.0755, MSE: 0.0755, PSNR: 17.2143, SSIM: 0.4395\n"
     ]
    },
    {
     "name": "stderr",
     "output_type": "stream",
     "text": [
      "100%|██████████| 5/5 [00:35<00:00,  7.02s/it]\n"
     ]
    },
    {
     "name": "stdout",
     "output_type": "stream",
     "text": [
      "valid Loss: 0.0974, MSE: 0.1149, PSNR: 15.4154, SSIM: 0.3776\n",
      "Epoch completed in 0:01:34.750515\n",
      "###########################################################\n",
      "####################### Epoch 0015 #######################\n"
     ]
    },
    {
     "name": "stderr",
     "output_type": "stream",
     "text": [
      "100%|██████████| 8/8 [00:58<00:00,  7.37s/it]\n"
     ]
    },
    {
     "name": "stdout",
     "output_type": "stream",
     "text": [
      "train Loss: 0.0682, MSE: 0.0727, PSNR: 17.3783, SSIM: 0.4471\n"
     ]
    },
    {
     "name": "stderr",
     "output_type": "stream",
     "text": [
      "100%|██████████| 5/5 [00:35<00:00,  7.08s/it]\n"
     ]
    },
    {
     "name": "stdout",
     "output_type": "stream",
     "text": [
      "valid Loss: 0.0963, MSE: 0.1138, PSNR: 15.4593, SSIM: 0.3823\n",
      "Epoch completed in 0:01:35.118379\n",
      "###########################################################\n",
      "####################### Epoch 0016 #######################\n"
     ]
    },
    {
     "name": "stderr",
     "output_type": "stream",
     "text": [
      "100%|██████████| 8/8 [00:58<00:00,  7.34s/it]\n"
     ]
    },
    {
     "name": "stdout",
     "output_type": "stream",
     "text": [
      "train Loss: 0.0726, MSE: 0.0706, PSNR: 17.5048, SSIM: 0.4703\n"
     ]
    },
    {
     "name": "stderr",
     "output_type": "stream",
     "text": [
      "100%|██████████| 5/5 [00:35<00:00,  7.20s/it]\n"
     ]
    },
    {
     "name": "stdout",
     "output_type": "stream",
     "text": [
      "valid Loss: 0.1007, MSE: 0.1174, PSNR: 15.3242, SSIM: 0.3614\n",
      "Epoch completed in 0:01:35.141885\n",
      "###########################################################\n",
      "####################### Epoch 0017 #######################\n"
     ]
    },
    {
     "name": "stderr",
     "output_type": "stream",
     "text": [
      "100%|██████████| 8/8 [00:59<00:00,  7.46s/it]\n"
     ]
    },
    {
     "name": "stdout",
     "output_type": "stream",
     "text": [
      "train Loss: 0.0685, MSE: 0.0704, PSNR: 17.5151, SSIM: 0.4601\n"
     ]
    },
    {
     "name": "stderr",
     "output_type": "stream",
     "text": [
      "100%|██████████| 5/5 [00:34<00:00,  6.99s/it]\n"
     ]
    },
    {
     "name": "stdout",
     "output_type": "stream",
     "text": [
      "valid Loss: 0.0943, MSE: 0.1108, PSNR: 15.5731, SSIM: 0.3784\n",
      "Epoch completed in 0:01:35.551902\n",
      "###########################################################\n",
      "####################### Epoch 0018 #######################\n"
     ]
    },
    {
     "name": "stderr",
     "output_type": "stream",
     "text": [
      "100%|██████████| 8/8 [00:59<00:00,  7.46s/it]\n"
     ]
    },
    {
     "name": "stdout",
     "output_type": "stream",
     "text": [
      "train Loss: 0.0678, MSE: 0.0680, PSNR: 17.6664, SSIM: 0.4542\n"
     ]
    },
    {
     "name": "stderr",
     "output_type": "stream",
     "text": [
      "100%|██████████| 5/5 [00:34<00:00,  7.00s/it]\n"
     ]
    },
    {
     "name": "stdout",
     "output_type": "stream",
     "text": [
      "valid Loss: 0.0984, MSE: 0.1162, PSNR: 15.3697, SSIM: 0.3791\n",
      "Epoch completed in 0:01:35.091102\n",
      "###########################################################\n",
      "####################### Epoch 0019 #######################\n"
     ]
    },
    {
     "name": "stderr",
     "output_type": "stream",
     "text": [
      "100%|██████████| 8/8 [00:59<00:00,  7.39s/it]\n"
     ]
    },
    {
     "name": "stdout",
     "output_type": "stream",
     "text": [
      "train Loss: 0.0686, MSE: 0.0655, PSNR: 17.8263, SSIM: 0.4606\n"
     ]
    },
    {
     "name": "stderr",
     "output_type": "stream",
     "text": [
      "100%|██████████| 5/5 [00:35<00:00,  7.07s/it]\n"
     ]
    },
    {
     "name": "stdout",
     "output_type": "stream",
     "text": [
      "valid Loss: 0.0904, MSE: 0.1071, PSNR: 15.7225, SSIM: 0.3954\n",
      "Epoch completed in 0:01:35.202573\n",
      "###########################################################\n",
      "####################### Epoch 0020 #######################\n"
     ]
    },
    {
     "name": "stderr",
     "output_type": "stream",
     "text": [
      "100%|██████████| 8/8 [00:59<00:00,  7.40s/it]\n"
     ]
    },
    {
     "name": "stdout",
     "output_type": "stream",
     "text": [
      "train Loss: 0.0608, MSE: 0.0640, PSNR: 17.9282, SSIM: 0.4575\n"
     ]
    },
    {
     "name": "stderr",
     "output_type": "stream",
     "text": [
      "100%|██████████| 5/5 [00:35<00:00,  7.08s/it]\n"
     ]
    },
    {
     "name": "stdout",
     "output_type": "stream",
     "text": [
      "valid Loss: 0.0868, MSE: 0.1044, PSNR: 15.8326, SSIM: 0.3968\n",
      "Epoch completed in 0:01:35.365394\n",
      "###########################################################\n",
      "####################### Epoch 0021 #######################\n"
     ]
    },
    {
     "name": "stderr",
     "output_type": "stream",
     "text": [
      "100%|██████████| 8/8 [00:59<00:00,  7.46s/it]\n"
     ]
    },
    {
     "name": "stdout",
     "output_type": "stream",
     "text": [
      "train Loss: 0.0634, MSE: 0.0634, PSNR: 17.9694, SSIM: 0.4728\n"
     ]
    },
    {
     "name": "stderr",
     "output_type": "stream",
     "text": [
      "100%|██████████| 5/5 [00:35<00:00,  7.01s/it]\n"
     ]
    },
    {
     "name": "stdout",
     "output_type": "stream",
     "text": [
      "valid Loss: 0.0913, MSE: 0.1086, PSNR: 15.6602, SSIM: 0.3923\n",
      "Epoch completed in 0:01:35.229280\n",
      "###########################################################\n",
      "####################### Epoch 0022 #######################\n"
     ]
    },
    {
     "name": "stderr",
     "output_type": "stream",
     "text": [
      "100%|██████████| 8/8 [00:59<00:00,  7.48s/it]\n"
     ]
    },
    {
     "name": "stdout",
     "output_type": "stream",
     "text": [
      "train Loss: 0.0585, MSE: 0.0627, PSNR: 18.0175, SSIM: 0.4737\n"
     ]
    },
    {
     "name": "stderr",
     "output_type": "stream",
     "text": [
      "100%|██████████| 5/5 [00:37<00:00,  7.44s/it]\n"
     ]
    },
    {
     "name": "stdout",
     "output_type": "stream",
     "text": [
      "valid Loss: 0.0914, MSE: 0.1089, PSNR: 15.6503, SSIM: 0.3955\n",
      "Epoch completed in 0:01:37.498590\n",
      "###########################################################\n",
      "####################### Epoch 0023 #######################\n"
     ]
    },
    {
     "name": "stderr",
     "output_type": "stream",
     "text": [
      "100%|██████████| 8/8 [01:02<00:00,  7.79s/it]\n"
     ]
    },
    {
     "name": "stdout",
     "output_type": "stream",
     "text": [
      "train Loss: 0.0634, MSE: 0.0612, PSNR: 18.1221, SSIM: 0.4583\n"
     ]
    },
    {
     "name": "stderr",
     "output_type": "stream",
     "text": [
      "100%|██████████| 5/5 [00:35<00:00,  7.13s/it]\n"
     ]
    },
    {
     "name": "stdout",
     "output_type": "stream",
     "text": [
      "valid Loss: 0.0890, MSE: 0.1071, PSNR: 15.7210, SSIM: 0.3776\n",
      "Epoch completed in 0:01:38.412909\n",
      "###########################################################\n",
      "####################### Epoch 0024 #######################\n"
     ]
    },
    {
     "name": "stderr",
     "output_type": "stream",
     "text": [
      "100%|██████████| 8/8 [01:01<00:00,  7.64s/it]\n"
     ]
    },
    {
     "name": "stdout",
     "output_type": "stream",
     "text": [
      "train Loss: 0.0555, MSE: 0.0595, PSNR: 18.2461, SSIM: 0.4756\n"
     ]
    },
    {
     "name": "stderr",
     "output_type": "stream",
     "text": [
      "100%|██████████| 5/5 [00:35<00:00,  7.14s/it]\n"
     ]
    },
    {
     "name": "stdout",
     "output_type": "stream",
     "text": [
      "valid Loss: 0.0831, MSE: 0.1010, PSNR: 15.9763, SSIM: 0.4081\n",
      "Epoch completed in 0:01:37.579104\n",
      "###########################################################\n",
      "####################### Epoch 0025 #######################\n"
     ]
    },
    {
     "name": "stderr",
     "output_type": "stream",
     "text": [
      "100%|██████████| 8/8 [01:00<00:00,  7.56s/it]\n"
     ]
    },
    {
     "name": "stdout",
     "output_type": "stream",
     "text": [
      "train Loss: 0.0630, MSE: 0.0604, PSNR: 18.1789, SSIM: 0.4782\n"
     ]
    },
    {
     "name": "stderr",
     "output_type": "stream",
     "text": [
      "100%|██████████| 5/5 [00:35<00:00,  7.07s/it]\n"
     ]
    },
    {
     "name": "stdout",
     "output_type": "stream",
     "text": [
      "valid Loss: 0.0822, MSE: 0.0994, PSNR: 16.0467, SSIM: 0.3940\n",
      "Epoch completed in 0:01:36.598639\n",
      "###########################################################\n",
      "####################### Epoch 0026 #######################\n"
     ]
    },
    {
     "name": "stderr",
     "output_type": "stream",
     "text": [
      "100%|██████████| 8/8 [01:00<00:00,  7.59s/it]\n"
     ]
    },
    {
     "name": "stdout",
     "output_type": "stream",
     "text": [
      "train Loss: 0.0681, MSE: 0.0594, PSNR: 18.2572, SSIM: 0.4697\n"
     ]
    },
    {
     "name": "stderr",
     "output_type": "stream",
     "text": [
      "100%|██████████| 5/5 [00:35<00:00,  7.04s/it]\n"
     ]
    },
    {
     "name": "stdout",
     "output_type": "stream",
     "text": [
      "valid Loss: 0.0895, MSE: 0.1072, PSNR: 15.7184, SSIM: 0.3736\n",
      "Epoch completed in 0:01:36.384843\n",
      "###########################################################\n",
      "####################### Epoch 0027 #######################\n"
     ]
    },
    {
     "name": "stderr",
     "output_type": "stream",
     "text": [
      "100%|██████████| 8/8 [00:58<00:00,  7.37s/it]\n"
     ]
    },
    {
     "name": "stdout",
     "output_type": "stream",
     "text": [
      "train Loss: 0.0639, MSE: 0.0576, PSNR: 18.3910, SSIM: 0.4859\n"
     ]
    },
    {
     "name": "stderr",
     "output_type": "stream",
     "text": [
      "100%|██████████| 5/5 [00:36<00:00,  7.28s/it]\n"
     ]
    },
    {
     "name": "stdout",
     "output_type": "stream",
     "text": [
      "valid Loss: 0.0886, MSE: 0.1065, PSNR: 15.7484, SSIM: 0.3744\n",
      "Epoch completed in 0:01:35.807539\n",
      "###########################################################\n",
      "####################### Epoch 0028 #######################\n"
     ]
    },
    {
     "name": "stderr",
     "output_type": "stream",
     "text": [
      "100%|██████████| 8/8 [01:03<00:00,  7.88s/it]\n"
     ]
    },
    {
     "name": "stdout",
     "output_type": "stream",
     "text": [
      "train Loss: 0.0578, MSE: 0.0557, PSNR: 18.5302, SSIM: 0.4808\n"
     ]
    },
    {
     "name": "stderr",
     "output_type": "stream",
     "text": [
      "100%|██████████| 5/5 [00:37<00:00,  7.43s/it]\n"
     ]
    },
    {
     "name": "stdout",
     "output_type": "stream",
     "text": [
      "valid Loss: 0.0881, MSE: 0.1056, PSNR: 15.7844, SSIM: 0.3759\n",
      "Epoch completed in 0:01:40.637275\n",
      "###########################################################\n",
      "####################### Epoch 0029 #######################\n"
     ]
    },
    {
     "name": "stderr",
     "output_type": "stream",
     "text": [
      "100%|██████████| 8/8 [01:02<00:00,  7.83s/it]\n"
     ]
    },
    {
     "name": "stdout",
     "output_type": "stream",
     "text": [
      "train Loss: 0.0571, MSE: 0.0549, PSNR: 18.5930, SSIM: 0.4777\n"
     ]
    },
    {
     "name": "stderr",
     "output_type": "stream",
     "text": [
      "100%|██████████| 5/5 [00:36<00:00,  7.40s/it]\n"
     ]
    },
    {
     "name": "stdout",
     "output_type": "stream",
     "text": [
      "valid Loss: 0.0874, MSE: 0.1055, PSNR: 15.7890, SSIM: 0.3822\n",
      "Epoch completed in 0:01:40.041927\n",
      "###########################################################\n",
      "####################### Epoch 0030 #######################\n"
     ]
    },
    {
     "name": "stderr",
     "output_type": "stream",
     "text": [
      "100%|██████████| 8/8 [01:01<00:00,  7.72s/it]\n"
     ]
    },
    {
     "name": "stdout",
     "output_type": "stream",
     "text": [
      "train Loss: 0.0554, MSE: 0.0534, PSNR: 18.7147, SSIM: 0.4959\n"
     ]
    },
    {
     "name": "stderr",
     "output_type": "stream",
     "text": [
      "100%|██████████| 5/5 [00:36<00:00,  7.39s/it]\n"
     ]
    },
    {
     "name": "stdout",
     "output_type": "stream",
     "text": [
      "valid Loss: 0.0836, MSE: 0.1011, PSNR: 15.9718, SSIM: 0.4118\n",
      "Epoch completed in 0:01:39.151002\n",
      "###########################################################\n",
      "####################### Epoch 0031 #######################\n"
     ]
    },
    {
     "name": "stderr",
     "output_type": "stream",
     "text": [
      "100%|██████████| 8/8 [01:01<00:00,  7.71s/it]\n"
     ]
    },
    {
     "name": "stdout",
     "output_type": "stream",
     "text": [
      "train Loss: 0.0480, MSE: 0.0532, PSNR: 18.7301, SSIM: 0.4960\n"
     ]
    },
    {
     "name": "stderr",
     "output_type": "stream",
     "text": [
      "100%|██████████| 5/5 [00:36<00:00,  7.30s/it]\n"
     ]
    },
    {
     "name": "stdout",
     "output_type": "stream",
     "text": [
      "valid Loss: 0.0789, MSE: 0.0970, PSNR: 16.1512, SSIM: 0.4205\n",
      "Epoch completed in 0:01:39.017235\n",
      "###########################################################\n",
      "####################### Epoch 0032 #######################\n"
     ]
    },
    {
     "name": "stderr",
     "output_type": "stream",
     "text": [
      "100%|██████████| 8/8 [01:01<00:00,  7.74s/it]\n"
     ]
    },
    {
     "name": "stdout",
     "output_type": "stream",
     "text": [
      "train Loss: 0.0492, MSE: 0.0519, PSNR: 18.8404, SSIM: 0.5023\n"
     ]
    },
    {
     "name": "stderr",
     "output_type": "stream",
     "text": [
      "100%|██████████| 5/5 [00:36<00:00,  7.38s/it]\n"
     ]
    },
    {
     "name": "stdout",
     "output_type": "stream",
     "text": [
      "valid Loss: 0.0770, MSE: 0.0957, PSNR: 16.2100, SSIM: 0.4228\n",
      "Epoch completed in 0:01:39.534993\n",
      "###########################################################\n",
      "####################### Epoch 0033 #######################\n"
     ]
    },
    {
     "name": "stderr",
     "output_type": "stream",
     "text": [
      "100%|██████████| 8/8 [01:01<00:00,  7.68s/it]\n"
     ]
    },
    {
     "name": "stdout",
     "output_type": "stream",
     "text": [
      "train Loss: 0.0527, MSE: 0.0514, PSNR: 18.8837, SSIM: 0.4869\n"
     ]
    },
    {
     "name": "stderr",
     "output_type": "stream",
     "text": [
      "100%|██████████| 5/5 [00:36<00:00,  7.37s/it]\n"
     ]
    },
    {
     "name": "stdout",
     "output_type": "stream",
     "text": [
      "valid Loss: 0.0782, MSE: 0.0969, PSNR: 16.1577, SSIM: 0.4129\n",
      "Epoch completed in 0:01:38.762177\n",
      "###########################################################\n",
      "####################### Epoch 0034 #######################\n"
     ]
    },
    {
     "name": "stderr",
     "output_type": "stream",
     "text": [
      "100%|██████████| 8/8 [01:01<00:00,  7.65s/it]\n"
     ]
    },
    {
     "name": "stdout",
     "output_type": "stream",
     "text": [
      "train Loss: 0.0516, MSE: 0.0496, PSNR: 19.0391, SSIM: 0.4960\n"
     ]
    },
    {
     "name": "stderr",
     "output_type": "stream",
     "text": [
      "100%|██████████| 5/5 [00:38<00:00,  7.64s/it]\n"
     ]
    },
    {
     "name": "stdout",
     "output_type": "stream",
     "text": [
      "valid Loss: 0.0808, MSE: 0.0986, PSNR: 16.0835, SSIM: 0.4197\n",
      "Epoch completed in 0:01:39.798638\n",
      "###########################################################\n",
      "####################### Epoch 0035 #######################\n"
     ]
    },
    {
     "name": "stderr",
     "output_type": "stream",
     "text": [
      "100%|██████████| 8/8 [01:02<00:00,  7.87s/it]\n"
     ]
    },
    {
     "name": "stdout",
     "output_type": "stream",
     "text": [
      "train Loss: 0.0603, MSE: 0.0510, PSNR: 18.9160, SSIM: 0.5060\n"
     ]
    },
    {
     "name": "stderr",
     "output_type": "stream",
     "text": [
      "100%|██████████| 5/5 [00:36<00:00,  7.33s/it]\n"
     ]
    },
    {
     "name": "stdout",
     "output_type": "stream",
     "text": [
      "valid Loss: 0.0933, MSE: 0.1112, PSNR: 15.5587, SSIM: 0.3726\n",
      "Epoch completed in 0:01:40.051433\n",
      "###########################################################\n",
      "####################### Epoch 0036 #######################\n"
     ]
    },
    {
     "name": "stderr",
     "output_type": "stream",
     "text": [
      "100%|██████████| 8/8 [01:01<00:00,  7.71s/it]\n"
     ]
    },
    {
     "name": "stdout",
     "output_type": "stream",
     "text": [
      "train Loss: 0.0451, MSE: 0.0484, PSNR: 19.1458, SSIM: 0.5062\n"
     ]
    },
    {
     "name": "stderr",
     "output_type": "stream",
     "text": [
      "100%|██████████| 5/5 [00:36<00:00,  7.31s/it]\n"
     ]
    },
    {
     "name": "stdout",
     "output_type": "stream",
     "text": [
      "valid Loss: 0.0778, MSE: 0.0967, PSNR: 16.1659, SSIM: 0.4053\n",
      "Epoch completed in 0:01:38.667835\n",
      "###########################################################\n",
      "####################### Epoch 0037 #######################\n"
     ]
    },
    {
     "name": "stderr",
     "output_type": "stream",
     "text": [
      "100%|██████████| 8/8 [01:01<00:00,  7.69s/it]\n"
     ]
    },
    {
     "name": "stdout",
     "output_type": "stream",
     "text": [
      "train Loss: 0.0458, MSE: 0.0477, PSNR: 19.2060, SSIM: 0.5144\n"
     ]
    },
    {
     "name": "stderr",
     "output_type": "stream",
     "text": [
      "100%|██████████| 5/5 [00:36<00:00,  7.38s/it]\n"
     ]
    },
    {
     "name": "stdout",
     "output_type": "stream",
     "text": [
      "valid Loss: 0.0732, MSE: 0.0921, PSNR: 16.3759, SSIM: 0.4175\n",
      "Epoch completed in 0:01:39.198677\n",
      "###########################################################\n",
      "####################### Epoch 0038 #######################\n"
     ]
    },
    {
     "name": "stderr",
     "output_type": "stream",
     "text": [
      "100%|██████████| 8/8 [01:01<00:00,  7.71s/it]\n"
     ]
    },
    {
     "name": "stdout",
     "output_type": "stream",
     "text": [
      "train Loss: 0.0478, MSE: 0.0470, PSNR: 19.2672, SSIM: 0.5383\n"
     ]
    },
    {
     "name": "stderr",
     "output_type": "stream",
     "text": [
      "100%|██████████| 5/5 [00:36<00:00,  7.29s/it]\n"
     ]
    },
    {
     "name": "stdout",
     "output_type": "stream",
     "text": [
      "valid Loss: 0.0751, MSE: 0.0942, PSNR: 16.2815, SSIM: 0.4254\n",
      "Epoch completed in 0:01:38.534690\n",
      "###########################################################\n",
      "####################### Epoch 0039 #######################\n"
     ]
    },
    {
     "name": "stderr",
     "output_type": "stream",
     "text": [
      "100%|██████████| 8/8 [01:01<00:00,  7.67s/it]\n"
     ]
    },
    {
     "name": "stdout",
     "output_type": "stream",
     "text": [
      "train Loss: 0.0498, MSE: 0.0459, PSNR: 19.3785, SSIM: 0.5111\n"
     ]
    },
    {
     "name": "stderr",
     "output_type": "stream",
     "text": [
      "100%|██████████| 5/5 [00:37<00:00,  7.46s/it]\n"
     ]
    },
    {
     "name": "stdout",
     "output_type": "stream",
     "text": [
      "valid Loss: 0.0775, MSE: 0.0954, PSNR: 16.2240, SSIM: 0.4072\n",
      "Epoch completed in 0:01:39.104799\n",
      "###########################################################\n",
      "####################### Epoch 0040 #######################\n"
     ]
    },
    {
     "name": "stderr",
     "output_type": "stream",
     "text": [
      "100%|██████████| 8/8 [01:00<00:00,  7.56s/it]\n"
     ]
    },
    {
     "name": "stdout",
     "output_type": "stream",
     "text": [
      "train Loss: 0.0498, MSE: 0.0449, PSNR: 19.4684, SSIM: 0.5296\n"
     ]
    },
    {
     "name": "stderr",
     "output_type": "stream",
     "text": [
      "100%|██████████| 5/5 [00:35<00:00,  7.14s/it]\n"
     ]
    },
    {
     "name": "stdout",
     "output_type": "stream",
     "text": [
      "valid Loss: 0.0765, MSE: 0.0949, PSNR: 16.2496, SSIM: 0.4072\n",
      "Epoch completed in 0:01:36.661547\n",
      "###########################################################\n",
      "####################### Epoch 0041 #######################\n"
     ]
    },
    {
     "name": "stderr",
     "output_type": "stream",
     "text": [
      "100%|██████████| 8/8 [00:59<00:00,  7.42s/it]\n"
     ]
    },
    {
     "name": "stdout",
     "output_type": "stream",
     "text": [
      "train Loss: 0.0459, MSE: 0.0443, PSNR: 19.5300, SSIM: 0.5313\n"
     ]
    },
    {
     "name": "stderr",
     "output_type": "stream",
     "text": [
      "100%|██████████| 5/5 [00:38<00:00,  7.64s/it]\n"
     ]
    },
    {
     "name": "stdout",
     "output_type": "stream",
     "text": [
      "valid Loss: 0.0752, MSE: 0.0941, PSNR: 16.2866, SSIM: 0.4076\n",
      "Epoch completed in 0:01:37.973505\n",
      "###########################################################\n",
      "####################### Epoch 0042 #######################\n"
     ]
    },
    {
     "name": "stderr",
     "output_type": "stream",
     "text": [
      "100%|██████████| 8/8 [01:04<00:00,  8.01s/it]\n"
     ]
    },
    {
     "name": "stdout",
     "output_type": "stream",
     "text": [
      "train Loss: 0.0425, MSE: 0.0437, PSNR: 19.5901, SSIM: 0.5491\n"
     ]
    },
    {
     "name": "stderr",
     "output_type": "stream",
     "text": [
      "100%|██████████| 5/5 [00:38<00:00,  7.69s/it]\n"
     ]
    },
    {
     "name": "stdout",
     "output_type": "stream",
     "text": [
      "valid Loss: 0.0728, MSE: 0.0908, PSNR: 16.4417, SSIM: 0.4232\n",
      "Epoch completed in 0:01:43.343104\n",
      "###########################################################\n",
      "####################### Epoch 0043 #######################\n"
     ]
    },
    {
     "name": "stderr",
     "output_type": "stream",
     "text": [
      "100%|██████████| 8/8 [01:05<00:00,  8.20s/it]\n"
     ]
    },
    {
     "name": "stdout",
     "output_type": "stream",
     "text": [
      "train Loss: 0.0470, MSE: 0.0435, PSNR: 19.6084, SSIM: 0.5347\n"
     ]
    },
    {
     "name": "stderr",
     "output_type": "stream",
     "text": [
      "100%|██████████| 5/5 [00:37<00:00,  7.54s/it]\n"
     ]
    },
    {
     "name": "stdout",
     "output_type": "stream",
     "text": [
      "valid Loss: 0.0723, MSE: 0.0909, PSNR: 16.4330, SSIM: 0.4258\n",
      "Epoch completed in 0:01:43.753669\n",
      "###########################################################\n",
      "####################### Epoch 0044 #######################\n"
     ]
    },
    {
     "name": "stderr",
     "output_type": "stream",
     "text": [
      "100%|██████████| 8/8 [01:02<00:00,  7.76s/it]\n"
     ]
    },
    {
     "name": "stdout",
     "output_type": "stream",
     "text": [
      "train Loss: 0.0479, MSE: 0.0428, PSNR: 19.6731, SSIM: 0.5448\n"
     ]
    },
    {
     "name": "stderr",
     "output_type": "stream",
     "text": [
      "100%|██████████| 5/5 [00:36<00:00,  7.27s/it]\n"
     ]
    },
    {
     "name": "stdout",
     "output_type": "stream",
     "text": [
      "valid Loss: 0.0742, MSE: 0.0927, PSNR: 16.3484, SSIM: 0.4260\n",
      "Epoch completed in 0:01:38.925626\n",
      "###########################################################\n",
      "####################### Epoch 0045 #######################\n"
     ]
    },
    {
     "name": "stderr",
     "output_type": "stream",
     "text": [
      "100%|██████████| 8/8 [01:00<00:00,  7.58s/it]\n"
     ]
    },
    {
     "name": "stdout",
     "output_type": "stream",
     "text": [
      "train Loss: 0.0466, MSE: 0.0412, PSNR: 19.8473, SSIM: 0.5434\n"
     ]
    },
    {
     "name": "stderr",
     "output_type": "stream",
     "text": [
      "100%|██████████| 5/5 [00:36<00:00,  7.30s/it]\n"
     ]
    },
    {
     "name": "stdout",
     "output_type": "stream",
     "text": [
      "valid Loss: 0.0775, MSE: 0.0955, PSNR: 16.2207, SSIM: 0.4112\n",
      "Epoch completed in 0:01:37.592390\n",
      "###########################################################\n",
      "####################### Epoch 0046 #######################\n"
     ]
    },
    {
     "name": "stderr",
     "output_type": "stream",
     "text": [
      "100%|██████████| 8/8 [01:00<00:00,  7.60s/it]\n"
     ]
    },
    {
     "name": "stdout",
     "output_type": "stream",
     "text": [
      "train Loss: 0.0411, MSE: 0.0403, PSNR: 19.9417, SSIM: 0.5547\n"
     ]
    },
    {
     "name": "stderr",
     "output_type": "stream",
     "text": [
      "100%|██████████| 5/5 [00:36<00:00,  7.31s/it]\n"
     ]
    },
    {
     "name": "stdout",
     "output_type": "stream",
     "text": [
      "valid Loss: 0.0728, MSE: 0.0915, PSNR: 16.4075, SSIM: 0.4160\n",
      "Epoch completed in 0:01:37.805311\n",
      "###########################################################\n",
      "####################### Epoch 0047 #######################\n"
     ]
    },
    {
     "name": "stderr",
     "output_type": "stream",
     "text": [
      "100%|██████████| 8/8 [01:01<00:00,  7.63s/it]\n"
     ]
    },
    {
     "name": "stdout",
     "output_type": "stream",
     "text": [
      "train Loss: 0.0461, MSE: 0.0399, PSNR: 19.9812, SSIM: 0.5441\n"
     ]
    },
    {
     "name": "stderr",
     "output_type": "stream",
     "text": [
      "100%|██████████| 5/5 [00:36<00:00,  7.24s/it]\n"
     ]
    },
    {
     "name": "stdout",
     "output_type": "stream",
     "text": [
      "valid Loss: 0.0713, MSE: 0.0903, PSNR: 16.4648, SSIM: 0.4119\n",
      "Epoch completed in 0:01:37.996936\n",
      "###########################################################\n",
      "####################### Epoch 0048 #######################\n"
     ]
    },
    {
     "name": "stderr",
     "output_type": "stream",
     "text": [
      "100%|██████████| 8/8 [01:00<00:00,  7.59s/it]\n"
     ]
    },
    {
     "name": "stdout",
     "output_type": "stream",
     "text": [
      "train Loss: 0.0356, MSE: 0.0393, PSNR: 20.0513, SSIM: 0.5577\n"
     ]
    },
    {
     "name": "stderr",
     "output_type": "stream",
     "text": [
      "100%|██████████| 5/5 [00:35<00:00,  7.18s/it]\n"
     ]
    },
    {
     "name": "stdout",
     "output_type": "stream",
     "text": [
      "valid Loss: 0.0646, MSE: 0.0836, PSNR: 16.7980, SSIM: 0.4423\n",
      "Epoch completed in 0:01:37.432908\n",
      "###########################################################\n",
      "####################### Epoch 0049 #######################\n"
     ]
    },
    {
     "name": "stderr",
     "output_type": "stream",
     "text": [
      "100%|██████████| 8/8 [01:00<00:00,  7.62s/it]\n"
     ]
    },
    {
     "name": "stdout",
     "output_type": "stream",
     "text": [
      "train Loss: 0.0378, MSE: 0.0384, PSNR: 20.1447, SSIM: 0.5561\n"
     ]
    },
    {
     "name": "stderr",
     "output_type": "stream",
     "text": [
      "100%|██████████| 5/5 [00:35<00:00,  7.18s/it]\n"
     ]
    },
    {
     "name": "stdout",
     "output_type": "stream",
     "text": [
      "valid Loss: 0.0654, MSE: 0.0846, PSNR: 16.7485, SSIM: 0.4527\n",
      "Epoch completed in 0:01:37.323007\n",
      "###########################################################\n",
      "####################### Epoch 0050 #######################\n"
     ]
    },
    {
     "name": "stderr",
     "output_type": "stream",
     "text": [
      "100%|██████████| 8/8 [01:00<00:00,  7.58s/it]\n"
     ]
    },
    {
     "name": "stdout",
     "output_type": "stream",
     "text": [
      "train Loss: 0.0342, MSE: 0.0374, PSNR: 20.2588, SSIM: 0.5685\n"
     ]
    },
    {
     "name": "stderr",
     "output_type": "stream",
     "text": [
      "100%|██████████| 5/5 [00:36<00:00,  7.25s/it]\n"
     ]
    },
    {
     "name": "stdout",
     "output_type": "stream",
     "text": [
      "valid Loss: 0.0635, MSE: 0.0824, PSNR: 16.8630, SSIM: 0.4782\n",
      "Epoch completed in 0:01:37.695838\n",
      "###########################################################\n",
      "####################### Epoch 0051 #######################\n"
     ]
    },
    {
     "name": "stderr",
     "output_type": "stream",
     "text": [
      "100%|██████████| 8/8 [01:01<00:00,  7.68s/it]\n"
     ]
    },
    {
     "name": "stdout",
     "output_type": "stream",
     "text": [
      "train Loss: 0.0389, MSE: 0.0373, PSNR: 20.2804, SSIM: 0.5655\n"
     ]
    },
    {
     "name": "stderr",
     "output_type": "stream",
     "text": [
      "100%|██████████| 5/5 [00:36<00:00,  7.22s/it]\n"
     ]
    },
    {
     "name": "stdout",
     "output_type": "stream",
     "text": [
      "valid Loss: 0.0617, MSE: 0.0815, PSNR: 16.9077, SSIM: 0.4761\n",
      "Epoch completed in 0:01:38.238026\n",
      "###########################################################\n",
      "####################### Epoch 0052 #######################\n"
     ]
    },
    {
     "name": "stderr",
     "output_type": "stream",
     "text": [
      "100%|██████████| 8/8 [01:00<00:00,  7.62s/it]\n"
     ]
    },
    {
     "name": "stdout",
     "output_type": "stream",
     "text": [
      "train Loss: 0.0346, MSE: 0.0360, PSNR: 20.4339, SSIM: 0.5896\n"
     ]
    },
    {
     "name": "stderr",
     "output_type": "stream",
     "text": [
      "100%|██████████| 5/5 [00:35<00:00,  7.17s/it]\n"
     ]
    },
    {
     "name": "stdout",
     "output_type": "stream",
     "text": [
      "valid Loss: 0.0627, MSE: 0.0821, PSNR: 16.8756, SSIM: 0.4589\n",
      "Epoch completed in 0:01:37.292497\n",
      "###########################################################\n",
      "####################### Epoch 0053 #######################\n"
     ]
    },
    {
     "name": "stderr",
     "output_type": "stream",
     "text": [
      "100%|██████████| 8/8 [01:00<00:00,  7.61s/it]\n"
     ]
    },
    {
     "name": "stdout",
     "output_type": "stream",
     "text": [
      "train Loss: 0.0334, MSE: 0.0351, PSNR: 20.5351, SSIM: 0.5717\n"
     ]
    },
    {
     "name": "stderr",
     "output_type": "stream",
     "text": [
      "100%|██████████| 5/5 [00:36<00:00,  7.21s/it]\n"
     ]
    },
    {
     "name": "stdout",
     "output_type": "stream",
     "text": [
      "valid Loss: 0.0620, MSE: 0.0818, PSNR: 16.8915, SSIM: 0.4868\n",
      "Epoch completed in 0:01:37.415406\n",
      "###########################################################\n",
      "####################### Epoch 0054 #######################\n"
     ]
    },
    {
     "name": "stderr",
     "output_type": "stream",
     "text": [
      "100%|██████████| 8/8 [01:01<00:00,  7.74s/it]\n"
     ]
    },
    {
     "name": "stdout",
     "output_type": "stream",
     "text": [
      "train Loss: 0.0338, MSE: 0.0343, PSNR: 20.6380, SSIM: 0.5883\n"
     ]
    },
    {
     "name": "stderr",
     "output_type": "stream",
     "text": [
      "100%|██████████| 5/5 [00:37<00:00,  7.45s/it]\n"
     ]
    },
    {
     "name": "stdout",
     "output_type": "stream",
     "text": [
      "valid Loss: 0.0634, MSE: 0.0836, PSNR: 16.7991, SSIM: 0.4834\n",
      "Epoch completed in 0:01:39.648226\n",
      "###########################################################\n",
      "####################### Epoch 0055 #######################\n"
     ]
    },
    {
     "name": "stderr",
     "output_type": "stream",
     "text": [
      "100%|██████████| 8/8 [01:00<00:00,  7.61s/it]\n"
     ]
    },
    {
     "name": "stdout",
     "output_type": "stream",
     "text": [
      "train Loss: 0.0368, MSE: 0.0338, PSNR: 20.7054, SSIM: 0.5889\n"
     ]
    },
    {
     "name": "stderr",
     "output_type": "stream",
     "text": [
      "100%|██████████| 5/5 [00:36<00:00,  7.23s/it]\n"
     ]
    },
    {
     "name": "stdout",
     "output_type": "stream",
     "text": [
      "valid Loss: 0.0637, MSE: 0.0830, PSNR: 16.8271, SSIM: 0.4702\n",
      "Epoch completed in 0:01:37.529860\n",
      "###########################################################\n",
      "####################### Epoch 0056 #######################\n"
     ]
    },
    {
     "name": "stderr",
     "output_type": "stream",
     "text": [
      "100%|██████████| 8/8 [01:00<00:00,  7.59s/it]\n"
     ]
    },
    {
     "name": "stdout",
     "output_type": "stream",
     "text": [
      "train Loss: 0.0328, MSE: 0.0324, PSNR: 20.8806, SSIM: 0.5967\n"
     ]
    },
    {
     "name": "stderr",
     "output_type": "stream",
     "text": [
      "100%|██████████| 5/5 [00:35<00:00,  7.16s/it]\n"
     ]
    },
    {
     "name": "stdout",
     "output_type": "stream",
     "text": [
      "valid Loss: 0.0623, MSE: 0.0817, PSNR: 16.8957, SSIM: 0.4760\n",
      "Epoch completed in 0:01:36.992556\n",
      "###########################################################\n",
      "####################### Epoch 0057 #######################\n"
     ]
    },
    {
     "name": "stderr",
     "output_type": "stream",
     "text": [
      "100%|██████████| 8/8 [01:00<00:00,  7.62s/it]\n"
     ]
    },
    {
     "name": "stdout",
     "output_type": "stream",
     "text": [
      "train Loss: 0.0315, MSE: 0.0324, PSNR: 20.8874, SSIM: 0.6007\n"
     ]
    },
    {
     "name": "stderr",
     "output_type": "stream",
     "text": [
      "100%|██████████| 5/5 [00:36<00:00,  7.35s/it]\n"
     ]
    },
    {
     "name": "stdout",
     "output_type": "stream",
     "text": [
      "valid Loss: 0.0605, MSE: 0.0795, PSNR: 17.0182, SSIM: 0.4640\n",
      "Epoch completed in 0:01:38.464289\n",
      "###########################################################\n",
      "####################### Epoch 0058 #######################\n"
     ]
    },
    {
     "name": "stderr",
     "output_type": "stream",
     "text": [
      "100%|██████████| 8/8 [01:00<00:00,  7.60s/it]\n"
     ]
    },
    {
     "name": "stdout",
     "output_type": "stream",
     "text": [
      "train Loss: 0.0287, MSE: 0.0316, PSNR: 20.9961, SSIM: 0.6105\n"
     ]
    },
    {
     "name": "stderr",
     "output_type": "stream",
     "text": [
      "100%|██████████| 5/5 [00:36<00:00,  7.32s/it]\n"
     ]
    },
    {
     "name": "stdout",
     "output_type": "stream",
     "text": [
      "valid Loss: 0.0582, MSE: 0.0780, PSNR: 17.0988, SSIM: 0.4793\n",
      "Epoch completed in 0:01:38.258014\n",
      "###########################################################\n",
      "####################### Epoch 0059 #######################\n"
     ]
    },
    {
     "name": "stderr",
     "output_type": "stream",
     "text": [
      "100%|██████████| 8/8 [01:00<00:00,  7.51s/it]\n"
     ]
    },
    {
     "name": "stdout",
     "output_type": "stream",
     "text": [
      "train Loss: 0.0294, MSE: 0.0300, PSNR: 21.2162, SSIM: 0.5965\n"
     ]
    },
    {
     "name": "stderr",
     "output_type": "stream",
     "text": [
      "100%|██████████| 5/5 [00:37<00:00,  7.56s/it]\n"
     ]
    },
    {
     "name": "stdout",
     "output_type": "stream",
     "text": [
      "valid Loss: 0.0572, MSE: 0.0772, PSNR: 17.1430, SSIM: 0.4976\n",
      "Epoch completed in 0:01:38.681175\n",
      "###########################################################\n",
      "####################### Epoch 0060 #######################\n"
     ]
    },
    {
     "name": "stderr",
     "output_type": "stream",
     "text": [
      "100%|██████████| 8/8 [01:01<00:00,  7.70s/it]\n"
     ]
    },
    {
     "name": "stdout",
     "output_type": "stream",
     "text": [
      "train Loss: 0.0267, MSE: 0.0302, PSNR: 21.1896, SSIM: 0.6302\n"
     ]
    },
    {
     "name": "stderr",
     "output_type": "stream",
     "text": [
      "100%|██████████| 5/5 [00:37<00:00,  7.48s/it]\n"
     ]
    },
    {
     "name": "stdout",
     "output_type": "stream",
     "text": [
      "valid Loss: 0.0530, MSE: 0.0731, PSNR: 17.3784, SSIM: 0.4967\n",
      "Epoch completed in 0:01:39.727329\n",
      "###########################################################\n",
      "####################### Epoch 0061 #######################\n"
     ]
    },
    {
     "name": "stderr",
     "output_type": "stream",
     "text": [
      "100%|██████████| 8/8 [01:02<00:00,  7.82s/it]\n"
     ]
    },
    {
     "name": "stdout",
     "output_type": "stream",
     "text": [
      "train Loss: 0.0284, MSE: 0.0297, PSNR: 21.2628, SSIM: 0.6128\n"
     ]
    },
    {
     "name": "stderr",
     "output_type": "stream",
     "text": [
      "100%|██████████| 5/5 [00:36<00:00,  7.28s/it]\n"
     ]
    },
    {
     "name": "stdout",
     "output_type": "stream",
     "text": [
      "valid Loss: 0.0536, MSE: 0.0737, PSNR: 17.3478, SSIM: 0.5084\n",
      "Epoch completed in 0:01:39.430887\n",
      "###########################################################\n",
      "####################### Epoch 0062 #######################\n"
     ]
    },
    {
     "name": "stderr",
     "output_type": "stream",
     "text": [
      "100%|██████████| 8/8 [01:01<00:00,  7.75s/it]\n"
     ]
    },
    {
     "name": "stdout",
     "output_type": "stream",
     "text": [
      "train Loss: 0.0277, MSE: 0.0283, PSNR: 21.4675, SSIM: 0.6211\n"
     ]
    },
    {
     "name": "stderr",
     "output_type": "stream",
     "text": [
      "100%|██████████| 5/5 [00:36<00:00,  7.35s/it]\n"
     ]
    },
    {
     "name": "stdout",
     "output_type": "stream",
     "text": [
      "valid Loss: 0.0533, MSE: 0.0732, PSNR: 17.3744, SSIM: 0.5074\n",
      "Epoch completed in 0:01:39.209141\n",
      "###########################################################\n",
      "####################### Epoch 0063 #######################\n"
     ]
    },
    {
     "name": "stderr",
     "output_type": "stream",
     "text": [
      "100%|██████████| 8/8 [01:02<00:00,  7.79s/it]\n"
     ]
    },
    {
     "name": "stdout",
     "output_type": "stream",
     "text": [
      "train Loss: 0.0284, MSE: 0.0279, PSNR: 21.5380, SSIM: 0.6257\n"
     ]
    },
    {
     "name": "stderr",
     "output_type": "stream",
     "text": [
      "100%|██████████| 5/5 [00:36<00:00,  7.39s/it]\n"
     ]
    },
    {
     "name": "stdout",
     "output_type": "stream",
     "text": [
      "valid Loss: 0.0564, MSE: 0.0758, PSNR: 17.2253, SSIM: 0.5061\n",
      "Epoch completed in 0:01:39.753812\n",
      "###########################################################\n",
      "####################### Epoch 0064 #######################\n"
     ]
    },
    {
     "name": "stderr",
     "output_type": "stream",
     "text": [
      "100%|██████████| 8/8 [01:01<00:00,  7.74s/it]\n"
     ]
    },
    {
     "name": "stdout",
     "output_type": "stream",
     "text": [
      "train Loss: 0.0234, MSE: 0.0269, PSNR: 21.6919, SSIM: 0.6276\n"
     ]
    },
    {
     "name": "stderr",
     "output_type": "stream",
     "text": [
      "100%|██████████| 5/5 [00:36<00:00,  7.36s/it]\n"
     ]
    },
    {
     "name": "stdout",
     "output_type": "stream",
     "text": [
      "valid Loss: 0.0500, MSE: 0.0702, PSNR: 17.5579, SSIM: 0.5196\n",
      "Epoch completed in 0:01:39.579101\n",
      "###########################################################\n",
      "####################### Epoch 0065 #######################\n"
     ]
    },
    {
     "name": "stderr",
     "output_type": "stream",
     "text": [
      "100%|██████████| 8/8 [01:02<00:00,  7.86s/it]\n"
     ]
    },
    {
     "name": "stdout",
     "output_type": "stream",
     "text": [
      "train Loss: 0.0247, MSE: 0.0260, PSNR: 21.8493, SSIM: 0.6375\n"
     ]
    },
    {
     "name": "stderr",
     "output_type": "stream",
     "text": [
      "100%|██████████| 5/5 [00:38<00:00,  7.69s/it]\n"
     ]
    },
    {
     "name": "stdout",
     "output_type": "stream",
     "text": [
      "valid Loss: 0.0497, MSE: 0.0703, PSNR: 17.5507, SSIM: 0.5148\n",
      "Epoch completed in 0:01:41.763328\n",
      "###########################################################\n",
      "####################### Epoch 0066 #######################\n"
     ]
    },
    {
     "name": "stderr",
     "output_type": "stream",
     "text": [
      "100%|██████████| 8/8 [01:02<00:00,  7.86s/it]\n"
     ]
    },
    {
     "name": "stdout",
     "output_type": "stream",
     "text": [
      "train Loss: 0.0251, MSE: 0.0257, PSNR: 21.8950, SSIM: 0.6447\n"
     ]
    },
    {
     "name": "stderr",
     "output_type": "stream",
     "text": [
      "100%|██████████| 5/5 [00:37<00:00,  7.40s/it]\n"
     ]
    },
    {
     "name": "stdout",
     "output_type": "stream",
     "text": [
      "valid Loss: 0.0521, MSE: 0.0722, PSNR: 17.4350, SSIM: 0.5140\n",
      "Epoch completed in 0:01:40.329026\n",
      "###########################################################\n",
      "####################### Epoch 0067 #######################\n"
     ]
    },
    {
     "name": "stderr",
     "output_type": "stream",
     "text": [
      "100%|██████████| 8/8 [01:01<00:00,  7.71s/it]\n"
     ]
    },
    {
     "name": "stdout",
     "output_type": "stream",
     "text": [
      "train Loss: 0.0236, MSE: 0.0243, PSNR: 22.1329, SSIM: 0.6376\n"
     ]
    },
    {
     "name": "stderr",
     "output_type": "stream",
     "text": [
      "100%|██████████| 5/5 [00:36<00:00,  7.31s/it]\n"
     ]
    },
    {
     "name": "stdout",
     "output_type": "stream",
     "text": [
      "valid Loss: 0.0504, MSE: 0.0705, PSNR: 17.5415, SSIM: 0.5187\n",
      "Epoch completed in 0:01:38.680697\n",
      "###########################################################\n",
      "####################### Epoch 0068 #######################\n"
     ]
    },
    {
     "name": "stderr",
     "output_type": "stream",
     "text": [
      "100%|██████████| 8/8 [01:01<00:00,  7.74s/it]\n"
     ]
    },
    {
     "name": "stdout",
     "output_type": "stream",
     "text": [
      "train Loss: 0.0249, MSE: 0.0242, PSNR: 22.1626, SSIM: 0.6460\n"
     ]
    },
    {
     "name": "stderr",
     "output_type": "stream",
     "text": [
      "100%|██████████| 5/5 [00:36<00:00,  7.36s/it]\n"
     ]
    },
    {
     "name": "stdout",
     "output_type": "stream",
     "text": [
      "valid Loss: 0.0492, MSE: 0.0693, PSNR: 17.6144, SSIM: 0.5183\n",
      "Epoch completed in 0:01:39.454963\n",
      "###########################################################\n",
      "####################### Epoch 0069 #######################\n"
     ]
    },
    {
     "name": "stderr",
     "output_type": "stream",
     "text": [
      "100%|██████████| 8/8 [01:02<00:00,  7.82s/it]\n"
     ]
    },
    {
     "name": "stdout",
     "output_type": "stream",
     "text": [
      "train Loss: 0.0260, MSE: 0.0250, PSNR: 22.0202, SSIM: 0.6480\n"
     ]
    },
    {
     "name": "stderr",
     "output_type": "stream",
     "text": [
      "100%|██████████| 5/5 [00:37<00:00,  7.43s/it]\n"
     ]
    },
    {
     "name": "stdout",
     "output_type": "stream",
     "text": [
      "valid Loss: 0.0490, MSE: 0.0688, PSNR: 17.6446, SSIM: 0.5004\n",
      "Epoch completed in 0:01:40.518780\n",
      "###########################################################\n",
      "####################### Epoch 0070 #######################\n"
     ]
    },
    {
     "name": "stderr",
     "output_type": "stream",
     "text": [
      "100%|██████████| 8/8 [01:02<00:00,  7.77s/it]\n"
     ]
    },
    {
     "name": "stdout",
     "output_type": "stream",
     "text": [
      "train Loss: 0.0232, MSE: 0.0233, PSNR: 22.3163, SSIM: 0.6778\n"
     ]
    },
    {
     "name": "stderr",
     "output_type": "stream",
     "text": [
      "100%|██████████| 5/5 [00:37<00:00,  7.53s/it]\n"
     ]
    },
    {
     "name": "stdout",
     "output_type": "stream",
     "text": [
      "valid Loss: 0.0494, MSE: 0.0693, PSNR: 17.6110, SSIM: 0.5326\n",
      "Epoch completed in 0:01:40.286199\n",
      "###########################################################\n",
      "####################### Epoch 0071 #######################\n"
     ]
    },
    {
     "name": "stderr",
     "output_type": "stream",
     "text": [
      "100%|██████████| 8/8 [01:02<00:00,  7.80s/it]\n"
     ]
    },
    {
     "name": "stdout",
     "output_type": "stream",
     "text": [
      "train Loss: 0.0206, MSE: 0.0217, PSNR: 22.6179, SSIM: 0.6718\n"
     ]
    },
    {
     "name": "stderr",
     "output_type": "stream",
     "text": [
      "100%|██████████| 5/5 [00:37<00:00,  7.53s/it]\n"
     ]
    },
    {
     "name": "stdout",
     "output_type": "stream",
     "text": [
      "valid Loss: 0.0501, MSE: 0.0708, PSNR: 17.5216, SSIM: 0.5293\n",
      "Epoch completed in 0:01:40.523528\n",
      "###########################################################\n",
      "####################### Epoch 0072 #######################\n"
     ]
    },
    {
     "name": "stderr",
     "output_type": "stream",
     "text": [
      "100%|██████████| 8/8 [01:01<00:00,  7.72s/it]\n"
     ]
    },
    {
     "name": "stdout",
     "output_type": "stream",
     "text": [
      "train Loss: 0.0221, MSE: 0.0220, PSNR: 22.5699, SSIM: 0.6709\n"
     ]
    },
    {
     "name": "stderr",
     "output_type": "stream",
     "text": [
      "100%|██████████| 5/5 [00:37<00:00,  7.49s/it]\n"
     ]
    },
    {
     "name": "stdout",
     "output_type": "stream",
     "text": [
      "valid Loss: 0.0511, MSE: 0.0720, PSNR: 17.4493, SSIM: 0.5182\n",
      "Epoch completed in 0:01:39.642744\n",
      "###########################################################\n",
      "####################### Epoch 0073 #######################\n"
     ]
    },
    {
     "name": "stderr",
     "output_type": "stream",
     "text": [
      "100%|██████████| 8/8 [01:01<00:00,  7.64s/it]\n"
     ]
    },
    {
     "name": "stdout",
     "output_type": "stream",
     "text": [
      "train Loss: 0.0227, MSE: 0.0209, PSNR: 22.7967, SSIM: 0.6766\n"
     ]
    },
    {
     "name": "stderr",
     "output_type": "stream",
     "text": [
      "100%|██████████| 5/5 [00:36<00:00,  7.38s/it]\n"
     ]
    },
    {
     "name": "stdout",
     "output_type": "stream",
     "text": [
      "valid Loss: 0.0491, MSE: 0.0696, PSNR: 17.5940, SSIM: 0.5236\n",
      "Epoch completed in 0:01:38.499681\n",
      "###########################################################\n",
      "####################### Epoch 0074 #######################\n"
     ]
    },
    {
     "name": "stderr",
     "output_type": "stream",
     "text": [
      "100%|██████████| 8/8 [01:01<00:00,  7.63s/it]\n"
     ]
    },
    {
     "name": "stdout",
     "output_type": "stream",
     "text": [
      "train Loss: 0.0206, MSE: 0.0205, PSNR: 22.8828, SSIM: 0.6866\n"
     ]
    },
    {
     "name": "stderr",
     "output_type": "stream",
     "text": [
      "100%|██████████| 5/5 [00:36<00:00,  7.38s/it]\n"
     ]
    },
    {
     "name": "stdout",
     "output_type": "stream",
     "text": [
      "valid Loss: 0.0483, MSE: 0.0684, PSNR: 17.6719, SSIM: 0.5334\n",
      "Epoch completed in 0:01:38.723651\n",
      "###########################################################\n",
      "####################### Epoch 0075 #######################\n"
     ]
    },
    {
     "name": "stderr",
     "output_type": "stream",
     "text": [
      "100%|██████████| 8/8 [01:01<00:00,  7.66s/it]\n"
     ]
    },
    {
     "name": "stdout",
     "output_type": "stream",
     "text": [
      "train Loss: 0.0208, MSE: 0.0199, PSNR: 23.0038, SSIM: 0.6800\n"
     ]
    },
    {
     "name": "stderr",
     "output_type": "stream",
     "text": [
      "100%|██████████| 5/5 [00:36<00:00,  7.37s/it]\n"
     ]
    },
    {
     "name": "stdout",
     "output_type": "stream",
     "text": [
      "valid Loss: 0.0472, MSE: 0.0678, PSNR: 17.7068, SSIM: 0.5390\n",
      "Epoch completed in 0:01:38.937834\n",
      "###########################################################\n",
      "####################### Epoch 0076 #######################\n"
     ]
    },
    {
     "name": "stderr",
     "output_type": "stream",
     "text": [
      "100%|██████████| 8/8 [01:02<00:00,  7.79s/it]\n"
     ]
    },
    {
     "name": "stdout",
     "output_type": "stream",
     "text": [
      "train Loss: 0.0200, MSE: 0.0200, PSNR: 22.9829, SSIM: 0.6845\n"
     ]
    },
    {
     "name": "stderr",
     "output_type": "stream",
     "text": [
      "100%|██████████| 5/5 [00:37<00:00,  7.43s/it]\n"
     ]
    },
    {
     "name": "stdout",
     "output_type": "stream",
     "text": [
      "valid Loss: 0.0455, MSE: 0.0656, PSNR: 17.8489, SSIM: 0.5324\n",
      "Epoch completed in 0:01:40.361301\n",
      "###########################################################\n",
      "####################### Epoch 0077 #######################\n"
     ]
    },
    {
     "name": "stderr",
     "output_type": "stream",
     "text": [
      "100%|██████████| 8/8 [01:01<00:00,  7.72s/it]\n"
     ]
    },
    {
     "name": "stdout",
     "output_type": "stream",
     "text": [
      "train Loss: 0.0168, MSE: 0.0196, PSNR: 23.0804, SSIM: 0.6898\n"
     ]
    },
    {
     "name": "stderr",
     "output_type": "stream",
     "text": [
      "100%|██████████| 5/5 [00:37<00:00,  7.41s/it]\n"
     ]
    },
    {
     "name": "stdout",
     "output_type": "stream",
     "text": [
      "valid Loss: 0.0435, MSE: 0.0639, PSNR: 17.9684, SSIM: 0.5466\n",
      "Epoch completed in 0:01:39.541192\n",
      "###########################################################\n",
      "####################### Epoch 0078 #######################\n"
     ]
    },
    {
     "name": "stderr",
     "output_type": "stream",
     "text": [
      "100%|██████████| 8/8 [01:01<00:00,  7.72s/it]\n"
     ]
    },
    {
     "name": "stdout",
     "output_type": "stream",
     "text": [
      "train Loss: 0.0173, MSE: 0.0183, PSNR: 23.3667, SSIM: 0.7053\n"
     ]
    },
    {
     "name": "stderr",
     "output_type": "stream",
     "text": [
      "100%|██████████| 5/5 [00:36<00:00,  7.36s/it]\n"
     ]
    },
    {
     "name": "stdout",
     "output_type": "stream",
     "text": [
      "valid Loss: 0.0435, MSE: 0.0646, PSNR: 17.9200, SSIM: 0.5558\n",
      "Epoch completed in 0:01:39.050682\n",
      "###########################################################\n",
      "####################### Epoch 0079 #######################\n"
     ]
    },
    {
     "name": "stderr",
     "output_type": "stream",
     "text": [
      "100%|██████████| 8/8 [01:01<00:00,  7.70s/it]\n"
     ]
    },
    {
     "name": "stdout",
     "output_type": "stream",
     "text": [
      "train Loss: 0.0192, MSE: 0.0181, PSNR: 23.4104, SSIM: 0.7200\n"
     ]
    },
    {
     "name": "stderr",
     "output_type": "stream",
     "text": [
      "100%|██████████| 5/5 [00:36<00:00,  7.30s/it]\n"
     ]
    },
    {
     "name": "stdout",
     "output_type": "stream",
     "text": [
      "valid Loss: 0.0449, MSE: 0.0659, PSNR: 17.8306, SSIM: 0.5601\n",
      "Epoch completed in 0:01:38.543783\n",
      "###########################################################\n",
      "####################### Epoch 0080 #######################\n"
     ]
    },
    {
     "name": "stderr",
     "output_type": "stream",
     "text": [
      "100%|██████████| 8/8 [01:01<00:00,  7.68s/it]\n"
     ]
    },
    {
     "name": "stdout",
     "output_type": "stream",
     "text": [
      "train Loss: 0.0171, MSE: 0.0169, PSNR: 23.7065, SSIM: 0.7040\n"
     ]
    },
    {
     "name": "stderr",
     "output_type": "stream",
     "text": [
      "100%|██████████| 5/5 [00:37<00:00,  7.45s/it]\n"
     ]
    },
    {
     "name": "stdout",
     "output_type": "stream",
     "text": [
      "valid Loss: 0.0434, MSE: 0.0638, PSNR: 17.9692, SSIM: 0.5473\n",
      "Epoch completed in 0:01:39.455519\n",
      "###########################################################\n",
      "####################### Epoch 0081 #######################\n"
     ]
    },
    {
     "name": "stderr",
     "output_type": "stream",
     "text": [
      "100%|██████████| 8/8 [01:02<00:00,  7.78s/it]\n"
     ]
    },
    {
     "name": "stdout",
     "output_type": "stream",
     "text": [
      "train Loss: 0.0214, MSE: 0.0173, PSNR: 23.5998, SSIM: 0.7189\n"
     ]
    },
    {
     "name": "stderr",
     "output_type": "stream",
     "text": [
      "100%|██████████| 5/5 [00:37<00:00,  7.46s/it]\n"
     ]
    },
    {
     "name": "stdout",
     "output_type": "stream",
     "text": [
      "valid Loss: 0.0468, MSE: 0.0669, PSNR: 17.7635, SSIM: 0.5342\n",
      "Epoch completed in 0:01:40.002171\n",
      "###########################################################\n",
      "####################### Epoch 0082 #######################\n"
     ]
    },
    {
     "name": "stderr",
     "output_type": "stream",
     "text": [
      "100%|██████████| 8/8 [01:02<00:00,  7.83s/it]\n"
     ]
    },
    {
     "name": "stdout",
     "output_type": "stream",
     "text": [
      "train Loss: 0.0181, MSE: 0.0168, PSNR: 23.7476, SSIM: 0.7215\n"
     ]
    },
    {
     "name": "stderr",
     "output_type": "stream",
     "text": [
      "100%|██████████| 5/5 [00:36<00:00,  7.24s/it]\n"
     ]
    },
    {
     "name": "stdout",
     "output_type": "stream",
     "text": [
      "valid Loss: 0.0451, MSE: 0.0655, PSNR: 17.8606, SSIM: 0.5457\n",
      "Epoch completed in 0:01:39.346327\n",
      "###########################################################\n",
      "####################### Epoch 0083 #######################\n"
     ]
    },
    {
     "name": "stderr",
     "output_type": "stream",
     "text": [
      "100%|██████████| 8/8 [01:01<00:00,  7.68s/it]\n"
     ]
    },
    {
     "name": "stdout",
     "output_type": "stream",
     "text": [
      "train Loss: 0.0153, MSE: 0.0157, PSNR: 24.0384, SSIM: 0.7390\n"
     ]
    },
    {
     "name": "stderr",
     "output_type": "stream",
     "text": [
      "100%|██████████| 5/5 [00:36<00:00,  7.27s/it]\n"
     ]
    },
    {
     "name": "stdout",
     "output_type": "stream",
     "text": [
      "valid Loss: 0.0423, MSE: 0.0633, PSNR: 18.0052, SSIM: 0.5630\n",
      "Epoch completed in 0:01:38.621410\n",
      "###########################################################\n",
      "####################### Epoch 0084 #######################\n"
     ]
    },
    {
     "name": "stderr",
     "output_type": "stream",
     "text": [
      "100%|██████████| 8/8 [01:01<00:00,  7.67s/it]\n"
     ]
    },
    {
     "name": "stdout",
     "output_type": "stream",
     "text": [
      "train Loss: 0.0149, MSE: 0.0157, PSNR: 24.0298, SSIM: 0.7361\n"
     ]
    },
    {
     "name": "stderr",
     "output_type": "stream",
     "text": [
      "100%|██████████| 5/5 [00:37<00:00,  7.41s/it]\n"
     ]
    },
    {
     "name": "stdout",
     "output_type": "stream",
     "text": [
      "valid Loss: 0.0423, MSE: 0.0633, PSNR: 18.0077, SSIM: 0.5693\n",
      "Epoch completed in 0:01:39.268998\n",
      "###########################################################\n",
      "####################### Epoch 0085 #######################\n"
     ]
    },
    {
     "name": "stderr",
     "output_type": "stream",
     "text": [
      "100%|██████████| 8/8 [01:02<00:00,  7.77s/it]\n"
     ]
    },
    {
     "name": "stdout",
     "output_type": "stream",
     "text": [
      "train Loss: 0.0135, MSE: 0.0150, PSNR: 24.2259, SSIM: 0.7439\n"
     ]
    },
    {
     "name": "stderr",
     "output_type": "stream",
     "text": [
      "100%|██████████| 5/5 [00:36<00:00,  7.38s/it]\n"
     ]
    },
    {
     "name": "stdout",
     "output_type": "stream",
     "text": [
      "valid Loss: 0.0393, MSE: 0.0605, PSNR: 18.2048, SSIM: 0.5953\n",
      "Epoch completed in 0:01:39.855273\n",
      "###########################################################\n",
      "####################### Epoch 0086 #######################\n"
     ]
    },
    {
     "name": "stderr",
     "output_type": "stream",
     "text": [
      "100%|██████████| 8/8 [01:02<00:00,  7.75s/it]\n"
     ]
    },
    {
     "name": "stdout",
     "output_type": "stream",
     "text": [
      "train Loss: 0.0165, MSE: 0.0146, PSNR: 24.3610, SSIM: 0.7357\n"
     ]
    },
    {
     "name": "stderr",
     "output_type": "stream",
     "text": [
      "100%|██████████| 5/5 [00:36<00:00,  7.37s/it]\n"
     ]
    },
    {
     "name": "stdout",
     "output_type": "stream",
     "text": [
      "valid Loss: 0.0406, MSE: 0.0621, PSNR: 18.0877, SSIM: 0.5846\n",
      "Epoch completed in 0:01:39.331728\n",
      "###########################################################\n",
      "####################### Epoch 0087 #######################\n"
     ]
    },
    {
     "name": "stderr",
     "output_type": "stream",
     "text": [
      "100%|██████████| 8/8 [01:02<00:00,  7.82s/it]\n"
     ]
    },
    {
     "name": "stdout",
     "output_type": "stream",
     "text": [
      "train Loss: 0.0130, MSE: 0.0145, PSNR: 24.3655, SSIM: 0.7339\n"
     ]
    },
    {
     "name": "stderr",
     "output_type": "stream",
     "text": [
      "100%|██████████| 5/5 [00:36<00:00,  7.37s/it]\n"
     ]
    },
    {
     "name": "stdout",
     "output_type": "stream",
     "text": [
      "valid Loss: 0.0376, MSE: 0.0594, PSNR: 18.2819, SSIM: 0.5828\n",
      "Epoch completed in 0:01:40.391615\n",
      "###########################################################\n",
      "####################### Epoch 0088 #######################\n"
     ]
    },
    {
     "name": "stderr",
     "output_type": "stream",
     "text": [
      "100%|██████████| 8/8 [01:02<00:00,  7.79s/it]\n"
     ]
    },
    {
     "name": "stdout",
     "output_type": "stream",
     "text": [
      "train Loss: 0.0127, MSE: 0.0137, PSNR: 24.6138, SSIM: 0.7409\n"
     ]
    },
    {
     "name": "stderr",
     "output_type": "stream",
     "text": [
      "100%|██████████| 5/5 [00:37<00:00,  7.41s/it]\n"
     ]
    },
    {
     "name": "stdout",
     "output_type": "stream",
     "text": [
      "valid Loss: 0.0370, MSE: 0.0584, PSNR: 18.3548, SSIM: 0.5797\n",
      "Epoch completed in 0:01:40.206536\n",
      "###########################################################\n",
      "####################### Epoch 0089 #######################\n"
     ]
    },
    {
     "name": "stderr",
     "output_type": "stream",
     "text": [
      "100%|██████████| 8/8 [01:01<00:00,  7.66s/it]\n"
     ]
    },
    {
     "name": "stdout",
     "output_type": "stream",
     "text": [
      "train Loss: 0.0127, MSE: 0.0136, PSNR: 24.6725, SSIM: 0.7408\n"
     ]
    },
    {
     "name": "stderr",
     "output_type": "stream",
     "text": [
      "100%|██████████| 5/5 [00:36<00:00,  7.36s/it]\n"
     ]
    },
    {
     "name": "stdout",
     "output_type": "stream",
     "text": [
      "valid Loss: 0.0365, MSE: 0.0584, PSNR: 18.3597, SSIM: 0.5758\n",
      "Epoch completed in 0:01:38.971491\n",
      "###########################################################\n",
      "####################### Epoch 0090 #######################\n"
     ]
    },
    {
     "name": "stderr",
     "output_type": "stream",
     "text": [
      "100%|██████████| 8/8 [01:02<00:00,  7.77s/it]\n"
     ]
    },
    {
     "name": "stdout",
     "output_type": "stream",
     "text": [
      "train Loss: 0.0126, MSE: 0.0140, PSNR: 24.5345, SSIM: 0.7412\n"
     ]
    },
    {
     "name": "stderr",
     "output_type": "stream",
     "text": [
      "100%|██████████| 5/5 [00:36<00:00,  7.25s/it]\n"
     ]
    },
    {
     "name": "stdout",
     "output_type": "stream",
     "text": [
      "valid Loss: 0.0364, MSE: 0.0576, PSNR: 18.4158, SSIM: 0.5771\n",
      "Epoch completed in 0:01:39.139851\n",
      "###########################################################\n",
      "####################### Epoch 0091 #######################\n"
     ]
    },
    {
     "name": "stderr",
     "output_type": "stream",
     "text": [
      "100%|██████████| 8/8 [01:01<00:00,  7.71s/it]\n"
     ]
    },
    {
     "name": "stdout",
     "output_type": "stream",
     "text": [
      "train Loss: 0.0135, MSE: 0.0130, PSNR: 24.8660, SSIM: 0.7472\n"
     ]
    },
    {
     "name": "stderr",
     "output_type": "stream",
     "text": [
      "100%|██████████| 5/5 [00:36<00:00,  7.32s/it]\n"
     ]
    },
    {
     "name": "stdout",
     "output_type": "stream",
     "text": [
      "valid Loss: 0.0379, MSE: 0.0591, PSNR: 18.3065, SSIM: 0.5929\n",
      "Epoch completed in 0:01:38.720253\n",
      "###########################################################\n",
      "####################### Epoch 0092 #######################\n"
     ]
    },
    {
     "name": "stderr",
     "output_type": "stream",
     "text": [
      "100%|██████████| 8/8 [01:02<00:00,  7.85s/it]\n"
     ]
    },
    {
     "name": "stdout",
     "output_type": "stream",
     "text": [
      "train Loss: 0.0133, MSE: 0.0130, PSNR: 24.8570, SSIM: 0.7568\n"
     ]
    },
    {
     "name": "stderr",
     "output_type": "stream",
     "text": [
      "100%|██████████| 5/5 [00:37<00:00,  7.53s/it]\n"
     ]
    },
    {
     "name": "stdout",
     "output_type": "stream",
     "text": [
      "valid Loss: 0.0378, MSE: 0.0592, PSNR: 18.2961, SSIM: 0.5822\n",
      "Epoch completed in 0:01:40.929898\n",
      "###########################################################\n",
      "####################### Epoch 0093 #######################\n"
     ]
    },
    {
     "name": "stderr",
     "output_type": "stream",
     "text": [
      "100%|██████████| 8/8 [01:02<00:00,  7.84s/it]\n"
     ]
    },
    {
     "name": "stdout",
     "output_type": "stream",
     "text": [
      "train Loss: 0.0127, MSE: 0.0130, PSNR: 24.8519, SSIM: 0.7573\n"
     ]
    },
    {
     "name": "stderr",
     "output_type": "stream",
     "text": [
      "100%|██████████| 5/5 [00:37<00:00,  7.48s/it]\n"
     ]
    },
    {
     "name": "stdout",
     "output_type": "stream",
     "text": [
      "valid Loss: 0.0355, MSE: 0.0575, PSNR: 18.4243, SSIM: 0.5892\n",
      "Epoch completed in 0:01:40.865294\n",
      "###########################################################\n",
      "####################### Epoch 0094 #######################\n"
     ]
    },
    {
     "name": "stderr",
     "output_type": "stream",
     "text": [
      "100%|██████████| 8/8 [01:03<00:00,  7.89s/it]\n"
     ]
    },
    {
     "name": "stdout",
     "output_type": "stream",
     "text": [
      "train Loss: 0.0109, MSE: 0.0119, PSNR: 25.2404, SSIM: 0.7668\n"
     ]
    },
    {
     "name": "stderr",
     "output_type": "stream",
     "text": [
      "100%|██████████| 5/5 [00:37<00:00,  7.57s/it]\n"
     ]
    },
    {
     "name": "stdout",
     "output_type": "stream",
     "text": [
      "valid Loss: 0.0367, MSE: 0.0589, PSNR: 18.3200, SSIM: 0.6156\n",
      "Epoch completed in 0:01:41.397831\n",
      "###########################################################\n",
      "####################### Epoch 0095 #######################\n"
     ]
    },
    {
     "name": "stderr",
     "output_type": "stream",
     "text": [
      "100%|██████████| 8/8 [01:01<00:00,  7.65s/it]\n"
     ]
    },
    {
     "name": "stdout",
     "output_type": "stream",
     "text": [
      "train Loss: 0.0136, MSE: 0.0117, PSNR: 25.2985, SSIM: 0.7802\n"
     ]
    },
    {
     "name": "stderr",
     "output_type": "stream",
     "text": [
      "100%|██████████| 5/5 [00:36<00:00,  7.26s/it]\n"
     ]
    },
    {
     "name": "stdout",
     "output_type": "stream",
     "text": [
      "valid Loss: 0.0357, MSE: 0.0574, PSNR: 18.4344, SSIM: 0.6095\n",
      "Epoch completed in 0:01:38.288292\n",
      "###########################################################\n",
      "####################### Epoch 0096 #######################\n"
     ]
    },
    {
     "name": "stderr",
     "output_type": "stream",
     "text": [
      "100%|██████████| 8/8 [01:00<00:00,  7.62s/it]\n"
     ]
    },
    {
     "name": "stdout",
     "output_type": "stream",
     "text": [
      "train Loss: 0.0115, MSE: 0.0119, PSNR: 25.2486, SSIM: 0.7826\n"
     ]
    },
    {
     "name": "stderr",
     "output_type": "stream",
     "text": [
      "100%|██████████| 5/5 [00:35<00:00,  7.10s/it]\n"
     ]
    },
    {
     "name": "stdout",
     "output_type": "stream",
     "text": [
      "valid Loss: 0.0366, MSE: 0.0579, PSNR: 18.3924, SSIM: 0.5798\n",
      "Epoch completed in 0:01:36.941851\n",
      "###########################################################\n",
      "####################### Epoch 0097 #######################\n"
     ]
    },
    {
     "name": "stderr",
     "output_type": "stream",
     "text": [
      "100%|██████████| 8/8 [00:59<00:00,  7.47s/it]\n"
     ]
    },
    {
     "name": "stdout",
     "output_type": "stream",
     "text": [
      "train Loss: 0.0133, MSE: 0.0127, PSNR: 24.9508, SSIM: 0.7564\n"
     ]
    },
    {
     "name": "stderr",
     "output_type": "stream",
     "text": [
      "100%|██████████| 5/5 [00:35<00:00,  7.11s/it]\n"
     ]
    },
    {
     "name": "stdout",
     "output_type": "stream",
     "text": [
      "valid Loss: 0.0398, MSE: 0.0610, PSNR: 18.1649, SSIM: 0.5695\n",
      "Epoch completed in 0:01:35.735967\n",
      "###########################################################\n",
      "####################### Epoch 0098 #######################\n"
     ]
    },
    {
     "name": "stderr",
     "output_type": "stream",
     "text": [
      "100%|██████████| 8/8 [00:59<00:00,  7.43s/it]\n"
     ]
    },
    {
     "name": "stdout",
     "output_type": "stream",
     "text": [
      "train Loss: 0.0113, MSE: 0.0120, PSNR: 25.1975, SSIM: 0.7590\n"
     ]
    },
    {
     "name": "stderr",
     "output_type": "stream",
     "text": [
      "100%|██████████| 5/5 [00:35<00:00,  7.15s/it]\n"
     ]
    },
    {
     "name": "stdout",
     "output_type": "stream",
     "text": [
      "valid Loss: 0.0375, MSE: 0.0590, PSNR: 18.3137, SSIM: 0.5996\n",
      "Epoch completed in 0:01:35.663859\n",
      "###########################################################\n",
      "####################### Epoch 0099 #######################\n"
     ]
    },
    {
     "name": "stderr",
     "output_type": "stream",
     "text": [
      "100%|██████████| 8/8 [00:59<00:00,  7.49s/it]\n"
     ]
    },
    {
     "name": "stdout",
     "output_type": "stream",
     "text": [
      "train Loss: 0.0106, MSE: 0.0121, PSNR: 25.1706, SSIM: 0.7628\n"
     ]
    },
    {
     "name": "stderr",
     "output_type": "stream",
     "text": [
      "100%|██████████| 5/5 [00:35<00:00,  7.04s/it]\n"
     ]
    },
    {
     "name": "stdout",
     "output_type": "stream",
     "text": [
      "valid Loss: 0.0342, MSE: 0.0562, PSNR: 18.5263, SSIM: 0.5928\n",
      "Epoch completed in 0:01:35.896858\n",
      "###########################################################\n",
      "####################### Epoch 0100 #######################\n"
     ]
    },
    {
     "name": "stderr",
     "output_type": "stream",
     "text": [
      "100%|██████████| 8/8 [00:59<00:00,  7.48s/it]\n"
     ]
    },
    {
     "name": "stdout",
     "output_type": "stream",
     "text": [
      "train Loss: 0.0115, MSE: 0.0114, PSNR: 25.4192, SSIM: 0.7816\n"
     ]
    },
    {
     "name": "stderr",
     "output_type": "stream",
     "text": [
      "100%|██████████| 5/5 [00:35<00:00,  7.11s/it]\n"
     ]
    },
    {
     "name": "stdout",
     "output_type": "stream",
     "text": [
      "valid Loss: 0.0346, MSE: 0.0565, PSNR: 18.5028, SSIM: 0.5865\n",
      "Epoch completed in 0:01:35.881396\n",
      "###########################################################\n",
      "####################### Epoch 0101 #######################\n"
     ]
    },
    {
     "name": "stderr",
     "output_type": "stream",
     "text": [
      "100%|██████████| 8/8 [01:00<00:00,  7.60s/it]\n"
     ]
    },
    {
     "name": "stdout",
     "output_type": "stream",
     "text": [
      "train Loss: 0.0108, MSE: 0.0116, PSNR: 25.3532, SSIM: 0.7718\n"
     ]
    },
    {
     "name": "stderr",
     "output_type": "stream",
     "text": [
      "100%|██████████| 5/5 [00:35<00:00,  7.16s/it]\n"
     ]
    },
    {
     "name": "stdout",
     "output_type": "stream",
     "text": [
      "valid Loss: 0.0356, MSE: 0.0569, PSNR: 18.4679, SSIM: 0.5882\n",
      "Epoch completed in 0:01:37.063313\n",
      "###########################################################\n",
      "####################### Epoch 0102 #######################\n"
     ]
    },
    {
     "name": "stderr",
     "output_type": "stream",
     "text": [
      "100%|██████████| 8/8 [01:00<00:00,  7.55s/it]\n"
     ]
    },
    {
     "name": "stdout",
     "output_type": "stream",
     "text": [
      "train Loss: 0.0114, MSE: 0.0107, PSNR: 25.6832, SSIM: 0.7883\n"
     ]
    },
    {
     "name": "stderr",
     "output_type": "stream",
     "text": [
      "100%|██████████| 5/5 [00:35<00:00,  7.13s/it]\n"
     ]
    },
    {
     "name": "stdout",
     "output_type": "stream",
     "text": [
      "valid Loss: 0.0370, MSE: 0.0581, PSNR: 18.3754, SSIM: 0.5857\n",
      "Epoch completed in 0:01:36.544754\n",
      "###########################################################\n",
      "####################### Epoch 0103 #######################\n"
     ]
    },
    {
     "name": "stderr",
     "output_type": "stream",
     "text": [
      "100%|██████████| 8/8 [01:00<00:00,  7.52s/it]\n"
     ]
    },
    {
     "name": "stdout",
     "output_type": "stream",
     "text": [
      "train Loss: 0.0109, MSE: 0.0113, PSNR: 25.4441, SSIM: 0.7840\n"
     ]
    },
    {
     "name": "stderr",
     "output_type": "stream",
     "text": [
      "100%|██████████| 5/5 [00:36<00:00,  7.23s/it]\n"
     ]
    },
    {
     "name": "stdout",
     "output_type": "stream",
     "text": [
      "valid Loss: 0.0358, MSE: 0.0579, PSNR: 18.3953, SSIM: 0.5868\n",
      "Epoch completed in 0:01:36.804488\n",
      "###########################################################\n",
      "####################### Epoch 0104 #######################\n"
     ]
    },
    {
     "name": "stderr",
     "output_type": "stream",
     "text": [
      "100%|██████████| 8/8 [01:02<00:00,  7.77s/it]\n"
     ]
    },
    {
     "name": "stdout",
     "output_type": "stream",
     "text": [
      "train Loss: 0.0114, MSE: 0.0107, PSNR: 25.6820, SSIM: 0.7779\n"
     ]
    },
    {
     "name": "stderr",
     "output_type": "stream",
     "text": [
      "100%|██████████| 5/5 [00:36<00:00,  7.27s/it]\n"
     ]
    },
    {
     "name": "stdout",
     "output_type": "stream",
     "text": [
      "valid Loss: 0.0348, MSE: 0.0568, PSNR: 18.4742, SSIM: 0.5959\n",
      "Epoch completed in 0:01:38.928544\n",
      "###########################################################\n",
      "####################### Epoch 0105 #######################\n"
     ]
    },
    {
     "name": "stderr",
     "output_type": "stream",
     "text": [
      "100%|██████████| 8/8 [01:00<00:00,  7.59s/it]\n"
     ]
    },
    {
     "name": "stdout",
     "output_type": "stream",
     "text": [
      "train Loss: 0.0105, MSE: 0.0105, PSNR: 25.7603, SSIM: 0.7803\n"
     ]
    },
    {
     "name": "stderr",
     "output_type": "stream",
     "text": [
      "100%|██████████| 5/5 [00:35<00:00,  7.18s/it]\n"
     ]
    },
    {
     "name": "stdout",
     "output_type": "stream",
     "text": [
      "valid Loss: 0.0344, MSE: 0.0558, PSNR: 18.5523, SSIM: 0.5963\n",
      "Epoch completed in 0:01:37.429955\n",
      "###########################################################\n",
      "####################### Epoch 0106 #######################\n"
     ]
    },
    {
     "name": "stderr",
     "output_type": "stream",
     "text": [
      "100%|██████████| 8/8 [01:00<00:00,  7.59s/it]\n"
     ]
    },
    {
     "name": "stdout",
     "output_type": "stream",
     "text": [
      "train Loss: 0.0096, MSE: 0.0100, PSNR: 25.9787, SSIM: 0.7970\n"
     ]
    },
    {
     "name": "stderr",
     "output_type": "stream",
     "text": [
      "100%|██████████| 5/5 [00:35<00:00,  7.16s/it]\n"
     ]
    },
    {
     "name": "stdout",
     "output_type": "stream",
     "text": [
      "valid Loss: 0.0329, MSE: 0.0547, PSNR: 18.6368, SSIM: 0.6027\n",
      "Epoch completed in 0:01:37.270454\n",
      "###########################################################\n",
      "####################### Epoch 0107 #######################\n"
     ]
    },
    {
     "name": "stderr",
     "output_type": "stream",
     "text": [
      "100%|██████████| 8/8 [01:00<00:00,  7.61s/it]\n"
     ]
    },
    {
     "name": "stdout",
     "output_type": "stream",
     "text": [
      "train Loss: 0.0104, MSE: 0.0103, PSNR: 25.8556, SSIM: 0.8148\n"
     ]
    },
    {
     "name": "stderr",
     "output_type": "stream",
     "text": [
      "100%|██████████| 5/5 [00:35<00:00,  7.17s/it]\n"
     ]
    },
    {
     "name": "stdout",
     "output_type": "stream",
     "text": [
      "valid Loss: 0.0393, MSE: 0.0609, PSNR: 18.1749, SSIM: 0.7316\n",
      "Epoch completed in 0:01:37.161887\n",
      "###########################################################\n",
      "####################### Epoch 0108 #######################\n"
     ]
    },
    {
     "name": "stderr",
     "output_type": "stream",
     "text": [
      "100%|██████████| 8/8 [01:00<00:00,  7.62s/it]\n"
     ]
    },
    {
     "name": "stdout",
     "output_type": "stream",
     "text": [
      "train Loss: 0.0101, MSE: 0.0108, PSNR: 25.6419, SSIM: 0.7905\n"
     ]
    },
    {
     "name": "stderr",
     "output_type": "stream",
     "text": [
      "100%|██████████| 5/5 [00:35<00:00,  7.15s/it]\n"
     ]
    },
    {
     "name": "stdout",
     "output_type": "stream",
     "text": [
      "valid Loss: 0.0361, MSE: 0.0582, PSNR: 18.3689, SSIM: 0.6634\n",
      "Epoch completed in 0:01:37.099105\n",
      "###########################################################\n",
      "####################### Epoch 0109 #######################\n"
     ]
    },
    {
     "name": "stderr",
     "output_type": "stream",
     "text": [
      "100%|██████████| 8/8 [00:59<00:00,  7.49s/it]\n"
     ]
    },
    {
     "name": "stdout",
     "output_type": "stream",
     "text": [
      "train Loss: 0.0118, MSE: 0.0107, PSNR: 25.7029, SSIM: 0.7955\n"
     ]
    },
    {
     "name": "stderr",
     "output_type": "stream",
     "text": [
      "100%|██████████| 5/5 [00:36<00:00,  7.38s/it]\n"
     ]
    },
    {
     "name": "stdout",
     "output_type": "stream",
     "text": [
      "valid Loss: 0.0357, MSE: 0.0582, PSNR: 18.3729, SSIM: 0.5959\n",
      "Epoch completed in 0:01:37.305758\n",
      "###########################################################\n",
      "####################### Epoch 0110 #######################\n"
     ]
    },
    {
     "name": "stderr",
     "output_type": "stream",
     "text": [
      "100%|██████████| 8/8 [01:01<00:00,  7.68s/it]\n"
     ]
    },
    {
     "name": "stdout",
     "output_type": "stream",
     "text": [
      "train Loss: 0.0102, MSE: 0.0101, PSNR: 25.9630, SSIM: 0.8044\n"
     ]
    },
    {
     "name": "stderr",
     "output_type": "stream",
     "text": [
      "100%|██████████| 5/5 [00:35<00:00,  7.04s/it]\n"
     ]
    },
    {
     "name": "stdout",
     "output_type": "stream",
     "text": [
      "valid Loss: 0.0344, MSE: 0.0569, PSNR: 18.4707, SSIM: 0.5960\n",
      "Epoch completed in 0:01:37.094680\n",
      "###########################################################\n",
      "####################### Epoch 0111 #######################\n"
     ]
    },
    {
     "name": "stderr",
     "output_type": "stream",
     "text": [
      "100%|██████████| 8/8 [01:00<00:00,  7.57s/it]\n"
     ]
    },
    {
     "name": "stdout",
     "output_type": "stream",
     "text": [
      "train Loss: 0.0104, MSE: 0.0105, PSNR: 25.7604, SSIM: 0.7872\n"
     ]
    },
    {
     "name": "stderr",
     "output_type": "stream",
     "text": [
      "100%|██████████| 5/5 [00:35<00:00,  7.15s/it]\n"
     ]
    },
    {
     "name": "stdout",
     "output_type": "stream",
     "text": [
      "valid Loss: 0.0327, MSE: 0.0549, PSNR: 18.6240, SSIM: 0.5909\n",
      "Epoch completed in 0:01:36.763643\n",
      "###########################################################\n",
      "####################### Epoch 0112 #######################\n"
     ]
    },
    {
     "name": "stderr",
     "output_type": "stream",
     "text": [
      "100%|██████████| 8/8 [01:01<00:00,  7.72s/it]\n"
     ]
    },
    {
     "name": "stdout",
     "output_type": "stream",
     "text": [
      "train Loss: 0.0093, MSE: 0.0097, PSNR: 26.1276, SSIM: 0.8107\n"
     ]
    },
    {
     "name": "stderr",
     "output_type": "stream",
     "text": [
      "100%|██████████| 5/5 [00:37<00:00,  7.44s/it]\n"
     ]
    },
    {
     "name": "stdout",
     "output_type": "stream",
     "text": [
      "valid Loss: 0.0326, MSE: 0.0547, PSNR: 18.6413, SSIM: 0.5898\n",
      "Epoch completed in 0:01:39.785687\n",
      "###########################################################\n",
      "####################### Epoch 0113 #######################\n"
     ]
    },
    {
     "name": "stderr",
     "output_type": "stream",
     "text": [
      "100%|██████████| 8/8 [01:01<00:00,  7.68s/it]\n"
     ]
    },
    {
     "name": "stdout",
     "output_type": "stream",
     "text": [
      "train Loss: 0.0095, MSE: 0.0096, PSNR: 26.1910, SSIM: 0.7950\n"
     ]
    },
    {
     "name": "stderr",
     "output_type": "stream",
     "text": [
      "100%|██████████| 5/5 [00:36<00:00,  7.23s/it]\n"
     ]
    },
    {
     "name": "stdout",
     "output_type": "stream",
     "text": [
      "valid Loss: 0.0315, MSE: 0.0536, PSNR: 18.7308, SSIM: 0.5993\n",
      "Epoch completed in 0:01:38.401726\n",
      "###########################################################\n",
      "####################### Epoch 0114 #######################\n"
     ]
    },
    {
     "name": "stderr",
     "output_type": "stream",
     "text": [
      "100%|██████████| 8/8 [01:00<00:00,  7.56s/it]\n"
     ]
    },
    {
     "name": "stdout",
     "output_type": "stream",
     "text": [
      "train Loss: 0.0100, MSE: 0.0095, PSNR: 26.2252, SSIM: 0.7975\n"
     ]
    },
    {
     "name": "stderr",
     "output_type": "stream",
     "text": [
      "100%|██████████| 5/5 [00:35<00:00,  7.16s/it]\n"
     ]
    },
    {
     "name": "stdout",
     "output_type": "stream",
     "text": [
      "valid Loss: 0.0329, MSE: 0.0552, PSNR: 18.5977, SSIM: 0.5955\n",
      "Epoch completed in 0:01:36.731308\n",
      "###########################################################\n",
      "####################### Epoch 0115 #######################\n"
     ]
    },
    {
     "name": "stderr",
     "output_type": "stream",
     "text": [
      "100%|██████████| 8/8 [00:59<00:00,  7.46s/it]\n"
     ]
    },
    {
     "name": "stdout",
     "output_type": "stream",
     "text": [
      "train Loss: 0.0092, MSE: 0.0098, PSNR: 26.0705, SSIM: 0.7902\n"
     ]
    },
    {
     "name": "stderr",
     "output_type": "stream",
     "text": [
      "100%|██████████| 5/5 [00:35<00:00,  7.14s/it]\n"
     ]
    },
    {
     "name": "stdout",
     "output_type": "stream",
     "text": [
      "valid Loss: 0.0336, MSE: 0.0556, PSNR: 18.5688, SSIM: 0.6034\n",
      "Epoch completed in 0:01:35.847881\n",
      "###########################################################\n",
      "####################### Epoch 0116 #######################\n"
     ]
    },
    {
     "name": "stderr",
     "output_type": "stream",
     "text": [
      "100%|██████████| 8/8 [01:00<00:00,  7.62s/it]\n"
     ]
    },
    {
     "name": "stdout",
     "output_type": "stream",
     "text": [
      "train Loss: 0.0106, MSE: 0.0100, PSNR: 25.9915, SSIM: 0.7886\n"
     ]
    },
    {
     "name": "stderr",
     "output_type": "stream",
     "text": [
      "100%|██████████| 5/5 [00:35<00:00,  7.14s/it]\n"
     ]
    },
    {
     "name": "stdout",
     "output_type": "stream",
     "text": [
      "valid Loss: 0.0333, MSE: 0.0560, PSNR: 18.5406, SSIM: 0.6065\n",
      "Epoch completed in 0:01:37.096151\n",
      "###########################################################\n",
      "####################### Epoch 0117 #######################\n"
     ]
    },
    {
     "name": "stderr",
     "output_type": "stream",
     "text": [
      "100%|██████████| 8/8 [01:00<00:00,  7.58s/it]\n"
     ]
    },
    {
     "name": "stdout",
     "output_type": "stream",
     "text": [
      "train Loss: 0.0108, MSE: 0.0100, PSNR: 25.9808, SSIM: 0.7945\n"
     ]
    },
    {
     "name": "stderr",
     "output_type": "stream",
     "text": [
      "100%|██████████| 5/5 [00:35<00:00,  7.18s/it]\n"
     ]
    },
    {
     "name": "stdout",
     "output_type": "stream",
     "text": [
      "valid Loss: 0.0351, MSE: 0.0574, PSNR: 18.4341, SSIM: 0.6029\n",
      "Epoch completed in 0:01:36.958080\n",
      "###########################################################\n",
      "####################### Epoch 0118 #######################\n"
     ]
    },
    {
     "name": "stderr",
     "output_type": "stream",
     "text": [
      "100%|██████████| 8/8 [01:00<00:00,  7.58s/it]\n"
     ]
    },
    {
     "name": "stdout",
     "output_type": "stream",
     "text": [
      "train Loss: 0.0094, MSE: 0.0091, PSNR: 26.4103, SSIM: 0.8114\n"
     ]
    },
    {
     "name": "stderr",
     "output_type": "stream",
     "text": [
      "100%|██████████| 5/5 [00:36<00:00,  7.21s/it]\n"
     ]
    },
    {
     "name": "stdout",
     "output_type": "stream",
     "text": [
      "valid Loss: 0.0334, MSE: 0.0559, PSNR: 18.5471, SSIM: 0.6113\n",
      "Epoch completed in 0:01:37.108282\n",
      "###########################################################\n",
      "####################### Epoch 0119 #######################\n"
     ]
    },
    {
     "name": "stderr",
     "output_type": "stream",
     "text": [
      "100%|██████████| 8/8 [01:02<00:00,  7.80s/it]\n"
     ]
    },
    {
     "name": "stdout",
     "output_type": "stream",
     "text": [
      "train Loss: 0.0091, MSE: 0.0090, PSNR: 26.4613, SSIM: 0.8094\n"
     ]
    },
    {
     "name": "stderr",
     "output_type": "stream",
     "text": [
      "100%|██████████| 5/5 [00:35<00:00,  7.14s/it]\n"
     ]
    },
    {
     "name": "stdout",
     "output_type": "stream",
     "text": [
      "valid Loss: 0.0323, MSE: 0.0548, PSNR: 18.6293, SSIM: 0.5993\n",
      "Epoch completed in 0:01:38.576005\n",
      "###########################################################\n",
      "####################### Epoch 0120 #######################\n"
     ]
    },
    {
     "name": "stderr",
     "output_type": "stream",
     "text": [
      "100%|██████████| 8/8 [01:00<00:00,  7.60s/it]\n"
     ]
    },
    {
     "name": "stdout",
     "output_type": "stream",
     "text": [
      "train Loss: 0.0092, MSE: 0.0090, PSNR: 26.4507, SSIM: 0.7958\n"
     ]
    },
    {
     "name": "stderr",
     "output_type": "stream",
     "text": [
      "100%|██████████| 5/5 [00:35<00:00,  7.16s/it]\n"
     ]
    },
    {
     "name": "stdout",
     "output_type": "stream",
     "text": [
      "valid Loss: 0.0322, MSE: 0.0542, PSNR: 18.6788, SSIM: 0.6042\n",
      "Epoch completed in 0:01:37.100651\n",
      "###########################################################\n",
      "####################### Epoch 0121 #######################\n"
     ]
    },
    {
     "name": "stderr",
     "output_type": "stream",
     "text": [
      "100%|██████████| 8/8 [01:00<00:00,  7.61s/it]\n"
     ]
    },
    {
     "name": "stdout",
     "output_type": "stream",
     "text": [
      "train Loss: 0.0091, MSE: 0.0090, PSNR: 26.4708, SSIM: 0.8066\n"
     ]
    },
    {
     "name": "stderr",
     "output_type": "stream",
     "text": [
      "100%|██████████| 5/5 [00:36<00:00,  7.31s/it]\n"
     ]
    },
    {
     "name": "stdout",
     "output_type": "stream",
     "text": [
      "valid Loss: 0.0325, MSE: 0.0547, PSNR: 18.6413, SSIM: 0.6086\n",
      "Epoch completed in 0:01:37.902936\n",
      "###########################################################\n",
      "####################### Epoch 0122 #######################\n"
     ]
    },
    {
     "name": "stderr",
     "output_type": "stream",
     "text": [
      "100%|██████████| 8/8 [00:59<00:00,  7.50s/it]\n"
     ]
    },
    {
     "name": "stdout",
     "output_type": "stream",
     "text": [
      "train Loss: 0.0084, MSE: 0.0088, PSNR: 26.5450, SSIM: 0.8111\n"
     ]
    },
    {
     "name": "stderr",
     "output_type": "stream",
     "text": [
      "100%|██████████| 5/5 [00:35<00:00,  7.11s/it]\n"
     ]
    },
    {
     "name": "stdout",
     "output_type": "stream",
     "text": [
      "valid Loss: 0.0328, MSE: 0.0550, PSNR: 18.6190, SSIM: 0.6042\n",
      "Epoch completed in 0:01:35.988961\n",
      "###########################################################\n",
      "####################### Epoch 0123 #######################\n"
     ]
    },
    {
     "name": "stderr",
     "output_type": "stream",
     "text": [
      "100%|██████████| 8/8 [00:59<00:00,  7.50s/it]\n"
     ]
    },
    {
     "name": "stdout",
     "output_type": "stream",
     "text": [
      "train Loss: 0.0100, MSE: 0.0095, PSNR: 26.2122, SSIM: 0.7919\n"
     ]
    },
    {
     "name": "stderr",
     "output_type": "stream",
     "text": [
      "100%|██████████| 5/5 [00:34<00:00,  6.99s/it]\n"
     ]
    },
    {
     "name": "stdout",
     "output_type": "stream",
     "text": [
      "valid Loss: 0.0324, MSE: 0.0545, PSNR: 18.6587, SSIM: 0.6031\n",
      "Epoch completed in 0:01:35.414798\n",
      "###########################################################\n",
      "####################### Epoch 0124 #######################\n"
     ]
    },
    {
     "name": "stderr",
     "output_type": "stream",
     "text": [
      "100%|██████████| 8/8 [00:58<00:00,  7.35s/it]\n"
     ]
    },
    {
     "name": "stdout",
     "output_type": "stream",
     "text": [
      "train Loss: 0.0081, MSE: 0.0081, PSNR: 26.9093, SSIM: 0.8199\n"
     ]
    },
    {
     "name": "stderr",
     "output_type": "stream",
     "text": [
      "100%|██████████| 5/5 [00:35<00:00,  7.07s/it]\n"
     ]
    },
    {
     "name": "stdout",
     "output_type": "stream",
     "text": [
      "valid Loss: 0.0315, MSE: 0.0537, PSNR: 18.7227, SSIM: 0.6000\n",
      "Epoch completed in 0:01:34.591743\n",
      "###########################################################\n",
      "####################### Epoch 0125 #######################\n"
     ]
    },
    {
     "name": "stderr",
     "output_type": "stream",
     "text": [
      "100%|██████████| 8/8 [00:58<00:00,  7.36s/it]\n"
     ]
    },
    {
     "name": "stdout",
     "output_type": "stream",
     "text": [
      "train Loss: 0.0106, MSE: 0.0104, PSNR: 25.8394, SSIM: 0.7804\n"
     ]
    },
    {
     "name": "stderr",
     "output_type": "stream",
     "text": [
      "100%|██████████| 5/5 [00:34<00:00,  7.00s/it]\n"
     ]
    },
    {
     "name": "stdout",
     "output_type": "stream",
     "text": [
      "valid Loss: 0.0320, MSE: 0.0539, PSNR: 18.7077, SSIM: 0.5857\n",
      "Epoch completed in 0:01:34.309630\n",
      "###########################################################\n",
      "####################### Epoch 0126 #######################\n"
     ]
    },
    {
     "name": "stderr",
     "output_type": "stream",
     "text": [
      "100%|██████████| 8/8 [00:58<00:00,  7.31s/it]\n"
     ]
    },
    {
     "name": "stdout",
     "output_type": "stream",
     "text": [
      "train Loss: 0.0085, MSE: 0.0088, PSNR: 26.5230, SSIM: 0.8224\n"
     ]
    },
    {
     "name": "stderr",
     "output_type": "stream",
     "text": [
      "100%|██████████| 5/5 [00:34<00:00,  6.91s/it]\n"
     ]
    },
    {
     "name": "stdout",
     "output_type": "stream",
     "text": [
      "valid Loss: 0.0311, MSE: 0.0539, PSNR: 18.7025, SSIM: 0.6138\n",
      "Epoch completed in 0:01:33.492188\n",
      "###########################################################\n",
      "####################### Epoch 0127 #######################\n"
     ]
    },
    {
     "name": "stderr",
     "output_type": "stream",
     "text": [
      "100%|██████████| 8/8 [00:58<00:00,  7.27s/it]\n"
     ]
    },
    {
     "name": "stdout",
     "output_type": "stream",
     "text": [
      "train Loss: 0.0081, MSE: 0.0093, PSNR: 26.3247, SSIM: 0.8133\n"
     ]
    },
    {
     "name": "stderr",
     "output_type": "stream",
     "text": [
      "100%|██████████| 5/5 [00:35<00:00,  7.05s/it]\n"
     ]
    },
    {
     "name": "stdout",
     "output_type": "stream",
     "text": [
      "valid Loss: 0.0310, MSE: 0.0536, PSNR: 18.7312, SSIM: 0.6195\n",
      "Epoch completed in 0:01:34.154590\n",
      "###########################################################\n",
      "####################### Epoch 0128 #######################\n"
     ]
    },
    {
     "name": "stderr",
     "output_type": "stream",
     "text": [
      "100%|██████████| 8/8 [00:59<00:00,  7.38s/it]\n"
     ]
    },
    {
     "name": "stdout",
     "output_type": "stream",
     "text": [
      "train Loss: 0.0082, MSE: 0.0086, PSNR: 26.6460, SSIM: 0.8378\n"
     ]
    },
    {
     "name": "stderr",
     "output_type": "stream",
     "text": [
      "100%|██████████| 5/5 [00:35<00:00,  7.06s/it]\n"
     ]
    },
    {
     "name": "stdout",
     "output_type": "stream",
     "text": [
      "valid Loss: 0.0316, MSE: 0.0533, PSNR: 18.7520, SSIM: 0.6171\n",
      "Epoch completed in 0:01:35.253106\n",
      "###########################################################\n",
      "####################### Epoch 0129 #######################\n"
     ]
    },
    {
     "name": "stderr",
     "output_type": "stream",
     "text": [
      "100%|██████████| 8/8 [00:58<00:00,  7.36s/it]\n"
     ]
    },
    {
     "name": "stdout",
     "output_type": "stream",
     "text": [
      "train Loss: 0.0090, MSE: 0.0085, PSNR: 26.7050, SSIM: 0.8232\n"
     ]
    },
    {
     "name": "stderr",
     "output_type": "stream",
     "text": [
      "100%|██████████| 5/5 [00:35<00:00,  7.03s/it]\n"
     ]
    },
    {
     "name": "stdout",
     "output_type": "stream",
     "text": [
      "valid Loss: 0.0319, MSE: 0.0541, PSNR: 18.6892, SSIM: 0.6193\n",
      "Epoch completed in 0:01:34.508227\n",
      "###########################################################\n",
      "####################### Epoch 0130 #######################\n"
     ]
    },
    {
     "name": "stderr",
     "output_type": "stream",
     "text": [
      "100%|██████████| 8/8 [00:59<00:00,  7.46s/it]\n"
     ]
    },
    {
     "name": "stdout",
     "output_type": "stream",
     "text": [
      "train Loss: 0.0082, MSE: 0.0094, PSNR: 26.2539, SSIM: 0.7994\n"
     ]
    },
    {
     "name": "stderr",
     "output_type": "stream",
     "text": [
      "100%|██████████| 5/5 [00:35<00:00,  7.11s/it]\n"
     ]
    },
    {
     "name": "stdout",
     "output_type": "stream",
     "text": [
      "valid Loss: 0.0317, MSE: 0.0540, PSNR: 18.6981, SSIM: 0.6206\n",
      "Epoch completed in 0:01:35.648750\n",
      "###########################################################\n",
      "####################### Epoch 0131 #######################\n"
     ]
    },
    {
     "name": "stderr",
     "output_type": "stream",
     "text": [
      "100%|██████████| 8/8 [01:00<00:00,  7.57s/it]\n"
     ]
    },
    {
     "name": "stdout",
     "output_type": "stream",
     "text": [
      "train Loss: 0.0077, MSE: 0.0081, PSNR: 26.8957, SSIM: 0.8344\n"
     ]
    },
    {
     "name": "stderr",
     "output_type": "stream",
     "text": [
      "100%|██████████| 5/5 [00:35<00:00,  7.06s/it]\n"
     ]
    },
    {
     "name": "stdout",
     "output_type": "stream",
     "text": [
      "valid Loss: 0.0321, MSE: 0.0545, PSNR: 18.6603, SSIM: 0.6158\n",
      "Epoch completed in 0:01:36.353937\n",
      "###########################################################\n",
      "####################### Epoch 0132 #######################\n"
     ]
    },
    {
     "name": "stderr",
     "output_type": "stream",
     "text": [
      "100%|██████████| 8/8 [00:59<00:00,  7.47s/it]\n"
     ]
    },
    {
     "name": "stdout",
     "output_type": "stream",
     "text": [
      "train Loss: 0.0096, MSE: 0.0089, PSNR: 26.4920, SSIM: 0.8083\n"
     ]
    },
    {
     "name": "stderr",
     "output_type": "stream",
     "text": [
      "100%|██████████| 5/5 [00:35<00:00,  7.06s/it]\n"
     ]
    },
    {
     "name": "stdout",
     "output_type": "stream",
     "text": [
      "valid Loss: 0.0325, MSE: 0.0542, PSNR: 18.6808, SSIM: 0.5959\n",
      "Epoch completed in 0:01:35.502402\n",
      "###########################################################\n",
      "####################### Epoch 0133 #######################\n"
     ]
    },
    {
     "name": "stderr",
     "output_type": "stream",
     "text": [
      "100%|██████████| 8/8 [00:59<00:00,  7.42s/it]\n"
     ]
    },
    {
     "name": "stdout",
     "output_type": "stream",
     "text": [
      "train Loss: 0.0072, MSE: 0.0080, PSNR: 26.9488, SSIM: 0.8359\n"
     ]
    },
    {
     "name": "stderr",
     "output_type": "stream",
     "text": [
      "100%|██████████| 5/5 [00:34<00:00,  6.94s/it]\n"
     ]
    },
    {
     "name": "stdout",
     "output_type": "stream",
     "text": [
      "valid Loss: 0.0318, MSE: 0.0542, PSNR: 18.6814, SSIM: 0.6088\n",
      "Epoch completed in 0:01:34.510897\n",
      "###########################################################\n",
      "####################### Epoch 0134 #######################\n"
     ]
    },
    {
     "name": "stderr",
     "output_type": "stream",
     "text": [
      "100%|██████████| 8/8 [00:59<00:00,  7.47s/it]\n"
     ]
    },
    {
     "name": "stdout",
     "output_type": "stream",
     "text": [
      "train Loss: 0.0096, MSE: 0.0084, PSNR: 26.7382, SSIM: 0.8052\n"
     ]
    },
    {
     "name": "stderr",
     "output_type": "stream",
     "text": [
      "100%|██████████| 5/5 [00:35<00:00,  7.05s/it]\n"
     ]
    },
    {
     "name": "stdout",
     "output_type": "stream",
     "text": [
      "valid Loss: 0.0317, MSE: 0.0537, PSNR: 18.7226, SSIM: 0.6029\n",
      "Epoch completed in 0:01:35.461575\n",
      "###########################################################\n",
      "####################### Epoch 0135 #######################\n"
     ]
    },
    {
     "name": "stderr",
     "output_type": "stream",
     "text": [
      "100%|██████████| 8/8 [00:59<00:00,  7.38s/it]\n"
     ]
    },
    {
     "name": "stdout",
     "output_type": "stream",
     "text": [
      "train Loss: 0.0081, MSE: 0.0084, PSNR: 26.7567, SSIM: 0.8362\n"
     ]
    },
    {
     "name": "stderr",
     "output_type": "stream",
     "text": [
      "100%|██████████| 5/5 [00:34<00:00,  7.00s/it]\n"
     ]
    },
    {
     "name": "stdout",
     "output_type": "stream",
     "text": [
      "valid Loss: 0.0315, MSE: 0.0541, PSNR: 18.6906, SSIM: 0.5982\n",
      "Epoch completed in 0:01:34.507066\n",
      "###########################################################\n",
      "####################### Epoch 0136 #######################\n"
     ]
    },
    {
     "name": "stderr",
     "output_type": "stream",
     "text": [
      "100%|██████████| 8/8 [00:58<00:00,  7.27s/it]\n"
     ]
    },
    {
     "name": "stdout",
     "output_type": "stream",
     "text": [
      "train Loss: 0.0094, MSE: 0.0091, PSNR: 26.4081, SSIM: 0.8167\n"
     ]
    },
    {
     "name": "stderr",
     "output_type": "stream",
     "text": [
      "100%|██████████| 5/5 [00:34<00:00,  6.99s/it]\n"
     ]
    },
    {
     "name": "stdout",
     "output_type": "stream",
     "text": [
      "valid Loss: 0.0309, MSE: 0.0538, PSNR: 18.7095, SSIM: 0.5992\n",
      "Epoch completed in 0:01:33.624050\n",
      "###########################################################\n",
      "####################### Epoch 0137 #######################\n"
     ]
    },
    {
     "name": "stderr",
     "output_type": "stream",
     "text": [
      "100%|██████████| 8/8 [01:00<00:00,  7.53s/it]\n"
     ]
    },
    {
     "name": "stdout",
     "output_type": "stream",
     "text": [
      "train Loss: 0.0088, MSE: 0.0090, PSNR: 26.4565, SSIM: 0.8114\n"
     ]
    },
    {
     "name": "stderr",
     "output_type": "stream",
     "text": [
      "100%|██████████| 5/5 [00:34<00:00,  6.95s/it]\n"
     ]
    },
    {
     "name": "stdout",
     "output_type": "stream",
     "text": [
      "valid Loss: 0.0311, MSE: 0.0539, PSNR: 18.7042, SSIM: 0.6209\n",
      "Epoch completed in 0:01:35.440172\n",
      "###########################################################\n",
      "####################### Epoch 0138 #######################\n"
     ]
    },
    {
     "name": "stderr",
     "output_type": "stream",
     "text": [
      "100%|██████████| 8/8 [00:58<00:00,  7.33s/it]\n"
     ]
    },
    {
     "name": "stdout",
     "output_type": "stream",
     "text": [
      "train Loss: 0.0084, MSE: 0.0087, PSNR: 26.6080, SSIM: 0.8221\n"
     ]
    },
    {
     "name": "stderr",
     "output_type": "stream",
     "text": [
      "100%|██████████| 5/5 [00:35<00:00,  7.10s/it]\n"
     ]
    },
    {
     "name": "stdout",
     "output_type": "stream",
     "text": [
      "valid Loss: 0.0313, MSE: 0.0544, PSNR: 18.6629, SSIM: 0.6222\n",
      "Epoch completed in 0:01:34.612030\n",
      "###########################################################\n",
      "####################### Epoch 0139 #######################\n"
     ]
    },
    {
     "name": "stderr",
     "output_type": "stream",
     "text": [
      "100%|██████████| 8/8 [00:58<00:00,  7.33s/it]\n"
     ]
    },
    {
     "name": "stdout",
     "output_type": "stream",
     "text": [
      "train Loss: 0.0082, MSE: 0.0085, PSNR: 26.7084, SSIM: 0.8501\n"
     ]
    },
    {
     "name": "stderr",
     "output_type": "stream",
     "text": [
      "100%|██████████| 5/5 [00:35<00:00,  7.04s/it]\n"
     ]
    },
    {
     "name": "stdout",
     "output_type": "stream",
     "text": [
      "valid Loss: 0.0307, MSE: 0.0534, PSNR: 18.7464, SSIM: 0.6156\n",
      "Epoch completed in 0:01:34.301460\n",
      "###########################################################\n",
      "####################### Epoch 0140 #######################\n"
     ]
    },
    {
     "name": "stderr",
     "output_type": "stream",
     "text": [
      "100%|██████████| 8/8 [01:00<00:00,  7.61s/it]\n"
     ]
    },
    {
     "name": "stdout",
     "output_type": "stream",
     "text": [
      "train Loss: 0.0090, MSE: 0.0086, PSNR: 26.6282, SSIM: 0.8286\n"
     ]
    },
    {
     "name": "stderr",
     "output_type": "stream",
     "text": [
      "100%|██████████| 5/5 [00:36<00:00,  7.22s/it]\n"
     ]
    },
    {
     "name": "stdout",
     "output_type": "stream",
     "text": [
      "valid Loss: 0.0315, MSE: 0.0535, PSNR: 18.7395, SSIM: 0.5997\n",
      "Epoch completed in 0:01:37.415665\n",
      "###########################################################\n",
      "####################### Epoch 0141 #######################\n"
     ]
    },
    {
     "name": "stderr",
     "output_type": "stream",
     "text": [
      "100%|██████████| 8/8 [01:01<00:00,  7.72s/it]\n"
     ]
    },
    {
     "name": "stdout",
     "output_type": "stream",
     "text": [
      "train Loss: 0.0075, MSE: 0.0088, PSNR: 26.5318, SSIM: 0.7977\n"
     ]
    },
    {
     "name": "stderr",
     "output_type": "stream",
     "text": [
      "100%|██████████| 5/5 [00:37<00:00,  7.56s/it]\n"
     ]
    },
    {
     "name": "stdout",
     "output_type": "stream",
     "text": [
      "valid Loss: 0.0321, MSE: 0.0546, PSNR: 18.6473, SSIM: 0.6057\n",
      "Epoch completed in 0:01:40.004275\n",
      "###########################################################\n",
      "####################### Epoch 0142 #######################\n"
     ]
    },
    {
     "name": "stderr",
     "output_type": "stream",
     "text": [
      "100%|██████████| 8/8 [01:02<00:00,  7.85s/it]\n"
     ]
    },
    {
     "name": "stdout",
     "output_type": "stream",
     "text": [
      "train Loss: 0.0086, MSE: 0.0088, PSNR: 26.5458, SSIM: 0.7937\n"
     ]
    },
    {
     "name": "stderr",
     "output_type": "stream",
     "text": [
      "100%|██████████| 5/5 [00:36<00:00,  7.27s/it]\n"
     ]
    },
    {
     "name": "stdout",
     "output_type": "stream",
     "text": [
      "valid Loss: 0.0317, MSE: 0.0543, PSNR: 18.6725, SSIM: 0.5996\n",
      "Epoch completed in 0:01:39.595742\n",
      "###########################################################\n",
      "####################### Epoch 0143 #######################\n"
     ]
    },
    {
     "name": "stderr",
     "output_type": "stream",
     "text": [
      "100%|██████████| 8/8 [01:02<00:00,  7.75s/it]\n"
     ]
    },
    {
     "name": "stdout",
     "output_type": "stream",
     "text": [
      "train Loss: 0.0076, MSE: 0.0081, PSNR: 26.9167, SSIM: 0.8283\n"
     ]
    },
    {
     "name": "stderr",
     "output_type": "stream",
     "text": [
      "100%|██████████| 5/5 [00:36<00:00,  7.39s/it]\n"
     ]
    },
    {
     "name": "stdout",
     "output_type": "stream",
     "text": [
      "valid Loss: 0.0319, MSE: 0.0533, PSNR: 18.7528, SSIM: 0.5953\n",
      "Epoch completed in 0:01:39.777076\n",
      "###########################################################\n",
      "####################### Epoch 0144 #######################\n"
     ]
    },
    {
     "name": "stderr",
     "output_type": "stream",
     "text": [
      "100%|██████████| 8/8 [01:01<00:00,  7.64s/it]\n"
     ]
    },
    {
     "name": "stdout",
     "output_type": "stream",
     "text": [
      "train Loss: 0.0072, MSE: 0.0076, PSNR: 27.1672, SSIM: 0.8298\n"
     ]
    },
    {
     "name": "stderr",
     "output_type": "stream",
     "text": [
      "100%|██████████| 5/5 [00:36<00:00,  7.32s/it]\n"
     ]
    },
    {
     "name": "stdout",
     "output_type": "stream",
     "text": [
      "valid Loss: 0.0317, MSE: 0.0540, PSNR: 18.6940, SSIM: 0.6015\n",
      "Epoch completed in 0:01:38.170661\n",
      "###########################################################\n",
      "####################### Epoch 0145 #######################\n"
     ]
    },
    {
     "name": "stderr",
     "output_type": "stream",
     "text": [
      "100%|██████████| 8/8 [01:01<00:00,  7.63s/it]\n"
     ]
    },
    {
     "name": "stdout",
     "output_type": "stream",
     "text": [
      "train Loss: 0.0081, MSE: 0.0077, PSNR: 27.1343, SSIM: 0.8222\n"
     ]
    },
    {
     "name": "stderr",
     "output_type": "stream",
     "text": [
      "100%|██████████| 5/5 [00:36<00:00,  7.22s/it]\n"
     ]
    },
    {
     "name": "stdout",
     "output_type": "stream",
     "text": [
      "valid Loss: 0.0316, MSE: 0.0542, PSNR: 18.6820, SSIM: 0.6090\n",
      "Epoch completed in 0:01:37.601287\n",
      "###########################################################\n",
      "####################### Epoch 0146 #######################\n"
     ]
    },
    {
     "name": "stderr",
     "output_type": "stream",
     "text": [
      "100%|██████████| 8/8 [01:01<00:00,  7.73s/it]\n"
     ]
    },
    {
     "name": "stdout",
     "output_type": "stream",
     "text": [
      "train Loss: 0.0083, MSE: 0.0076, PSNR: 27.1870, SSIM: 0.8414\n"
     ]
    },
    {
     "name": "stderr",
     "output_type": "stream",
     "text": [
      "100%|██████████| 5/5 [00:36<00:00,  7.25s/it]\n"
     ]
    },
    {
     "name": "stdout",
     "output_type": "stream",
     "text": [
      "valid Loss: 0.0306, MSE: 0.0533, PSNR: 18.7500, SSIM: 0.6015\n",
      "Epoch completed in 0:01:38.536581\n",
      "###########################################################\n",
      "####################### Epoch 0147 #######################\n"
     ]
    },
    {
     "name": "stderr",
     "output_type": "stream",
     "text": [
      "100%|██████████| 8/8 [01:01<00:00,  7.63s/it]\n"
     ]
    },
    {
     "name": "stdout",
     "output_type": "stream",
     "text": [
      "train Loss: 0.0089, MSE: 0.0090, PSNR: 26.4536, SSIM: 0.8034\n"
     ]
    },
    {
     "name": "stderr",
     "output_type": "stream",
     "text": [
      "100%|██████████| 5/5 [00:37<00:00,  7.52s/it]\n"
     ]
    },
    {
     "name": "stdout",
     "output_type": "stream",
     "text": [
      "valid Loss: 0.0328, MSE: 0.0552, PSNR: 18.6023, SSIM: 0.6086\n",
      "Epoch completed in 0:01:39.121797\n",
      "###########################################################\n",
      "####################### Epoch 0148 #######################\n"
     ]
    },
    {
     "name": "stderr",
     "output_type": "stream",
     "text": [
      "100%|██████████| 8/8 [01:03<00:00,  7.93s/it]\n"
     ]
    },
    {
     "name": "stdout",
     "output_type": "stream",
     "text": [
      "train Loss: 0.0074, MSE: 0.0077, PSNR: 27.1550, SSIM: 0.8226\n"
     ]
    },
    {
     "name": "stderr",
     "output_type": "stream",
     "text": [
      "100%|██████████| 5/5 [00:36<00:00,  7.27s/it]\n"
     ]
    },
    {
     "name": "stdout",
     "output_type": "stream",
     "text": [
      "valid Loss: 0.0322, MSE: 0.0546, PSNR: 18.6452, SSIM: 0.6087\n",
      "Epoch completed in 0:01:40.235172\n",
      "###########################################################\n",
      "####################### Epoch 0149 #######################\n"
     ]
    },
    {
     "name": "stderr",
     "output_type": "stream",
     "text": [
      "100%|██████████| 8/8 [01:01<00:00,  7.70s/it]\n"
     ]
    },
    {
     "name": "stdout",
     "output_type": "stream",
     "text": [
      "train Loss: 0.0076, MSE: 0.0073, PSNR: 27.3704, SSIM: 0.8281\n"
     ]
    },
    {
     "name": "stderr",
     "output_type": "stream",
     "text": [
      "100%|██████████| 5/5 [00:35<00:00,  7.15s/it]\n"
     ]
    },
    {
     "name": "stdout",
     "output_type": "stream",
     "text": [
      "valid Loss: 0.0310, MSE: 0.0535, PSNR: 18.7339, SSIM: 0.6038\n",
      "Epoch completed in 0:01:37.860687\n",
      "###########################################################\n",
      "####################### Epoch 0150 #######################\n"
     ]
    },
    {
     "name": "stderr",
     "output_type": "stream",
     "text": [
      "100%|██████████| 8/8 [01:00<00:00,  7.54s/it]\n"
     ]
    },
    {
     "name": "stdout",
     "output_type": "stream",
     "text": [
      "train Loss: 0.0076, MSE: 0.0076, PSNR: 27.1932, SSIM: 0.8174\n"
     ]
    },
    {
     "name": "stderr",
     "output_type": "stream",
     "text": [
      "100%|██████████| 5/5 [00:36<00:00,  7.24s/it]\n"
     ]
    },
    {
     "name": "stdout",
     "output_type": "stream",
     "text": [
      "valid Loss: 0.0308, MSE: 0.0537, PSNR: 18.7241, SSIM: 0.6050\n",
      "Epoch completed in 0:01:36.990443\n",
      "###########################################################\n",
      "####################### Epoch 0151 #######################\n"
     ]
    },
    {
     "name": "stderr",
     "output_type": "stream",
     "text": [
      "100%|██████████| 8/8 [01:00<00:00,  7.54s/it]\n"
     ]
    },
    {
     "name": "stdout",
     "output_type": "stream",
     "text": [
      "train Loss: 0.0087, MSE: 0.0082, PSNR: 26.8771, SSIM: 0.8053\n"
     ]
    },
    {
     "name": "stderr",
     "output_type": "stream",
     "text": [
      "100%|██████████| 5/5 [00:35<00:00,  7.14s/it]\n"
     ]
    },
    {
     "name": "stdout",
     "output_type": "stream",
     "text": [
      "valid Loss: 0.0315, MSE: 0.0544, PSNR: 18.6656, SSIM: 0.6054\n",
      "Epoch completed in 0:01:36.427062\n",
      "###########################################################\n",
      "####################### Epoch 0152 #######################\n"
     ]
    },
    {
     "name": "stderr",
     "output_type": "stream",
     "text": [
      "100%|██████████| 8/8 [01:01<00:00,  7.74s/it]\n"
     ]
    },
    {
     "name": "stdout",
     "output_type": "stream",
     "text": [
      "train Loss: 0.0075, MSE: 0.0076, PSNR: 27.2057, SSIM: 0.8314\n"
     ]
    },
    {
     "name": "stderr",
     "output_type": "stream",
     "text": [
      "100%|██████████| 5/5 [00:36<00:00,  7.35s/it]\n"
     ]
    },
    {
     "name": "stdout",
     "output_type": "stream",
     "text": [
      "valid Loss: 0.0318, MSE: 0.0545, PSNR: 18.6541, SSIM: 0.6072\n",
      "Epoch completed in 0:01:39.143713\n",
      "###########################################################\n",
      "####################### Epoch 0153 #######################\n"
     ]
    },
    {
     "name": "stderr",
     "output_type": "stream",
     "text": [
      "100%|██████████| 8/8 [01:00<00:00,  7.50s/it]\n"
     ]
    },
    {
     "name": "stdout",
     "output_type": "stream",
     "text": [
      "train Loss: 0.0102, MSE: 0.0084, PSNR: 26.7565, SSIM: 0.8256\n"
     ]
    },
    {
     "name": "stderr",
     "output_type": "stream",
     "text": [
      "100%|██████████| 5/5 [00:36<00:00,  7.28s/it]\n"
     ]
    },
    {
     "name": "stdout",
     "output_type": "stream",
     "text": [
      "valid Loss: 0.0307, MSE: 0.0542, PSNR: 18.6844, SSIM: 0.6169\n",
      "Epoch completed in 0:01:36.905973\n",
      "###########################################################\n",
      "####################### Epoch 0154 #######################\n"
     ]
    },
    {
     "name": "stderr",
     "output_type": "stream",
     "text": [
      "100%|██████████| 8/8 [01:02<00:00,  7.78s/it]\n"
     ]
    },
    {
     "name": "stdout",
     "output_type": "stream",
     "text": [
      "train Loss: 0.0074, MSE: 0.0075, PSNR: 27.2632, SSIM: 0.8315\n"
     ]
    },
    {
     "name": "stderr",
     "output_type": "stream",
     "text": [
      "100%|██████████| 5/5 [00:38<00:00,  7.74s/it]\n"
     ]
    },
    {
     "name": "stdout",
     "output_type": "stream",
     "text": [
      "valid Loss: 0.0309, MSE: 0.0537, PSNR: 18.7213, SSIM: 0.6098\n",
      "Epoch completed in 0:01:41.391241\n",
      "###########################################################\n",
      "####################### Epoch 0155 #######################\n"
     ]
    },
    {
     "name": "stderr",
     "output_type": "stream",
     "text": [
      "100%|██████████| 8/8 [01:04<00:00,  8.04s/it]\n"
     ]
    },
    {
     "name": "stdout",
     "output_type": "stream",
     "text": [
      "train Loss: 0.0075, MSE: 0.0075, PSNR: 27.2574, SSIM: 0.8154\n"
     ]
    },
    {
     "name": "stderr",
     "output_type": "stream",
     "text": [
      "100%|██████████| 5/5 [00:37<00:00,  7.52s/it]\n"
     ]
    },
    {
     "name": "stdout",
     "output_type": "stream",
     "text": [
      "valid Loss: 0.0309, MSE: 0.0534, PSNR: 18.7430, SSIM: 0.6070\n",
      "Epoch completed in 0:01:42.387907\n",
      "###########################################################\n",
      "####################### Epoch 0156 #######################\n"
     ]
    },
    {
     "name": "stderr",
     "output_type": "stream",
     "text": [
      "100%|██████████| 8/8 [01:03<00:00,  7.95s/it]\n"
     ]
    },
    {
     "name": "stdout",
     "output_type": "stream",
     "text": [
      "train Loss: 0.0080, MSE: 0.0077, PSNR: 27.1380, SSIM: 0.8282\n"
     ]
    },
    {
     "name": "stderr",
     "output_type": "stream",
     "text": [
      "100%|██████████| 5/5 [00:37<00:00,  7.53s/it]\n"
     ]
    },
    {
     "name": "stdout",
     "output_type": "stream",
     "text": [
      "valid Loss: 0.0307, MSE: 0.0528, PSNR: 18.7927, SSIM: 0.6050\n",
      "Epoch completed in 0:01:42.012209\n",
      "###########################################################\n",
      "####################### Epoch 0157 #######################\n"
     ]
    },
    {
     "name": "stderr",
     "output_type": "stream",
     "text": [
      "100%|██████████| 8/8 [01:04<00:00,  8.01s/it]\n"
     ]
    },
    {
     "name": "stdout",
     "output_type": "stream",
     "text": [
      "train Loss: 0.0076, MSE: 0.0077, PSNR: 27.1347, SSIM: 0.8220\n"
     ]
    },
    {
     "name": "stderr",
     "output_type": "stream",
     "text": [
      "100%|██████████| 5/5 [00:38<00:00,  7.74s/it]\n"
     ]
    },
    {
     "name": "stdout",
     "output_type": "stream",
     "text": [
      "valid Loss: 0.0307, MSE: 0.0529, PSNR: 18.7825, SSIM: 0.6045\n",
      "Epoch completed in 0:01:43.227048\n",
      "###########################################################\n",
      "####################### Epoch 0158 #######################\n"
     ]
    },
    {
     "name": "stderr",
     "output_type": "stream",
     "text": [
      "100%|██████████| 8/8 [01:05<00:00,  8.19s/it]\n"
     ]
    },
    {
     "name": "stdout",
     "output_type": "stream",
     "text": [
      "train Loss: 0.0081, MSE: 0.0080, PSNR: 26.9497, SSIM: 0.8135\n"
     ]
    },
    {
     "name": "stderr",
     "output_type": "stream",
     "text": [
      "100%|██████████| 5/5 [00:39<00:00,  7.80s/it]\n"
     ]
    },
    {
     "name": "stdout",
     "output_type": "stream",
     "text": [
      "valid Loss: 0.0307, MSE: 0.0535, PSNR: 18.7382, SSIM: 0.6049\n",
      "Epoch completed in 0:01:45.018588\n",
      "###########################################################\n",
      "####################### Epoch 0159 #######################\n"
     ]
    },
    {
     "name": "stderr",
     "output_type": "stream",
     "text": [
      "100%|██████████| 8/8 [01:05<00:00,  8.19s/it]\n"
     ]
    },
    {
     "name": "stdout",
     "output_type": "stream",
     "text": [
      "train Loss: 0.0082, MSE: 0.0079, PSNR: 27.0380, SSIM: 0.8110\n"
     ]
    },
    {
     "name": "stderr",
     "output_type": "stream",
     "text": [
      "100%|██████████| 5/5 [00:40<00:00,  8.01s/it]\n"
     ]
    },
    {
     "name": "stdout",
     "output_type": "stream",
     "text": [
      "valid Loss: 0.0305, MSE: 0.0532, PSNR: 18.7595, SSIM: 0.6041\n",
      "Epoch completed in 0:01:46.044254\n",
      "###########################################################\n",
      "####################### Epoch 0160 #######################\n"
     ]
    },
    {
     "name": "stderr",
     "output_type": "stream",
     "text": [
      "100%|██████████| 8/8 [01:05<00:00,  8.19s/it]\n"
     ]
    },
    {
     "name": "stdout",
     "output_type": "stream",
     "text": [
      "train Loss: 0.0085, MSE: 0.0079, PSNR: 27.0040, SSIM: 0.8195\n"
     ]
    },
    {
     "name": "stderr",
     "output_type": "stream",
     "text": [
      "100%|██████████| 5/5 [00:38<00:00,  7.78s/it]\n"
     ]
    },
    {
     "name": "stdout",
     "output_type": "stream",
     "text": [
      "valid Loss: 0.0310, MSE: 0.0530, PSNR: 18.7756, SSIM: 0.6039\n",
      "Epoch completed in 0:01:44.876879\n",
      "###########################################################\n",
      "####################### Epoch 0161 #######################\n"
     ]
    },
    {
     "name": "stderr",
     "output_type": "stream",
     "text": [
      "100%|██████████| 8/8 [01:06<00:00,  8.26s/it]\n"
     ]
    },
    {
     "name": "stdout",
     "output_type": "stream",
     "text": [
      "train Loss: 0.0080, MSE: 0.0075, PSNR: 27.2226, SSIM: 0.8209\n"
     ]
    },
    {
     "name": "stderr",
     "output_type": "stream",
     "text": [
      "100%|██████████| 5/5 [00:38<00:00,  7.65s/it]\n"
     ]
    },
    {
     "name": "stdout",
     "output_type": "stream",
     "text": [
      "valid Loss: 0.0311, MSE: 0.0540, PSNR: 18.6985, SSIM: 0.6001\n",
      "Epoch completed in 0:01:44.769219\n",
      "###########################################################\n",
      "####################### Epoch 0162 #######################\n"
     ]
    },
    {
     "name": "stderr",
     "output_type": "stream",
     "text": [
      "100%|██████████| 8/8 [01:04<00:00,  8.09s/it]\n"
     ]
    },
    {
     "name": "stdout",
     "output_type": "stream",
     "text": [
      "train Loss: 0.0067, MSE: 0.0074, PSNR: 27.2797, SSIM: 0.8335\n"
     ]
    },
    {
     "name": "stderr",
     "output_type": "stream",
     "text": [
      "100%|██████████| 5/5 [00:37<00:00,  7.56s/it]\n"
     ]
    },
    {
     "name": "stdout",
     "output_type": "stream",
     "text": [
      "valid Loss: 0.0315, MSE: 0.0539, PSNR: 18.7071, SSIM: 0.6188\n",
      "Epoch completed in 0:01:42.939099\n",
      "###########################################################\n",
      "####################### Epoch 0163 #######################\n"
     ]
    },
    {
     "name": "stderr",
     "output_type": "stream",
     "text": [
      "100%|██████████| 8/8 [01:03<00:00,  7.98s/it]\n"
     ]
    },
    {
     "name": "stdout",
     "output_type": "stream",
     "text": [
      "train Loss: 0.0080, MSE: 0.0073, PSNR: 27.3654, SSIM: 0.8231\n"
     ]
    },
    {
     "name": "stderr",
     "output_type": "stream",
     "text": [
      "100%|██████████| 5/5 [00:37<00:00,  7.58s/it]\n"
     ]
    },
    {
     "name": "stdout",
     "output_type": "stream",
     "text": [
      "valid Loss: 0.0312, MSE: 0.0539, PSNR: 18.7080, SSIM: 0.6002\n",
      "Epoch completed in 0:01:42.237856\n",
      "###########################################################\n",
      "####################### Epoch 0164 #######################\n"
     ]
    },
    {
     "name": "stderr",
     "output_type": "stream",
     "text": [
      "100%|██████████| 8/8 [01:04<00:00,  8.09s/it]\n"
     ]
    },
    {
     "name": "stdout",
     "output_type": "stream",
     "text": [
      "train Loss: 0.0073, MSE: 0.0077, PSNR: 27.1368, SSIM: 0.8160\n"
     ]
    },
    {
     "name": "stderr",
     "output_type": "stream",
     "text": [
      "100%|██████████| 5/5 [00:38<00:00,  7.67s/it]\n"
     ]
    },
    {
     "name": "stdout",
     "output_type": "stream",
     "text": [
      "valid Loss: 0.0320, MSE: 0.0548, PSNR: 18.6292, SSIM: 0.6071\n",
      "Epoch completed in 0:01:43.537684\n",
      "###########################################################\n",
      "####################### Epoch 0165 #######################\n"
     ]
    },
    {
     "name": "stderr",
     "output_type": "stream",
     "text": [
      "100%|██████████| 8/8 [01:03<00:00,  7.96s/it]\n"
     ]
    },
    {
     "name": "stdout",
     "output_type": "stream",
     "text": [
      "train Loss: 0.0081, MSE: 0.0082, PSNR: 26.8706, SSIM: 0.8053\n"
     ]
    },
    {
     "name": "stderr",
     "output_type": "stream",
     "text": [
      "100%|██████████| 5/5 [00:38<00:00,  7.68s/it]\n"
     ]
    },
    {
     "name": "stdout",
     "output_type": "stream",
     "text": [
      "valid Loss: 0.0318, MSE: 0.0546, PSNR: 18.6496, SSIM: 0.6079\n",
      "Epoch completed in 0:01:42.548162\n",
      "###########################################################\n",
      "####################### Epoch 0166 #######################\n"
     ]
    },
    {
     "name": "stderr",
     "output_type": "stream",
     "text": [
      "100%|██████████| 8/8 [01:02<00:00,  7.87s/it]\n"
     ]
    },
    {
     "name": "stdout",
     "output_type": "stream",
     "text": [
      "train Loss: 0.0076, MSE: 0.0076, PSNR: 27.1654, SSIM: 0.8314\n"
     ]
    },
    {
     "name": "stderr",
     "output_type": "stream",
     "text": [
      "100%|██████████| 5/5 [00:37<00:00,  7.56s/it]\n"
     ]
    },
    {
     "name": "stdout",
     "output_type": "stream",
     "text": [
      "valid Loss: 0.0312, MSE: 0.0533, PSNR: 18.7505, SSIM: 0.6323\n",
      "Epoch completed in 0:01:41.208165\n",
      "###########################################################\n",
      "####################### Epoch 0167 #######################\n"
     ]
    },
    {
     "name": "stderr",
     "output_type": "stream",
     "text": [
      "100%|██████████| 8/8 [01:03<00:00,  7.91s/it]\n"
     ]
    },
    {
     "name": "stdout",
     "output_type": "stream",
     "text": [
      "train Loss: 0.0072, MSE: 0.0070, PSNR: 27.5412, SSIM: 0.8417\n"
     ]
    },
    {
     "name": "stderr",
     "output_type": "stream",
     "text": [
      "100%|██████████| 5/5 [00:37<00:00,  7.43s/it]\n"
     ]
    },
    {
     "name": "stdout",
     "output_type": "stream",
     "text": [
      "valid Loss: 0.0316, MSE: 0.0540, PSNR: 18.6973, SSIM: 0.6093\n",
      "Epoch completed in 0:01:40.868466\n",
      "###########################################################\n",
      "####################### Epoch 0168 #######################\n"
     ]
    },
    {
     "name": "stderr",
     "output_type": "stream",
     "text": [
      "100%|██████████| 8/8 [01:03<00:00,  7.89s/it]\n"
     ]
    },
    {
     "name": "stdout",
     "output_type": "stream",
     "text": [
      "train Loss: 0.0069, MSE: 0.0073, PSNR: 27.3325, SSIM: 0.8343\n"
     ]
    },
    {
     "name": "stderr",
     "output_type": "stream",
     "text": [
      "100%|██████████| 5/5 [00:37<00:00,  7.51s/it]\n"
     ]
    },
    {
     "name": "stdout",
     "output_type": "stream",
     "text": [
      "valid Loss: 0.0320, MSE: 0.0550, PSNR: 18.6175, SSIM: 0.6185\n",
      "Epoch completed in 0:01:41.111762\n",
      "###########################################################\n",
      "####################### Epoch 0169 #######################\n"
     ]
    },
    {
     "name": "stderr",
     "output_type": "stream",
     "text": [
      "100%|██████████| 8/8 [01:03<00:00,  7.90s/it]\n"
     ]
    },
    {
     "name": "stdout",
     "output_type": "stream",
     "text": [
      "train Loss: 0.0073, MSE: 0.0074, PSNR: 27.3081, SSIM: 0.8416\n"
     ]
    },
    {
     "name": "stderr",
     "output_type": "stream",
     "text": [
      "100%|██████████| 5/5 [00:36<00:00,  7.31s/it]\n"
     ]
    },
    {
     "name": "stdout",
     "output_type": "stream",
     "text": [
      "valid Loss: 0.0315, MSE: 0.0545, PSNR: 18.6602, SSIM: 0.6084\n",
      "Epoch completed in 0:01:40.188455\n",
      "###########################################################\n",
      "####################### Epoch 0170 #######################\n"
     ]
    },
    {
     "name": "stderr",
     "output_type": "stream",
     "text": [
      "100%|██████████| 8/8 [01:02<00:00,  7.85s/it]\n"
     ]
    },
    {
     "name": "stdout",
     "output_type": "stream",
     "text": [
      "train Loss: 0.0064, MSE: 0.0076, PSNR: 27.2030, SSIM: 0.8221\n"
     ]
    },
    {
     "name": "stderr",
     "output_type": "stream",
     "text": [
      "100%|██████████| 5/5 [00:37<00:00,  7.52s/it]\n"
     ]
    },
    {
     "name": "stdout",
     "output_type": "stream",
     "text": [
      "valid Loss: 0.0312, MSE: 0.0536, PSNR: 18.7268, SSIM: 0.6148\n",
      "Epoch completed in 0:01:40.816183\n",
      "###########################################################\n",
      "####################### Epoch 0171 #######################\n"
     ]
    },
    {
     "name": "stderr",
     "output_type": "stream",
     "text": [
      "100%|██████████| 8/8 [01:02<00:00,  7.79s/it]\n"
     ]
    },
    {
     "name": "stdout",
     "output_type": "stream",
     "text": [
      "train Loss: 0.0075, MSE: 0.0074, PSNR: 27.2798, SSIM: 0.8374\n"
     ]
    },
    {
     "name": "stderr",
     "output_type": "stream",
     "text": [
      "100%|██████████| 5/5 [00:36<00:00,  7.32s/it]\n"
     ]
    },
    {
     "name": "stdout",
     "output_type": "stream",
     "text": [
      "valid Loss: 0.0311, MSE: 0.0532, PSNR: 18.7648, SSIM: 0.6015\n",
      "Epoch completed in 0:01:39.396100\n",
      "###########################################################\n",
      "####################### Epoch 0172 #######################\n"
     ]
    },
    {
     "name": "stderr",
     "output_type": "stream",
     "text": [
      "100%|██████████| 8/8 [01:02<00:00,  7.79s/it]\n"
     ]
    },
    {
     "name": "stdout",
     "output_type": "stream",
     "text": [
      "train Loss: 0.0071, MSE: 0.0072, PSNR: 27.4375, SSIM: 0.8513\n"
     ]
    },
    {
     "name": "stderr",
     "output_type": "stream",
     "text": [
      "100%|██████████| 5/5 [00:37<00:00,  7.50s/it]\n"
     ]
    },
    {
     "name": "stdout",
     "output_type": "stream",
     "text": [
      "valid Loss: 0.0316, MSE: 0.0536, PSNR: 18.7252, SSIM: 0.6028\n",
      "Epoch completed in 0:01:40.286359\n",
      "###########################################################\n",
      "####################### Epoch 0173 #######################\n"
     ]
    },
    {
     "name": "stderr",
     "output_type": "stream",
     "text": [
      "100%|██████████| 8/8 [01:02<00:00,  7.79s/it]\n"
     ]
    },
    {
     "name": "stdout",
     "output_type": "stream",
     "text": [
      "train Loss: 0.0072, MSE: 0.0070, PSNR: 27.5592, SSIM: 0.8485\n"
     ]
    },
    {
     "name": "stderr",
     "output_type": "stream",
     "text": [
      "100%|██████████| 5/5 [00:37<00:00,  7.51s/it]\n"
     ]
    },
    {
     "name": "stdout",
     "output_type": "stream",
     "text": [
      "valid Loss: 0.0319, MSE: 0.0543, PSNR: 18.6715, SSIM: 0.6199\n",
      "Epoch completed in 0:01:40.312471\n",
      "###########################################################\n",
      "####################### Epoch 0174 #######################\n"
     ]
    },
    {
     "name": "stderr",
     "output_type": "stream",
     "text": [
      "100%|██████████| 8/8 [01:03<00:00,  7.90s/it]\n"
     ]
    },
    {
     "name": "stdout",
     "output_type": "stream",
     "text": [
      "train Loss: 0.0073, MSE: 0.0071, PSNR: 27.4735, SSIM: 0.8358\n"
     ]
    },
    {
     "name": "stderr",
     "output_type": "stream",
     "text": [
      "100%|██████████| 5/5 [00:37<00:00,  7.51s/it]\n"
     ]
    },
    {
     "name": "stdout",
     "output_type": "stream",
     "text": [
      "valid Loss: 0.0313, MSE: 0.0539, PSNR: 18.7035, SSIM: 0.6015\n",
      "Epoch completed in 0:01:41.250609\n",
      "###########################################################\n",
      "####################### Epoch 0175 #######################\n"
     ]
    },
    {
     "name": "stderr",
     "output_type": "stream",
     "text": [
      "100%|██████████| 8/8 [01:03<00:00,  7.94s/it]\n"
     ]
    },
    {
     "name": "stdout",
     "output_type": "stream",
     "text": [
      "train Loss: 0.0063, MSE: 0.0070, PSNR: 27.5210, SSIM: 0.8499\n"
     ]
    },
    {
     "name": "stderr",
     "output_type": "stream",
     "text": [
      "100%|██████████| 5/5 [00:37<00:00,  7.57s/it]\n"
     ]
    },
    {
     "name": "stdout",
     "output_type": "stream",
     "text": [
      "valid Loss: 0.0305, MSE: 0.0533, PSNR: 18.7520, SSIM: 0.6219\n",
      "Epoch completed in 0:01:41.820776\n",
      "###########################################################\n",
      "####################### Epoch 0176 #######################\n"
     ]
    },
    {
     "name": "stderr",
     "output_type": "stream",
     "text": [
      "100%|██████████| 8/8 [01:02<00:00,  7.87s/it]\n"
     ]
    },
    {
     "name": "stdout",
     "output_type": "stream",
     "text": [
      "train Loss: 0.0065, MSE: 0.0068, PSNR: 27.6877, SSIM: 0.8439\n"
     ]
    },
    {
     "name": "stderr",
     "output_type": "stream",
     "text": [
      "100%|██████████| 5/5 [00:38<00:00,  7.70s/it]\n"
     ]
    },
    {
     "name": "stdout",
     "output_type": "stream",
     "text": [
      "valid Loss: 0.0302, MSE: 0.0533, PSNR: 18.7536, SSIM: 0.6048\n",
      "Epoch completed in 0:01:41.962093\n",
      "###########################################################\n",
      "####################### Epoch 0177 #######################\n"
     ]
    },
    {
     "name": "stderr",
     "output_type": "stream",
     "text": [
      "100%|██████████| 8/8 [01:03<00:00,  7.89s/it]\n"
     ]
    },
    {
     "name": "stdout",
     "output_type": "stream",
     "text": [
      "train Loss: 0.0067, MSE: 0.0072, PSNR: 27.4416, SSIM: 0.8312\n"
     ]
    },
    {
     "name": "stderr",
     "output_type": "stream",
     "text": [
      "100%|██████████| 5/5 [00:37<00:00,  7.41s/it]\n"
     ]
    },
    {
     "name": "stdout",
     "output_type": "stream",
     "text": [
      "valid Loss: 0.0313, MSE: 0.0538, PSNR: 18.7098, SSIM: 0.6061\n",
      "Epoch completed in 0:01:40.597341\n",
      "###########################################################\n",
      "####################### Epoch 0178 #######################\n"
     ]
    },
    {
     "name": "stderr",
     "output_type": "stream",
     "text": [
      "100%|██████████| 8/8 [01:03<00:00,  7.92s/it]\n"
     ]
    },
    {
     "name": "stdout",
     "output_type": "stream",
     "text": [
      "train Loss: 0.0075, MSE: 0.0074, PSNR: 27.3235, SSIM: 0.8376\n"
     ]
    },
    {
     "name": "stderr",
     "output_type": "stream",
     "text": [
      "100%|██████████| 5/5 [00:37<00:00,  7.44s/it]\n"
     ]
    },
    {
     "name": "stdout",
     "output_type": "stream",
     "text": [
      "valid Loss: 0.0309, MSE: 0.0533, PSNR: 18.7519, SSIM: 0.6034\n",
      "Epoch completed in 0:01:41.059500\n",
      "###########################################################\n",
      "####################### Epoch 0179 #######################\n"
     ]
    },
    {
     "name": "stderr",
     "output_type": "stream",
     "text": [
      "100%|██████████| 8/8 [01:03<00:00,  7.91s/it]\n"
     ]
    },
    {
     "name": "stdout",
     "output_type": "stream",
     "text": [
      "train Loss: 0.0066, MSE: 0.0068, PSNR: 27.6736, SSIM: 0.8418\n"
     ]
    },
    {
     "name": "stderr",
     "output_type": "stream",
     "text": [
      "100%|██████████| 5/5 [00:38<00:00,  7.65s/it]\n"
     ]
    },
    {
     "name": "stdout",
     "output_type": "stream",
     "text": [
      "valid Loss: 0.0303, MSE: 0.0530, PSNR: 18.7817, SSIM: 0.6014\n",
      "Epoch completed in 0:01:41.947158\n",
      "###########################################################\n",
      "####################### Epoch 0180 #######################\n"
     ]
    },
    {
     "name": "stderr",
     "output_type": "stream",
     "text": [
      "100%|██████████| 8/8 [01:04<00:00,  8.05s/it]\n"
     ]
    },
    {
     "name": "stdout",
     "output_type": "stream",
     "text": [
      "train Loss: 0.0068, MSE: 0.0066, PSNR: 27.7722, SSIM: 0.8380\n"
     ]
    },
    {
     "name": "stderr",
     "output_type": "stream",
     "text": [
      "100%|██████████| 5/5 [00:38<00:00,  7.70s/it]\n"
     ]
    },
    {
     "name": "stdout",
     "output_type": "stream",
     "text": [
      "valid Loss: 0.0299, MSE: 0.0527, PSNR: 18.8054, SSIM: 0.6056\n",
      "Epoch completed in 0:01:43.694602\n",
      "###########################################################\n",
      "####################### Epoch 0181 #######################\n"
     ]
    },
    {
     "name": "stderr",
     "output_type": "stream",
     "text": [
      "100%|██████████| 8/8 [01:03<00:00,  7.96s/it]\n"
     ]
    },
    {
     "name": "stdout",
     "output_type": "stream",
     "text": [
      "train Loss: 0.0064, MSE: 0.0066, PSNR: 27.8024, SSIM: 0.8341\n"
     ]
    },
    {
     "name": "stderr",
     "output_type": "stream",
     "text": [
      "100%|██████████| 5/5 [00:37<00:00,  7.56s/it]\n"
     ]
    },
    {
     "name": "stdout",
     "output_type": "stream",
     "text": [
      "valid Loss: 0.0309, MSE: 0.0532, PSNR: 18.7574, SSIM: 0.5966\n",
      "Epoch completed in 0:01:41.937297\n",
      "###########################################################\n",
      "####################### Epoch 0182 #######################\n"
     ]
    },
    {
     "name": "stderr",
     "output_type": "stream",
     "text": [
      "100%|██████████| 8/8 [01:04<00:00,  8.09s/it]\n"
     ]
    },
    {
     "name": "stdout",
     "output_type": "stream",
     "text": [
      "train Loss: 0.0074, MSE: 0.0072, PSNR: 27.4257, SSIM: 0.8376\n"
     ]
    },
    {
     "name": "stderr",
     "output_type": "stream",
     "text": [
      "100%|██████████| 5/5 [00:38<00:00,  7.61s/it]\n"
     ]
    },
    {
     "name": "stdout",
     "output_type": "stream",
     "text": [
      "valid Loss: 0.0319, MSE: 0.0547, PSNR: 18.6409, SSIM: 0.6041\n",
      "Epoch completed in 0:01:43.238708\n",
      "###########################################################\n",
      "####################### Epoch 0183 #######################\n"
     ]
    },
    {
     "name": "stderr",
     "output_type": "stream",
     "text": [
      "100%|██████████| 8/8 [01:03<00:00,  7.99s/it]\n"
     ]
    },
    {
     "name": "stdout",
     "output_type": "stream",
     "text": [
      "train Loss: 0.0069, MSE: 0.0068, PSNR: 27.6378, SSIM: 0.8361\n"
     ]
    },
    {
     "name": "stderr",
     "output_type": "stream",
     "text": [
      "100%|██████████| 5/5 [00:38<00:00,  7.71s/it]\n"
     ]
    },
    {
     "name": "stdout",
     "output_type": "stream",
     "text": [
      "valid Loss: 0.0315, MSE: 0.0533, PSNR: 18.7528, SSIM: 0.6225\n",
      "Epoch completed in 0:01:42.921918\n",
      "###########################################################\n",
      "####################### Epoch 0184 #######################\n"
     ]
    },
    {
     "name": "stderr",
     "output_type": "stream",
     "text": [
      "100%|██████████| 8/8 [01:02<00:00,  7.84s/it]\n"
     ]
    },
    {
     "name": "stdout",
     "output_type": "stream",
     "text": [
      "train Loss: 0.0063, MSE: 0.0068, PSNR: 27.6371, SSIM: 0.8326\n"
     ]
    },
    {
     "name": "stderr",
     "output_type": "stream",
     "text": [
      "100%|██████████| 5/5 [00:37<00:00,  7.49s/it]\n"
     ]
    },
    {
     "name": "stdout",
     "output_type": "stream",
     "text": [
      "valid Loss: 0.0313, MSE: 0.0537, PSNR: 18.7221, SSIM: 0.6077\n",
      "Epoch completed in 0:01:40.638673\n",
      "###########################################################\n",
      "####################### Epoch 0185 #######################\n"
     ]
    },
    {
     "name": "stderr",
     "output_type": "stream",
     "text": [
      "100%|██████████| 8/8 [01:03<00:00,  7.95s/it]\n"
     ]
    },
    {
     "name": "stdout",
     "output_type": "stream",
     "text": [
      "train Loss: 0.0071, MSE: 0.0072, PSNR: 27.4066, SSIM: 0.8289\n"
     ]
    },
    {
     "name": "stderr",
     "output_type": "stream",
     "text": [
      "100%|██████████| 5/5 [00:37<00:00,  7.54s/it]\n"
     ]
    },
    {
     "name": "stdout",
     "output_type": "stream",
     "text": [
      "valid Loss: 0.0317, MSE: 0.0539, PSNR: 18.7061, SSIM: 0.5979\n",
      "Epoch completed in 0:01:41.760643\n",
      "###########################################################\n",
      "####################### Epoch 0186 #######################\n"
     ]
    },
    {
     "name": "stderr",
     "output_type": "stream",
     "text": [
      "100%|██████████| 8/8 [01:02<00:00,  7.85s/it]\n"
     ]
    },
    {
     "name": "stdout",
     "output_type": "stream",
     "text": [
      "train Loss: 0.0070, MSE: 0.0080, PSNR: 26.9811, SSIM: 0.8228\n"
     ]
    },
    {
     "name": "stderr",
     "output_type": "stream",
     "text": [
      "100%|██████████| 5/5 [00:37<00:00,  7.59s/it]\n"
     ]
    },
    {
     "name": "stdout",
     "output_type": "stream",
     "text": [
      "valid Loss: 0.0309, MSE: 0.0533, PSNR: 18.7499, SSIM: 0.6072\n",
      "Epoch completed in 0:01:41.261821\n",
      "###########################################################\n",
      "####################### Epoch 0187 #######################\n"
     ]
    },
    {
     "name": "stderr",
     "output_type": "stream",
     "text": [
      "100%|██████████| 8/8 [01:02<00:00,  7.83s/it]\n"
     ]
    },
    {
     "name": "stdout",
     "output_type": "stream",
     "text": [
      "train Loss: 0.0061, MSE: 0.0069, PSNR: 27.6286, SSIM: 0.8412\n"
     ]
    },
    {
     "name": "stderr",
     "output_type": "stream",
     "text": [
      "100%|██████████| 5/5 [00:37<00:00,  7.57s/it]\n"
     ]
    },
    {
     "name": "stdout",
     "output_type": "stream",
     "text": [
      "valid Loss: 0.0316, MSE: 0.0542, PSNR: 18.6765, SSIM: 0.6070\n",
      "Epoch completed in 0:01:40.974466\n",
      "###########################################################\n",
      "####################### Epoch 0188 #######################\n"
     ]
    },
    {
     "name": "stderr",
     "output_type": "stream",
     "text": [
      "100%|██████████| 8/8 [01:03<00:00,  7.98s/it]\n"
     ]
    },
    {
     "name": "stdout",
     "output_type": "stream",
     "text": [
      "train Loss: 0.0066, MSE: 0.0066, PSNR: 27.8007, SSIM: 0.8470\n"
     ]
    },
    {
     "name": "stderr",
     "output_type": "stream",
     "text": [
      "100%|██████████| 5/5 [00:37<00:00,  7.53s/it]\n"
     ]
    },
    {
     "name": "stdout",
     "output_type": "stream",
     "text": [
      "valid Loss: 0.0321, MSE: 0.0549, PSNR: 18.6276, SSIM: 0.6174\n",
      "Epoch completed in 0:01:41.948655\n",
      "###########################################################\n",
      "####################### Epoch 0189 #######################\n"
     ]
    },
    {
     "name": "stderr",
     "output_type": "stream",
     "text": [
      "100%|██████████| 8/8 [01:02<00:00,  7.87s/it]\n"
     ]
    },
    {
     "name": "stdout",
     "output_type": "stream",
     "text": [
      "train Loss: 0.0062, MSE: 0.0066, PSNR: 27.7993, SSIM: 0.8377\n"
     ]
    },
    {
     "name": "stderr",
     "output_type": "stream",
     "text": [
      "100%|██████████| 5/5 [00:37<00:00,  7.60s/it]\n"
     ]
    },
    {
     "name": "stdout",
     "output_type": "stream",
     "text": [
      "valid Loss: 0.0310, MSE: 0.0541, PSNR: 18.6883, SSIM: 0.6060\n",
      "Epoch completed in 0:01:41.429451\n",
      "###########################################################\n",
      "####################### Epoch 0190 #######################\n"
     ]
    },
    {
     "name": "stderr",
     "output_type": "stream",
     "text": [
      "100%|██████████| 8/8 [01:02<00:00,  7.86s/it]\n"
     ]
    },
    {
     "name": "stdout",
     "output_type": "stream",
     "text": [
      "train Loss: 0.0063, MSE: 0.0066, PSNR: 27.7702, SSIM: 0.8507\n"
     ]
    },
    {
     "name": "stderr",
     "output_type": "stream",
     "text": [
      "100%|██████████| 5/5 [00:36<00:00,  7.29s/it]\n"
     ]
    },
    {
     "name": "stdout",
     "output_type": "stream",
     "text": [
      "valid Loss: 0.0312, MSE: 0.0541, PSNR: 18.6912, SSIM: 0.6213\n",
      "Epoch completed in 0:01:39.811924\n",
      "###########################################################\n",
      "####################### Epoch 0191 #######################\n"
     ]
    },
    {
     "name": "stderr",
     "output_type": "stream",
     "text": [
      "100%|██████████| 8/8 [01:00<00:00,  7.59s/it]\n"
     ]
    },
    {
     "name": "stdout",
     "output_type": "stream",
     "text": [
      "train Loss: 0.0065, MSE: 0.0072, PSNR: 27.4357, SSIM: 0.8317\n"
     ]
    },
    {
     "name": "stderr",
     "output_type": "stream",
     "text": [
      "100%|██████████| 5/5 [00:37<00:00,  7.46s/it]\n"
     ]
    },
    {
     "name": "stdout",
     "output_type": "stream",
     "text": [
      "valid Loss: 0.0309, MSE: 0.0534, PSNR: 18.7423, SSIM: 0.6034\n",
      "Epoch completed in 0:01:38.487250\n",
      "###########################################################\n",
      "####################### Epoch 0192 #######################\n"
     ]
    },
    {
     "name": "stderr",
     "output_type": "stream",
     "text": [
      "100%|██████████| 8/8 [01:01<00:00,  7.70s/it]\n"
     ]
    },
    {
     "name": "stdout",
     "output_type": "stream",
     "text": [
      "train Loss: 0.0063, MSE: 0.0068, PSNR: 27.6503, SSIM: 0.8298\n"
     ]
    },
    {
     "name": "stderr",
     "output_type": "stream",
     "text": [
      "100%|██████████| 5/5 [00:36<00:00,  7.21s/it]\n"
     ]
    },
    {
     "name": "stdout",
     "output_type": "stream",
     "text": [
      "valid Loss: 0.0309, MSE: 0.0532, PSNR: 18.7630, SSIM: 0.6033\n",
      "Epoch completed in 0:01:38.089967\n",
      "###########################################################\n",
      "####################### Epoch 0193 #######################\n"
     ]
    },
    {
     "name": "stderr",
     "output_type": "stream",
     "text": [
      "100%|██████████| 8/8 [01:00<00:00,  7.54s/it]\n"
     ]
    },
    {
     "name": "stdout",
     "output_type": "stream",
     "text": [
      "train Loss: 0.0070, MSE: 0.0070, PSNR: 27.5531, SSIM: 0.8254\n"
     ]
    },
    {
     "name": "stderr",
     "output_type": "stream",
     "text": [
      "100%|██████████| 5/5 [00:35<00:00,  7.06s/it]\n"
     ]
    },
    {
     "name": "stdout",
     "output_type": "stream",
     "text": [
      "valid Loss: 0.0305, MSE: 0.0529, PSNR: 18.7883, SSIM: 0.6097\n",
      "Epoch completed in 0:01:36.086264\n",
      "###########################################################\n",
      "####################### Epoch 0194 #######################\n"
     ]
    },
    {
     "name": "stderr",
     "output_type": "stream",
     "text": [
      "100%|██████████| 8/8 [00:59<00:00,  7.44s/it]\n"
     ]
    },
    {
     "name": "stdout",
     "output_type": "stream",
     "text": [
      "train Loss: 0.0078, MSE: 0.0073, PSNR: 27.3513, SSIM: 0.8454\n"
     ]
    },
    {
     "name": "stderr",
     "output_type": "stream",
     "text": [
      "100%|██████████| 5/5 [00:35<00:00,  7.13s/it]\n"
     ]
    },
    {
     "name": "stdout",
     "output_type": "stream",
     "text": [
      "valid Loss: 0.0300, MSE: 0.0521, PSNR: 18.8482, SSIM: 0.5966\n",
      "Epoch completed in 0:01:35.978794\n",
      "###########################################################\n",
      "####################### Epoch 0195 #######################\n"
     ]
    },
    {
     "name": "stderr",
     "output_type": "stream",
     "text": [
      "100%|██████████| 8/8 [01:02<00:00,  7.86s/it]\n"
     ]
    },
    {
     "name": "stdout",
     "output_type": "stream",
     "text": [
      "train Loss: 0.0061, MSE: 0.0066, PSNR: 27.8284, SSIM: 0.8399\n"
     ]
    },
    {
     "name": "stderr",
     "output_type": "stream",
     "text": [
      "100%|██████████| 5/5 [00:36<00:00,  7.28s/it]\n"
     ]
    },
    {
     "name": "stdout",
     "output_type": "stream",
     "text": [
      "valid Loss: 0.0303, MSE: 0.0526, PSNR: 18.8115, SSIM: 0.6003\n",
      "Epoch completed in 0:01:39.792759\n",
      "###########################################################\n",
      "####################### Epoch 0196 #######################\n"
     ]
    },
    {
     "name": "stderr",
     "output_type": "stream",
     "text": [
      "100%|██████████| 8/8 [01:02<00:00,  7.77s/it]\n"
     ]
    },
    {
     "name": "stdout",
     "output_type": "stream",
     "text": [
      "train Loss: 0.0072, MSE: 0.0069, PSNR: 27.6267, SSIM: 0.8355\n"
     ]
    },
    {
     "name": "stderr",
     "output_type": "stream",
     "text": [
      "100%|██████████| 5/5 [00:35<00:00,  7.09s/it]\n"
     ]
    },
    {
     "name": "stdout",
     "output_type": "stream",
     "text": [
      "valid Loss: 0.0312, MSE: 0.0537, PSNR: 18.7195, SSIM: 0.6068\n",
      "Epoch completed in 0:01:38.054963\n",
      "###########################################################\n",
      "####################### Epoch 0197 #######################\n"
     ]
    },
    {
     "name": "stderr",
     "output_type": "stream",
     "text": [
      "100%|██████████| 8/8 [01:01<00:00,  7.65s/it]\n"
     ]
    },
    {
     "name": "stdout",
     "output_type": "stream",
     "text": [
      "train Loss: 0.0078, MSE: 0.0073, PSNR: 27.3861, SSIM: 0.8377\n"
     ]
    },
    {
     "name": "stderr",
     "output_type": "stream",
     "text": [
      "100%|██████████| 5/5 [00:36<00:00,  7.20s/it]\n"
     ]
    },
    {
     "name": "stdout",
     "output_type": "stream",
     "text": [
      "valid Loss: 0.0301, MSE: 0.0534, PSNR: 18.7423, SSIM: 0.6064\n",
      "Epoch completed in 0:01:37.688601\n",
      "###########################################################\n",
      "####################### Epoch 0198 #######################\n"
     ]
    },
    {
     "name": "stderr",
     "output_type": "stream",
     "text": [
      "100%|██████████| 8/8 [01:01<00:00,  7.64s/it]\n"
     ]
    },
    {
     "name": "stdout",
     "output_type": "stream",
     "text": [
      "train Loss: 0.0071, MSE: 0.0072, PSNR: 27.3935, SSIM: 0.8365\n"
     ]
    },
    {
     "name": "stderr",
     "output_type": "stream",
     "text": [
      "100%|██████████| 5/5 [00:36<00:00,  7.27s/it]\n"
     ]
    },
    {
     "name": "stdout",
     "output_type": "stream",
     "text": [
      "valid Loss: 0.0310, MSE: 0.0540, PSNR: 18.6953, SSIM: 0.6208\n",
      "Epoch completed in 0:01:37.932525\n",
      "###########################################################\n",
      "####################### Epoch 0199 #######################\n"
     ]
    },
    {
     "name": "stderr",
     "output_type": "stream",
     "text": [
      "100%|██████████| 8/8 [00:59<00:00,  7.46s/it]\n"
     ]
    },
    {
     "name": "stdout",
     "output_type": "stream",
     "text": [
      "train Loss: 0.0068, MSE: 0.0069, PSNR: 27.6175, SSIM: 0.8374\n"
     ]
    },
    {
     "name": "stderr",
     "output_type": "stream",
     "text": [
      "100%|██████████| 5/5 [00:35<00:00,  7.10s/it]\n"
     ]
    },
    {
     "name": "stdout",
     "output_type": "stream",
     "text": [
      "valid Loss: 0.0307, MSE: 0.0535, PSNR: 18.7392, SSIM: 0.6072\n",
      "Epoch completed in 0:01:35.652498\n",
      "###########################################################\n",
      "Training complete. Best validation loss: 0.0521 at epoch 194\n"
     ]
    }
   ],
   "source": [
    "import torch.multiprocessing as mp\n",
    "mp.set_start_method('spawn', force=True)  # Ensure spawn method for multiprocessing\n",
    "\n",
    "from accelerate import notebook_launcher\n",
    "from accelerate import Accelerator\n",
    "import torch\n",
    "import time\n",
    "from datetime import timedelta\n",
    "from tqdm import tqdm\n",
    "import wandb\n",
    "from torchmetrics.functional import peak_signal_noise_ratio as compute_psnr\n",
    "from torchmetrics.functional import structural_similarity_index_measure as compute_ssim\n",
    "# import piq\n",
    "\n",
    "EPS = 1e-8\n",
    "\n",
    "def compute_mse(input, target):\n",
    "    return torch.mean((input - target) ** 2, dim=[1, 2, 3])\n",
    "\n",
    "def training_loop(num_epochs: int = 2, \n",
    "                  mixed_precision: str = 'fp16', \n",
    "                  seed: int = 42, \n",
    "                  batch_size: int = 16):\n",
    "    \"\"\"\n",
    "    Unified training and evaluation loop using Accelerate for multi-GPU training.\n",
    "    \"\"\"\n",
    "    # Set the seed for reproducibility\n",
    "    set_seed(seed)\n",
    "\n",
    "    # Initialize Accelerator\n",
    "    accelerator = Accelerator(mixed_precision=mixed_precision)\n",
    "    \n",
    "    # Initialize loss, optimizer, dataloaders, and model\n",
    "    criterion = torch.nn.MSELoss()\n",
    "    train_dl, valid_dl, test_dl = get_dataloaders(batch_size=batch_size)\n",
    "    \n",
    "    with accelerator.main_process_first():\n",
    "        model = UNet(num_classes=3)\n",
    "        model_ssl_weights  = torch.load(\"ssl_model_wts.pt\")\n",
    "        model.load_state_dict(model_ssl_weights, strict=False)\n",
    "    \n",
    "    optimizer = torch.optim.AdamW(model.parameters(), lr=4e-5)\n",
    "    \n",
    "    # Prepare model, optimizer, and dataloaders with Accelerator\n",
    "    model, optimizer, train_dl, valid_dl = accelerator.prepare(\n",
    "        model, optimizer, train_dl, valid_dl\n",
    "    )\n",
    "    \n",
    "    best_val_loss = float('inf')\n",
    "    epoch_of_interest = None\n",
    "    train_MSE_list, train_PSNR_list = [], []\n",
    "    valid_MSE_list, valid_PSNR_list = [], []\n",
    "\n",
    "    for epoch in range(num_epochs):\n",
    "        accelerator.print(f\"####################### Epoch {epoch:04d} #######################\")\n",
    "        epoch_start_time = time.time()\n",
    "        \n",
    "        for phase, dataloader in [(\"train\", train_dl), (\"valid\", valid_dl)]:\n",
    "            is_training = phase == \"train\"\n",
    "            if is_training:\n",
    "                model.train()\n",
    "            else:\n",
    "                model.eval()\n",
    "\n",
    "            all_outputs = torch.tensor([]).to(accelerator.device)\n",
    "            all_targets = torch.tensor([]).to(accelerator.device)\n",
    "\n",
    "            losses = []\n",
    "            loop = tqdm(dataloader, disable=not accelerator.is_local_main_process)\n",
    "            for batch in loop:\n",
    "                inputs, targets = batch['img_rain'], batch['img_GT']\n",
    "                \n",
    "                with torch.set_grad_enabled(is_training):\n",
    "                    outputs = model(inputs)\n",
    "                    loss = criterion(outputs, targets)\n",
    "                    \n",
    "                    if is_training:\n",
    "                        # Backward pass and optimization\n",
    "                        accelerator.backward(loss)\n",
    "                        optimizer.step()\n",
    "                        optimizer.zero_grad()\n",
    "                    \n",
    "                # Gather metrics across devices\n",
    "                outputs, targets = accelerator.gather_for_metrics((outputs, targets))\n",
    "                all_outputs = torch.cat((all_outputs, outputs), dim=0)\n",
    "                all_targets = torch.cat((all_targets, targets), dim=0)\n",
    "                \n",
    "                losses.append(loss.item())\n",
    "\n",
    "            # Compute MSE and PSNR for the entire epoch\n",
    "            mse = torch.mean(compute_mse(all_outputs, all_targets))\n",
    "            psnr = torch.mean(compute_psnr(all_outputs, all_targets))\n",
    "            ssim = torch.mean(compute_ssim(all_outputs, all_targets))\n",
    "            # niqe = piq.niqe(all_outputs, data_range=1.0).mean()\n",
    "            # brisque = piq.brisque(all_outputs, data_range=1.0).mean()\n",
    "\n",
    "            \n",
    "            avg_loss = sum(losses) / len(losses)\n",
    "            accelerator.print(f\"{phase} Loss: {avg_loss:.4f}, MSE: {mse:.4f}, PSNR: {psnr:.4f}, SSIM: {ssim:.4f}\")\n",
    "            \n",
    "            # Log metrics to WandB\n",
    "            wandb_run.log({\n",
    "                f\"{phase}_loss\": avg_loss,\n",
    "                f\"{phase}_MSE\": mse.item(),\n",
    "                f\"{phase}_PSNR\": psnr.item(),\n",
    "                f\"{phase}_SSIM\": ssim.item(),\n",
    "                # f\"{phase}_NIQE\": niqe.item(),\n",
    "                # # f\"{phase}_BRISQUE\": brisque.item(),\n",
    "            })\n",
    "            \n",
    "            if not is_training and mse < best_val_loss:\n",
    "                best_val_loss = mse\n",
    "                epoch_of_interest = epoch\n",
    "\n",
    "                # Save the best model\n",
    "                accelerator.wait_for_everyone()\n",
    "                unwrapped_model = accelerator.unwrap_model(model)\n",
    "                accelerator.save(unwrapped_model.state_dict(), f\"/kaggle/working/best_model.pt\")\n",
    "            \n",
    "            # # Append metrics for plotting\n",
    "            # if is_training:\n",
    "            #     train_MSE_list.append(mse.item())\n",
    "            #     train_PSNR_list.append(psnr.item())\n",
    "            # else:\n",
    "            #     valid_MSE_list.append(mse.item())\n",
    "            #     valid_PSNR_list.append(psnr.item())\n",
    "\n",
    "        epoch_time = time.time() - epoch_start_time\n",
    "        accelerator.print(f\"Epoch completed in {str(timedelta(seconds=epoch_time))}\")\n",
    "        accelerator.print(\"###########################################################\")\n",
    "    \n",
    "    # Finalize and save the model\n",
    "    accelerator.wait_for_everyone()\n",
    "    unwrapped_model = accelerator.unwrap_model(model)\n",
    "    accelerator.save(unwrapped_model.state_dict(), f\"/kaggle/working/final_model.pt\")\n",
    "    accelerator.print(f\"Training complete. Best validation loss: {best_val_loss:.4f} at epoch {epoch_of_interest}\")\n",
    "\n",
    "def main():\n",
    "    \"\"\"\n",
    "    Entry point for notebook_launcher.\n",
    "    \"\"\"\n",
    "    training_loop(\n",
    "        num_epochs=200, \n",
    "        mixed_precision='fp16', \n",
    "        seed=42, \n",
    "        batch_size=32\n",
    "    )\n",
    "\n",
    "# Use notebook_launcher for parallelism\n",
    "notebook_launcher(main, args=(), num_processes=2)"
   ]
  },
  {
   "cell_type": "code",
   "execution_count": 18,
   "id": "a0f8b1c1",
   "metadata": {
    "execution": {
     "iopub.execute_input": "2024-11-25T23:38:55.947715Z",
     "iopub.status.busy": "2024-11-25T23:38:55.947302Z",
     "iopub.status.idle": "2024-11-25T23:38:57.353147Z",
     "shell.execute_reply": "2024-11-25T23:38:57.352179Z"
    },
    "papermill": {
     "duration": 1.684409,
     "end_time": "2024-11-25T23:38:57.355372",
     "exception": false,
     "start_time": "2024-11-25T23:38:55.670963",
     "status": "completed"
    },
    "tags": []
   },
   "outputs": [
    {
     "name": "stderr",
     "output_type": "stream",
     "text": [
      "\u001b[34m\u001b[1mwandb\u001b[0m:                                                                                \n",
      "\u001b[34m\u001b[1mwandb\u001b[0m: \n",
      "\u001b[34m\u001b[1mwandb\u001b[0m: Run history:\n",
      "\u001b[34m\u001b[1mwandb\u001b[0m:  train_MSE █▆▅▅▄▄▃▃▃▃▂▂▂▂▂▂▂▂▁▁▁▁▁▁▁▁▁▁▁▁▁▁▁▁▁▁▁▁▁▁\n",
      "\u001b[34m\u001b[1mwandb\u001b[0m: train_PSNR ▁▃▄▄▄▄▄▄▄▄▄▄▅▅▅▆▆▆▆▇▇▇▇▇▇▇██████████████\n",
      "\u001b[34m\u001b[1mwandb\u001b[0m: train_SSIM ▁▁▂▁▂▂▂▂▂▃▃▃▃▄▄▅▅▅▅▆▆▇▇▇▇█▇███▇▇████████\n",
      "\u001b[34m\u001b[1mwandb\u001b[0m: train_loss █▇▅▄▃▃▂▃▂▂▂▂▂▂▂▁▁▁▁▁▁▁▁▁▁▁▁▁▁▁▁▁▁▁▁▁▁▁▁▁\n",
      "\u001b[34m\u001b[1mwandb\u001b[0m:  valid_MSE █▅▃▃▃▃▃▃▃▂▂▂▂▂▂▂▂▁▂▁▁▁▁▁▁▁▁▁▁▁▁▁▁▁▁▁▁▁▁▁\n",
      "\u001b[34m\u001b[1mwandb\u001b[0m: valid_PSNR ▁▁▁▂▃▃▃▃▄▃▅▅▆▆▇▇▇▇▇▇████████████████████\n",
      "\u001b[34m\u001b[1mwandb\u001b[0m: valid_SSIM ▁▃▄▄▄▄▄▅▅▅▅▆▆▆▆▆▆▇▇▇▇█▇▇█▇██████████████\n",
      "\u001b[34m\u001b[1mwandb\u001b[0m: valid_loss █▇█▆▅▅▆▆▄▄▆▅▆▃▃▅▅▂▁▄▄▄▁▁▄▄▁▁▁▄▄▄▁▁▁▄▁▄▁▁\n",
      "\u001b[34m\u001b[1mwandb\u001b[0m: \n",
      "\u001b[34m\u001b[1mwandb\u001b[0m: Run summary:\n",
      "\u001b[34m\u001b[1mwandb\u001b[0m:  train_MSE 0.00688\n",
      "\u001b[34m\u001b[1mwandb\u001b[0m: train_PSNR 27.61749\n",
      "\u001b[34m\u001b[1mwandb\u001b[0m: train_SSIM 0.8374\n",
      "\u001b[34m\u001b[1mwandb\u001b[0m: train_loss 0.00684\n",
      "\u001b[34m\u001b[1mwandb\u001b[0m:  valid_MSE 0.05347\n",
      "\u001b[34m\u001b[1mwandb\u001b[0m: valid_PSNR 18.73917\n",
      "\u001b[34m\u001b[1mwandb\u001b[0m: valid_SSIM 0.6072\n",
      "\u001b[34m\u001b[1mwandb\u001b[0m: valid_loss 0.07059\n",
      "\u001b[34m\u001b[1mwandb\u001b[0m: \n",
      "\u001b[34m\u001b[1mwandb\u001b[0m: 🚀 View run \u001b[33mtrail_2024-11-25 18:09:58.422502\u001b[0m at: \u001b[34m\u001b[4mhttps://wandb.ai/vish-tej99-fairleigh-dickinson-university/image_deraining_baseline/runs/lhhi20wf\u001b[0m\n",
      "\u001b[34m\u001b[1mwandb\u001b[0m: ⭐️ View project at: \u001b[34m\u001b[4mhttps://wandb.ai/vish-tej99-fairleigh-dickinson-university/image_deraining_baseline\u001b[0m\n",
      "\u001b[34m\u001b[1mwandb\u001b[0m: Synced 5 W&B file(s), 0 media file(s), 0 artifact file(s) and 0 other file(s)\n",
      "\u001b[34m\u001b[1mwandb\u001b[0m: Find logs at: \u001b[35m\u001b[1m./wandb/run-20241125_180958-lhhi20wf/logs\u001b[0m\n"
     ]
    }
   ],
   "source": [
    "wandb_run.finish()"
   ]
  },
  {
   "cell_type": "code",
   "execution_count": 19,
   "id": "f0c150da",
   "metadata": {
    "execution": {
     "iopub.execute_input": "2024-11-25T23:38:57.923938Z",
     "iopub.status.busy": "2024-11-25T23:38:57.923633Z",
     "iopub.status.idle": "2024-11-25T23:38:58.032638Z",
     "shell.execute_reply": "2024-11-25T23:38:58.031728Z"
    },
    "papermill": {
     "duration": 0.380376,
     "end_time": "2024-11-25T23:38:58.034362",
     "exception": false,
     "start_time": "2024-11-25T23:38:57.653986",
     "status": "completed"
    },
    "tags": []
   },
   "outputs": [
    {
     "name": "stderr",
     "output_type": "stream",
     "text": [
      "/tmp/ipykernel_23/73654474.py:1: FutureWarning: You are using `torch.load` with `weights_only=False` (the current default value), which uses the default pickle module implicitly. It is possible to construct malicious pickle data which will execute arbitrary code during unpickling (See https://github.com/pytorch/pytorch/blob/main/SECURITY.md#untrusted-models for more details). In a future release, the default value for `weights_only` will be flipped to `True`. This limits the functions that could be executed during unpickling. Arbitrary objects will no longer be allowed to be loaded via this mode unless they are explicitly allowlisted by the user via `torch.serialization.add_safe_globals`. We recommend you start setting `weights_only=True` for any use case where you don't have full control of the loaded file. Please open an issue on GitHub for any issues related to this experimental feature.\n",
      "  model2 = torch.load(\"/kaggle/working/best_model.pt\", map_location = 'cpu')\n"
     ]
    }
   ],
   "source": [
    "model2 = torch.load(\"/kaggle/working/best_model.pt\", map_location = 'cpu')"
   ]
  },
  {
   "cell_type": "code",
   "execution_count": null,
   "id": "09df1a66",
   "metadata": {
    "papermill": {
     "duration": null,
     "end_time": null,
     "exception": null,
     "start_time": null,
     "status": "pending"
    },
    "tags": []
   },
   "outputs": [],
   "source": []
  }
 ],
 "metadata": {
  "kaggle": {
   "accelerator": "nvidiaTeslaT4",
   "dataSources": [
    {
     "datasetId": 5767320,
     "sourceId": 9481431,
     "sourceType": "datasetVersion"
    },
    {
     "datasetId": 5767352,
     "sourceId": 9481473,
     "sourceType": "datasetVersion"
    }
   ],
   "dockerImageVersionId": 30776,
   "isGpuEnabled": true,
   "isInternetEnabled": true,
   "language": "python",
   "sourceType": "notebook"
  },
  "kernelspec": {
   "display_name": "Python 3 (ipykernel)",
   "language": "python",
   "name": "python3"
  },
  "language_info": {
   "codemirror_mode": {
    "name": "ipython",
    "version": 3
   },
   "file_extension": ".py",
   "mimetype": "text/x-python",
   "name": "python",
   "nbconvert_exporter": "python",
   "pygments_lexer": "ipython3",
   "version": "3.12.4"
  },
  "papermill": {
   "default_parameters": {},
   "duration": 19793.092933,
   "end_time": "2024-11-25T23:39:04.298818",
   "environment_variables": {},
   "exception": true,
   "input_path": "__notebook__.ipynb",
   "output_path": "__notebook__.ipynb",
   "parameters": {},
   "start_time": "2024-11-25T18:09:11.205885",
   "version": "2.6.0"
  }
 },
 "nbformat": 4,
 "nbformat_minor": 5
}
